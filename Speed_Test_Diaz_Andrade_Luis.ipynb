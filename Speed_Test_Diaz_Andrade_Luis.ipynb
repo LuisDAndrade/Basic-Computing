{
  "nbformat": 4,
  "nbformat_minor": 0,
  "metadata": {
    "colab": {
      "provenance": [],
      "authorship_tag": "ABX9TyMWy5rI9TepIlRB6YBMohgf",
      "include_colab_link": true
    },
    "kernelspec": {
      "name": "python3",
      "display_name": "Python 3"
    },
    "language_info": {
      "name": "python"
    }
  },
  "cells": [
    {
      "cell_type": "markdown",
      "metadata": {
        "id": "view-in-github",
        "colab_type": "text"
      },
      "source": [
        "<a href=\"https://colab.research.google.com/github/LuisDAndrade/Basic-Computing/blob/main/Speed_Test_Diaz_Andrade_Luis.ipynb\" target=\"_parent\"><img src=\"https://colab.research.google.com/assets/colab-badge.svg\" alt=\"Open In Colab\"/></a>"
      ]
    },
    {
      "cell_type": "markdown",
      "source": [
        "#**TECNM | CAMPUS PABELLÓN DE ARTEAGA** ⚙️💡\n",
        "\n",
        "#**Master of Science in Mechatronics Engineering** 📊"
      ],
      "metadata": {
        "id": "EB29k1AfHl5z"
      }
    },
    {
      "cell_type": "markdown",
      "source": [
        "---\n",
        "##**BASIC COMPUTING I 🧑🏻‍💻**  \n",
        "---\n",
        "##***ACT. 3.3 SPEED TEST 🚀***  \n",
        "\n",
        "* **Professor: Dr. Francisco Villanueva Mejia👨🏻‍🏫**\n",
        "\n",
        "* **Student: Luis Bryant Díaz Andrade 🧑🏻‍💻**\n",
        "\n",
        "*Date: May 26th, 2023*\n",
        "\n",
        "---"
      ],
      "metadata": {
        "id": "bwC_vEQQHlzY"
      }
    },
    {
      "cell_type": "markdown",
      "source": [
        "##**i. Introduction.**\n",
        "\n",
        "**In this program we will test the internet speed, both downstream and upstream, this will be done with the help of the Speedtest-cli library, also we will define a function to convert the bytes to megabits per second, in addition, we have created a more elegant and attractive design for the user.**"
      ],
      "metadata": {
        "id": "gjjhdwnBIoou"
      }
    },
    {
      "cell_type": "code",
      "execution_count": 1,
      "metadata": {
        "colab": {
          "base_uri": "https://localhost:8080/"
        },
        "id": "5NbiheX7HX5s",
        "outputId": "c1642f67-400a-4763-bd13-889bb21d74c3"
      },
      "outputs": [
        {
          "output_type": "stream",
          "name": "stdout",
          "text": [
            "Looking in indexes: https://pypi.org/simple, https://us-python.pkg.dev/colab-wheels/public/simple/\n",
            "Requirement already satisfied: speedtest-cli in /usr/local/lib/python3.10/dist-packages (2.1.3)\n"
          ]
        }
      ],
      "source": [
        "#First we import the Speedtest library with Pip\n",
        "\n",
        "!pip install speedtest-cli"
      ]
    },
    {
      "cell_type": "code",
      "source": [
        "!pip install colorama"
      ],
      "metadata": {
        "colab": {
          "base_uri": "https://localhost:8080/"
        },
        "id": "iALIGK_cQBP1",
        "outputId": "b2192212-d10e-4051-9142-9be3f8acd358"
      },
      "execution_count": 2,
      "outputs": [
        {
          "output_type": "stream",
          "name": "stdout",
          "text": [
            "Looking in indexes: https://pypi.org/simple, https://us-python.pkg.dev/colab-wheels/public/simple/\n",
            "Requirement already satisfied: colorama in /usr/local/lib/python3.10/dist-packages (0.4.6)\n"
          ]
        }
      ]
    },
    {
      "cell_type": "code",
      "source": [
        "import math \n",
        "import speedtest \n",
        "from colorama import Fore, Style "
      ],
      "metadata": {
        "id": "I6sQv3SJMN1c"
      },
      "execution_count": 3,
      "outputs": []
    },
    {
      "cell_type": "code",
      "source": [
        "def bytes_to_mb(size_bytes):\n",
        "          i= int(math.floor(math.log(size_bytes, 1024)))\n",
        "          pow = math.pow(1024,i)\n",
        "          size = round(size_bytes/pow,2)\n",
        "          return f'{size} Mpbs'\n",
        "\n",
        "\n",
        "wifi = speedtest.Speedtest()\n",
        "\n",
        "print('Getting download speed (...)')\n",
        "\n",
        "download_speed = wifi.download()\n",
        "\n",
        "\n",
        "print('Getting upload speed (...)')\n",
        "\n",
        "upload_speed = wifi.upload()\n",
        "\n",
        "print(' ')\n",
        "\n",
        "print('Download Speed: ', bytes_to_mb(download_speed))\n",
        "\n",
        "print('Upload Speed: ', bytes_to_mb(upload_speed))\n"
      ],
      "metadata": {
        "colab": {
          "base_uri": "https://localhost:8080/"
        },
        "id": "wdKztGFmI-0X",
        "outputId": "06bd3a0a-b7d1-4792-de32-bd75be9e002d"
      },
      "execution_count": 4,
      "outputs": [
        {
          "output_type": "stream",
          "name": "stdout",
          "text": [
            "Getting download speed (...)\n",
            "Getting upload speed (...)\n",
            " \n",
            "Download Speed:  2.32 Mpbs\n",
            "Upload Speed:  502.26 Mpbs\n"
          ]
        }
      ]
    },
    {
      "cell_type": "markdown",
      "source": [
        "**EXTRA EXCERCISE**"
      ],
      "metadata": {
        "id": "9IL7p7BZkN8H"
      }
    },
    {
      "cell_type": "code",
      "source": [
        "print(Fore.BLACK + '='*100)\n",
        "\n",
        "print(Fore.YELLOW + '🚀Getting download speed (...)'.center(175))\n",
        "\n",
        "download_speed = wifi.download()\n",
        "\n",
        "print('Ready ✅✅ '.center(100))\n",
        "\n",
        "print(Fore.YELLOW + '🚀Getting upload speed (...)'.center(175))\n",
        "\n",
        "upload_speed = wifi.upload()\n",
        "\n",
        "print('Ready ✅✅ '.center(100))\n",
        "\n",
        "print(Fore.BLACK+ '='*100)\n",
        "\n",
        "print(' ')\n",
        "\n",
        "print(' ')\n",
        "\n",
        "print(Fore.MAGENTA + '--'*100)\n",
        "\n",
        "print(' ')\n",
        "print(Fore.CYAN + '✅✅ INTERNET SPEED TEST RESULTS  ✅✅'.center(175))\n",
        "print(' ')\n",
        "\n",
        "print(Fore.MAGENTA + '--'*100)\n",
        "\n",
        "print(Fore.GREEN.center(50) +  '⚡Download Speed: ', bytes_to_mb(download_speed),   '   |    ', Fore.RED +  '⚡Upload Speed: ',    bytes_to_mb(upload_speed))\n",
        "print(Fore.MAGENTA + '--'*100)\n",
        "\n",
        "print(' ')\n",
        "print(Fore.BLUE+' THANK YOU FOR USING OUR SPEEDTEST🤩'.center(175))\n",
        "print(' ')\n",
        "print(Fore.MAGENTA + '--'*100)\n",
        "print(' ')\n",
        "print(Fore.BLUE+' POWERED BY: 🏫 TECNM | CAMPUS PABELLON DE ARTEAGA🏫'.center(175))\n",
        "print(' ')\n",
        "print(Fore.MAGENTA + '--'*100)\n",
        "print(' ')"
      ],
      "metadata": {
        "colab": {
          "base_uri": "https://localhost:8080/"
        },
        "id": "kBYxHxwzOuXt",
        "outputId": "74f1aa7d-9706-4e9a-e2aa-788aeaf35035"
      },
      "execution_count": 5,
      "outputs": [
        {
          "output_type": "stream",
          "name": "stdout",
          "text": [
            "\u001b[30m====================================================================================================\n",
            "\u001b[33m                                                                         🚀Getting download speed (...)                                                                         \n",
            "                                             Ready ✅✅                                               \n",
            "\u001b[33m                                                                          🚀Getting upload speed (...)                                                                          \n",
            "                                             Ready ✅✅                                               \n",
            "\u001b[30m====================================================================================================\n",
            " \n",
            " \n",
            "\u001b[35m--------------------------------------------------------------------------------------------------------------------------------------------------------------------------------------------------------\n",
            " \n",
            "\u001b[36m                                                                       ✅✅ INTERNET SPEED TEST RESULTS  ✅✅                                                                      \n",
            " \n",
            "\u001b[35m--------------------------------------------------------------------------------------------------------------------------------------------------------------------------------------------------------\n",
            "                      \u001b[32m                       ⚡Download Speed:  2.26 Mpbs    |     \u001b[31m⚡Upload Speed:  411.63 Mpbs\n",
            "\u001b[35m--------------------------------------------------------------------------------------------------------------------------------------------------------------------------------------------------------\n",
            " \n",
            "\u001b[34m                                                                       THANK YOU FOR USING OUR SPEEDTEST🤩                                                                      \n",
            " \n",
            "\u001b[35m--------------------------------------------------------------------------------------------------------------------------------------------------------------------------------------------------------\n",
            " \n",
            "\u001b[34m                                                                POWERED BY: 🏫 TECNM | CAMPUS PABELLON DE ARTEAGA🏫                                                              \n",
            " \n",
            "\u001b[35m--------------------------------------------------------------------------------------------------------------------------------------------------------------------------------------------------------\n",
            " \n"
          ]
        }
      ]
    }
  ]
}