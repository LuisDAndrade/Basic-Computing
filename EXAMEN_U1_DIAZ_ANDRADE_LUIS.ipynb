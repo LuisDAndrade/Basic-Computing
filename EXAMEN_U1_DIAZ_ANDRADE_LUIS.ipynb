{
 "cells": [
  {
   "attachments": {},
   "cell_type": "markdown",
   "metadata": {},
   "source": [
    "# EXAM UNIT 1. 📚\n",
    "\n",
    "# Notebook. Python Introduction"
   ]
  },
  {
   "attachments": {},
   "cell_type": "markdown",
   "metadata": {},
   "source": [
    "***Ing. Luis Bryant Diaz Andrade*** 🧠\n",
    "\n",
    "***Professor: Dr. Francisco Villanueva Mejia.*** 🧑‍🏫"
   ]
  },
  {
   "attachments": {},
   "cell_type": "markdown",
   "metadata": {},
   "source": [
    "**Brief Introduction.**\n",
    "\n",
    "***(Python, 2023) Python is a high-level interpreted programming language whose philosophy emphasizes the readability of its code.. Python is an easy to learn, powerful programming language. It has efficient high-level data structures and a simple but effective approach to object-oriented programming. Python’s elegant syntax and dynamic typing, together with its interpreted nature, make it an ideal language for scripting and rapid application development in many areas on most platforms.***\n",
    "\n",
    "*In the present exam a small introductory manual to Python will be made, with the objective of demonstrating the tools and abilities with which it is found to handle the present programming language.*\n",
    "*The program will be framed by topics, these topics will be carried out with a common theme and data: Grades of 4th semester students of Mechatronics Engineering (Belonging to TECNM | Campus Pabellón de Arteaga).✏* "
   ]
  },
  {
   "attachments": {},
   "cell_type": "markdown",
   "metadata": {},
   "source": [
    "\n",
    "**Índice General**\n",
    "\n",
    "---\n",
    "---\n",
    "i. [***Variables 🖌***](#Var)\n",
    "\n",
    "ii. [***Types of data 🧷***](#TypesD)\n",
    "\n",
    "iii. [***Functions 🧮***](#Functions)\n",
    "\n",
    "iv. [***Libraries 📚***](#Libraries)\n",
    "\n",
    "v. [***Table Manipulation ✖︎***](#Table_Manipulation)\n",
    "\n",
    "vi. [***Simple plots 📉***](#Simple_plots)\n",
    "\n",
    "vii. [***Multiple plots 📈***](#Multiple_plots)\n"
   ]
  },
  {
   "attachments": {},
   "cell_type": "markdown",
   "metadata": {},
   "source": [
    "***i. Variables*** <a class=\"anchor\" id=\"Var\"></a>\n",
    "\n",
    "---"
   ]
  },
  {
   "attachments": {},
   "cell_type": "markdown",
   "metadata": {},
   "source": [
    "*(IBM, 2023) A variable is a named data element whose value may change during the course of program execution. A variable name must follow the naming convention of an identifier (alphabetic character or number and underscore). When more than one variable is defined in a single declaration, the name must be separated by commas. Each variable declaration must end with a semicolon. Variable names cannot match a reserved word.*\n"
   ]
  },
  {
   "attachments": {},
   "cell_type": "markdown",
   "metadata": {},
   "source": [
    "Defining variables with $z=2$ and $k=4$: Thus, both expressions can be added, subtracted, multiplied, divided and exponentiated in the following ways.\n",
    "\n",
    "$Added= z+k$\n",
    "\n",
    "$Substracted=z-k$\n",
    "\n",
    "$Multiplied={z}*{k}$\n",
    "\n",
    "$Divided=(\\frac{z}{k})$\n",
    "\n",
    "$Exponentiated=({z}**{k})$\n",
    "\n",
    "$Boolean=({z}=={k})$\n",
    "\n",
    "***The comparison operator == compares whether two values are equal. It returns a type of variable called \"boolean\", which can be true or false, as we will explain in the next section.***"
   ]
  },
  {
   "cell_type": "code",
   "execution_count": 9,
   "metadata": {},
   "outputs": [],
   "source": [
    "z = 2\n",
    "k = 4\n",
    "add= z + k \n",
    "sub=z-k\n",
    "mul=z*k\n",
    "div=z/k\n",
    "ex=z**k"
   ]
  },
  {
   "cell_type": "code",
   "execution_count": 16,
   "metadata": {},
   "outputs": [
    {
     "name": "stdout",
     "output_type": "stream",
     "text": [
      "La suma es igual a: 6\n",
      "La resta es igual a: -2\n",
      "La multiplicación es igual a: 8\n",
      "La división es igual a: 0.5\n",
      "El resultado de elevar z a la k es: 16\n",
      "¿Z es exactamente igual a K? False\n"
     ]
    }
   ],
   "source": [
    "print('La suma es igual a:', add)\n",
    "print('La resta es igual a:', sub)\n",
    "print('La multiplicación es igual a:', mul)\n",
    "print('La división es igual a:', div)\n",
    "print('El resultado de elevar z a la k es:', ex)\n",
    "\n",
    "print('¿Z es exactamente igual a K?', z==k)"
   ]
  },
  {
   "attachments": {},
   "cell_type": "markdown",
   "metadata": {},
   "source": [
    "***ii. Data Types*** <a class=\"anchor\" id=\"TypesD\"></a>\n",
    "\n",
    "---"
   ]
  },
  {
   "attachments": {},
   "cell_type": "markdown",
   "metadata": {},
   "source": [
    "*(IBM, 2023) Python data types are a classification of similar data values. In Python, we do not explicitly declare the data type of a variable. The Python interpreter interprets a value and then automatically assigns it to the appropriate data type*\n",
    "\n",
    "**I. Numbers**\n",
    "\n",
    "i. Int. It can store all integer values, of any size.\n",
    "\n",
    "ii. Float. Includes values with decimal point, has no restrictions with accuracies.\n",
    "\n",
    "iii. Complex. Stores numbers in a complex form of the form: $x + yj$\n"
   ]
  },
  {
   "cell_type": "code",
   "execution_count": 23,
   "metadata": {},
   "outputs": [
    {
     "name": "stdout",
     "output_type": "stream",
     "text": [
      "<class 'int'>\n",
      "<class 'float'>\n",
      "<class 'complex'>\n"
     ]
    }
   ],
   "source": [
    "'Example. '\n",
    "'We continue to manage our network of k and z characters.'\n",
    "\n",
    "print(type(k))\n",
    "print(type(k+0.1))\n",
    "print(type(k+5j))"
   ]
  },
  {
   "attachments": {},
   "cell_type": "markdown",
   "metadata": {},
   "source": [
    "**II. Strings**\n",
    "\n",
    "i. A Python string is a sequence of characters and is therefore also called a character string. Strings in Python are immutable; the same String instance cannot be modified. Instead, to update the string value, a new updated instance must be provided."
   ]
  },
  {
   "cell_type": "code",
   "execution_count": 29,
   "metadata": {},
   "outputs": [
    {
     "name": "stdout",
     "output_type": "stream",
     "text": [
      "Hi Im Luis and Im Learning Python, my last name is Andrade. \n"
     ]
    }
   ],
   "source": [
    "'Example. '\n",
    "'We continue to manage our network of k and z characters.'\n",
    "\n",
    "str1='Hi '\n",
    "str2='Im Luis '\n",
    "str3='and Im Learning '\n",
    "str4='Python'\n",
    "\n",
    "print(str1+str2+str3+str4+\", my last name is Andrade. \")"
   ]
  },
  {
   "attachments": {},
   "cell_type": "markdown",
   "metadata": {},
   "source": [
    "**III. Booleans**\n",
    "\n",
    "i. Boolean values in Python include two possible values: True andFalse.\n",
    "ii. These values are generally used in conditional statements. These two values can be used as operands for logical operations such as and , or , not , etc."
   ]
  },
  {
   "cell_type": "code",
   "execution_count": 46,
   "metadata": {},
   "outputs": [
    {
     "name": "stdout",
     "output_type": "stream",
     "text": [
      "i. ¿Z es exactamente igual a K? False\n",
      " \n",
      "ii. Si a z le sumamos 2, ¿Es exactamente igual a k?.  True\n",
      " \n",
      "iii. Si ambos valores los elevamos al cuadrado\n",
      "¿Son exactamente iguales?:  False\n",
      " \n",
      "iv. Si a z lo elevamos a la potencia 4, y a \n",
      "k solamente al cuadrado. ¿Son exactamente iguales?  True\n"
     ]
    }
   ],
   "source": [
    "'Example. '\n",
    "'We continue to manage our network of k and z characters.'\n",
    "\n",
    "print('i. ¿Z es exactamente igual a K?', z==k)\n",
    "print(' ')\n",
    "print('ii. Si a z le sumamos 2, ¿Es exactamente igual a k?. ', (z+2)==k)\n",
    "print(' ')\n",
    "print('''iii. Si ambos valores los elevamos al cuadrado\n",
    "¿Son exactamente iguales?: ''', (z**2)==(k**2))\n",
    "print(' ')\n",
    "print('''iv. Si a z lo elevamos a la potencia 4, y a \n",
    "k solamente al cuadrado. ¿Son exactamente iguales? ''', (z**4)==(k**2))\n"
   ]
  },
  {
   "attachments": {},
   "cell_type": "markdown",
   "metadata": {},
   "source": [
    "**IV. Dictionary**\n",
    "\n",
    "Dictionaries are used to store key-value pairs. The Python dictionary is an ordered collection of data values; however, we can also retrieve the elements in the order in which we insert them. A dictionary is mutable, which means that we can edit the elements of a dictionary."
   ]
  },
  {
   "cell_type": "code",
   "execution_count": 57,
   "metadata": {},
   "outputs": [
    {
     "name": "stdout",
     "output_type": "stream",
     "text": [
      "Los datos que nos proporcionaste son: \n",
      "\n",
      " {'Name': 'Luis', 'edad': 23, 'email.': 'luisdiaz145y@gmail.com', 'alternative email': 'luisdiaz145y@outlook.com'}\n"
     ]
    }
   ],
   "source": [
    "dict = {\n",
    "'Name': 'Luis',\n",
    "\n",
    "'edad': 23,\n",
    "\n",
    "'email.': 'luisdiaz145y@gmail.com',\n",
    "'alternative email': 'luisdiaz145y@outlook.com'\n",
    "\n",
    "}\n",
    "\n",
    "print('''Los datos que nos proporcionaste son: \n",
    "\n",
    "''', dict)"
   ]
  },
  {
   "attachments": {},
   "cell_type": "markdown",
   "metadata": {},
   "source": [
    "**V. Lists**\n",
    "\n",
    "i. Lists and tuples are used to store a sequence of different types of data.\n",
    "\n",
    "ii. Lists are addressed with [ ], while tuples are addressed with ( ). The Python List is mutable while tuples are immutable. Both lists can be accessed through an index."
   ]
  },
  {
   "cell_type": "code",
   "execution_count": 69,
   "metadata": {},
   "outputs": [
    {
     "name": "stdout",
     "output_type": "stream",
     "text": [
      "The list consists of the following data:\n",
      "1. The autor is Luis Andrade\n",
      "\n",
      "2. 2\n",
      "\n",
      "3. 4\n",
      "\n",
      "4. {'Name': 'Luis', 'edad': 23, 'email.': 'luisdiaz145y@gmail.com', 'alternative email': 'luisdiaz145y@outlook.com'}\n",
      "\n",
      "5. (4+5j)\n"
     ]
    }
   ],
   "source": [
    "list = ['The autor is Luis Andrade', z, k, dict, 4+5j]\n",
    "print('The list consists of the following data:')\n",
    "\n",
    "print('1.', list[0])\n",
    "print('')\n",
    "print('2.', list[1])\n",
    "print('')\n",
    "print('3.', list[2])\n",
    "print('')\n",
    "print('4.', list[3])\n",
    "print('')\n",
    "print('5.', list[4])\n"
   ]
  },
  {
   "attachments": {},
   "cell_type": "markdown",
   "metadata": {},
   "source": [
    "**VI. Sets**\n",
    "\n",
    "i. Sets are unordered collections of unique data values. Data values can be of any data type as long as they are hashable and immutable.\n",
    "\n",
    "ii. Sets can be initialized with data values separated by a comma and enclosed in {} braces."
   ]
  },
  {
   "cell_type": "code",
   "execution_count": 79,
   "metadata": {},
   "outputs": [
    {
     "name": "stdout",
     "output_type": "stream",
     "text": [
      "The data set is as follows: \n",
      " \n",
      "I. {2, 'Im playing Basketball and programming at the same time', 4}\n"
     ]
    }
   ],
   "source": [
    "set1={z,k,'Im playing Basketball and programming at the same time'}\n",
    "\n",
    "print('The data set is as follows: ')\n",
    "print(' ')\n",
    "print('I.', set1)"
   ]
  },
  {
   "attachments": {},
   "cell_type": "markdown",
   "metadata": {},
   "source": [
    "***iii. Functions*** <a class=\"anchor\" id=\"Functions\"></a>\n",
    "\n",
    "---"
   ]
  },
  {
   "attachments": {},
   "cell_type": "markdown",
   "metadata": {},
   "source": [
    "*(IBM, 2023) A function in Python (and in any other programming language) is a block of lines of code or a set of instructions whose purpose is to perform a specific task. It can be reused at will to repeat that task.*\n",
    "*Functions help us to make code easier to read and understand. In addition, knowing how to generate functions speaks very well of a programmer's abstraction capacity, while it is one of the most difficult technical skills to consolidate in software development. To get you started on this path, we will give you a basic guide on how to define them.*\n",
    "\n",
    "**Examples**\n",
    "*We continue to manage our network of k and z characters.*\n"
   ]
  },
  {
   "attachments": {},
   "cell_type": "markdown",
   "metadata": {},
   "source": [
    "*I. Print Function.*\n",
    "\n",
    "\n",
    "Print in the command console\n"
   ]
  },
  {
   "cell_type": "code",
   "execution_count": 81,
   "metadata": {},
   "outputs": [
    {
     "name": "stdout",
     "output_type": "stream",
     "text": [
      "K es igual a: 4\n",
      "Z es igual a: 2\n"
     ]
    }
   ],
   "source": [
    "print('K es igual a:', k)\n",
    "print('Z es igual a:', z)"
   ]
  },
  {
   "attachments": {},
   "cell_type": "markdown",
   "metadata": {},
   "source": [
    "*II. Len Function*\n",
    "\n",
    "Returns the length (the number of elements) of an object."
   ]
  },
  {
   "cell_type": "code",
   "execution_count": 89,
   "metadata": {},
   "outputs": [
    {
     "name": "stdout",
     "output_type": "stream",
     "text": [
      "1. The length of \"I love Python\" is a total of 14 characters\n",
      "2. The length of \"The Best Teacher is Dr. Francisco\" is a total of 33 characters\n"
     ]
    }
   ],
   "source": [
    "print('1. The length of \"I love Python\" is a total of',len('I love Python!'),'characters')\n",
    "print('2. The length of \"The Best Teacher is Dr. Francisco\" is a total of',len('The Best Teacher is Dr. Francisco'),'characters')\n"
   ]
  },
  {
   "attachments": {},
   "cell_type": "markdown",
   "metadata": {},
   "source": [
    "*III. Max and min Function*\n",
    "\n",
    "Returns the largest and smallest element respectively in an iterable (all elements must be of the same type) or the largest (or smallest) of two or more arguments."
   ]
  },
  {
   "cell_type": "code",
   "execution_count": 99,
   "metadata": {},
   "outputs": [
    {
     "name": "stdout",
     "output_type": "stream",
     "text": [
      "1. The largest number in the list is:  8\n",
      "2. The smallest number in the list is:  1\n",
      "3. The smallest and largest number in the list is:  2 and 4 respective\n"
     ]
    }
   ],
   "source": [
    "print('1. The largest number in the list is: ', max(2,3,1,2,3,7,4,5,7,3,2,8))\n",
    "print('2. The smallest number in the list is: ', min(2,3,1,2,3,7,4,5,7,3,2,8))\n",
    "print('3. The smallest and largest number in the list is: ', min(z,k), 'and',  max(z,k), 'respective')"
   ]
  },
  {
   "attachments": {},
   "cell_type": "markdown",
   "metadata": {},
   "source": [
    "*IV. divmod Function*\n",
    "\n",
    "Returns the quotient and the remainder of dividing two numbers."
   ]
  },
  {
   "cell_type": "code",
   "execution_count": 101,
   "metadata": {},
   "outputs": [
    {
     "name": "stdout",
     "output_type": "stream",
     "text": [
      "1. The quotient and the remainder of dividing are:  (0, 2)\n",
      "2. The quotient and the remainder of dividing are:  (2, 0)\n"
     ]
    }
   ],
   "source": [
    "print('1. The quotient and the remainder of dividing are: ', divmod(z,k))\n",
    "print('2. The quotient and the remainder of dividing are: ', divmod(6,3))\n"
   ]
  },
  {
   "attachments": {},
   "cell_type": "markdown",
   "metadata": {},
   "source": [
    "*V. Absolute Function*\n",
    "\n",
    "Returns the absolute value of a number."
   ]
  },
  {
   "cell_type": "code",
   "execution_count": 106,
   "metadata": {},
   "outputs": [
    {
     "name": "stdout",
     "output_type": "stream",
     "text": [
      "1. The absolute number of the negative of z is: :  2\n",
      "2. The absolute number of the negative of k is: :  4\n"
     ]
    }
   ],
   "source": [
    "print('1. The absolute number of the negative of z is: : ', abs(-z))\n",
    "print('2. The absolute number of the negative of k is: : ', abs(-k))"
   ]
  },
  {
   "attachments": {},
   "cell_type": "markdown",
   "metadata": {},
   "source": [
    "*VI. Complex Function* (real, imaginary) \n",
    "\n",
    "Returns the complex number with the real value + imag*1j. It also converts a string or a number to a complex number."
   ]
  },
  {
   "cell_type": "code",
   "execution_count": 108,
   "metadata": {},
   "outputs": [
    {
     "name": "stdout",
     "output_type": "stream",
     "text": [
      "1. The complex number of z and k when k is the real part is: (4+2j)\n",
      "2. The complex number of k and z when z is the real part is: (2+4j)\n"
     ]
    }
   ],
   "source": [
    "print('1. The complex number of z and k when k is the real part is:', complex(k,z))\n",
    "print('2. The complex number of k and z when z is the real part is:', complex(z,k))"
   ]
  },
  {
   "attachments": {},
   "cell_type": "markdown",
   "metadata": {},
   "source": [
    "*VI. Pow Function* (base, exp) \n",
    "\n",
    "Returns base raised to exp."
   ]
  },
  {
   "cell_type": "code",
   "execution_count": 110,
   "metadata": {},
   "outputs": [
    {
     "name": "stdout",
     "output_type": "stream",
     "text": [
      "1. The result of raising k to z is: 16\n",
      "2. The result of raising z to k is: 16\n"
     ]
    }
   ],
   "source": [
    "print('1. The result of raising k to z is:', pow(k,z))\n",
    "print('2. The result of raising z to k is:', pow(z,k))"
   ]
  },
  {
   "attachments": {},
   "cell_type": "markdown",
   "metadata": {},
   "source": [
    "*VII. Extra*\n",
    "\n",
    "Additionally we need to specify which are the outputs of our function so that we can call them individually as we need them. These outputs are defined as new variables that depend on our previously defined parameters. They are determined by the word \"return\". Let's rewrite our previous mathematical code in a function to make it clear:"
   ]
  },
  {
   "cell_type": "code",
   "execution_count": 113,
   "metadata": {},
   "outputs": [
    {
     "data": {
      "text/plain": [
       "(6, -2, 0.5)"
      ]
     },
     "execution_count": 113,
     "metadata": {},
     "output_type": "execute_result"
    }
   ],
   "source": [
    "def func(z,k):\n",
    "    a = z+k\n",
    "    b= z-k\n",
    "    c= z/k\n",
    "    return a, b, c\n",
    "func(z,k)"
   ]
  },
  {
   "attachments": {},
   "cell_type": "markdown",
   "metadata": {},
   "source": [
    "***iv. Libraries*** <a class=\"anchor\" id=\"Functions\"></a>\n",
    "\n",
    "---"
   ]
  },
  {
   "attachments": {},
   "cell_type": "markdown",
   "metadata": {},
   "source": [
    "***(IBM, 2023)*** *Broadly speaking, it should be noted that in programming, a library is a set of functionalities that allow the user to carry out new tasks that could not be performed before. Python libraries correspond to the set of implementations that allow coding this language, in order to create an independent interface.*\n",
    "\n",
    "***(Python, 2023)*** *The basic Python libraries or standard Python libraries (also called Python libraries) are those that come bundled with Python. One of the most famous is Matplotlib. The Python standard library is very extensive, and offers a large number of productions as can be seen from the long list of contents. The library contains built-in modules (written in C) that provide access to system functionality such as file input and output that would otherwise be inaccessible to Python programmers, as well as modules written in Python that provide standardized solutions to the various problems that can occur in day-to-day programming.*\n",
    "\n",
    " *Some of these modules are explicitly designed to encourage and reinforce the portability of Python programs by abstracting away platform specificities to achieve platform-neutral APIs.*\n",
    "\n",
    "**Examples**\n",
    "*(We continue to manage our network of k and z characters.)*"
   ]
  },
  {
   "attachments": {},
   "cell_type": "markdown",
   "metadata": {},
   "source": [
    "***⚠︎We will review 9 of the most important Python libraries, their description, basic operation and an example of use in each one.***"
   ]
  },
  {
   "attachments": {},
   "cell_type": "markdown",
   "metadata": {},
   "source": [
    "***iv.1 Matplotlib 📈***"
   ]
  },
  {
   "attachments": {},
   "cell_type": "markdown",
   "metadata": {},
   "source": [
    "*It is the standard Python library and the best known.*\n",
    "\n",
    "*With Matplotlib you can generate a wide variety of quality graphics to publish online or on paper and without using many lines of code.*\n",
    "\n",
    "*Bar charts, histograms, time series, power spectra... are just a few examples of the possibilities of this Python library.*"
   ]
  },
  {
   "cell_type": "code",
   "execution_count": 124,
   "metadata": {},
   "outputs": [
    {
     "data": {
      "image/png": "[encoded data removed]",
      "text/plain": [
       "<Figure size 640x480 with 1 Axes>"
      ]
     },
     "metadata": {},
     "output_type": "display_data"
    }
   ],
   "source": [
    "#Exercise.\n",
    "'''\n",
    "For the present exercise, a simple graph will be made using the matplotlib library, we will make use of two axes (q and w). where w=2q, and q are\n",
    "the grades of a industrial group. \n",
    "''' \n",
    "\n",
    "import matplotlib.pyplot as plt\n",
    "\n",
    "#First, the two axes of the graphs must be created. \n",
    "\n",
    "q = [70,75,79,99,80]\n",
    "\n",
    "w = [140,150,158,198,160]\n",
    "\n",
    "#Figure and axes of the graph are created\n",
    "\n",
    "fig, ax= plt.subplots()\n",
    "\n",
    "#The 2 axes (l and w) are plotted.\n",
    "\n",
    "ax.plot(q,w)\n",
    "\n",
    "#Titles and labels can be added from the code \"ax.set_title\" and \"ax.set(_)label\".\n",
    "\n",
    "ax.set_title('First Graph of Luis D. Andrade')\n",
    "ax.set_xlabel('Independent axle (q)')\n",
    "ax.set_ylabel('Dependent axle (w)')\n",
    "\n",
    "plt.show()"
   ]
  },
  {
   "attachments": {},
   "cell_type": "markdown",
   "metadata": {},
   "source": [
    "***iv.2 Pandas🐼***"
   ]
  },
  {
   "attachments": {},
   "cell_type": "markdown",
   "metadata": {},
   "source": []
  },
  {
   "cell_type": "code",
   "execution_count": 125,
   "metadata": {},
   "outputs": [
    {
     "ename": "ModuleNotFoundError",
     "evalue": "No module named 'pandas'",
     "output_type": "error",
     "traceback": [
      "\u001b[1;31m---------------------------------------------------------------------------\u001b[0m",
      "\u001b[1;31mModuleNotFoundError\u001b[0m                       Traceback (most recent call last)",
      "Cell \u001b[1;32mIn[125], line 1\u001b[0m\n\u001b[1;32m----> 1\u001b[0m \u001b[39mimport\u001b[39;00m \u001b[39mpandas\u001b[39;00m \u001b[39mas\u001b[39;00m \u001b[39mpd\u001b[39;00m\n\u001b[0;32m      3\u001b[0m \u001b[39m# Cargar los datos del archivo CSV en un DataFrame\u001b[39;00m\n\u001b[0;32m      4\u001b[0m df \u001b[39m=\u001b[39m pd\u001b[39m.\u001b[39mread_csv(\u001b[39m'\u001b[39m\u001b[39mcalif.csv\u001b[39m\u001b[39m'\u001b[39m)\n",
      "\u001b[1;31mModuleNotFoundError\u001b[0m: No module named 'pandas'"
     ]
    }
   ],
   "source": [
    "import matplotlib as mt\n",
    "import pandas as pd\n",
    "\n",
    "# Cargar los datos del archivo CSV en un DataFrame\n",
    "df = pd.read_csv('calif.csv')\n",
    "\n",
    "# Imprimir las primeras filas del DataFrame\n",
    "print(df.head())\n",
    "\n",
    "# Calcular la suma de ventas por mes\n",
    "ventas_por_mes = df.groupby('mes')['ventas'].sum()\n",
    "\n",
    "# Imprimir la tabla de ventas por mes\n",
    "print(ventas_por_mes)"
   ]
  },
  {
   "cell_type": "code",
   "execution_count": 15,
   "metadata": {},
   "outputs": [
    {
     "data": {
      "image/png": "[encoded data removed]",
      "text/plain": [
       "<Figure size 1000x1000 with 1 Axes>"
      ]
     },
     "metadata": {},
     "output_type": "display_data"
    }
   ],
   "source": [
    "figure = plt.figure(figsize=(10,10))\n",
    "ax = figure.add_subplot(111)\n",
    "ax.plot(time,yout)\n",
    "ax.plot(input2,'r')\n",
    "ax.set_label('Plotting Transfer Function')\n",
    "ax.set_xlabel('t')\n",
    "ax.set_ylabel('x(t)')\n",
    "ax.axis([0,14,0,5])\n",
    "ax.grid()\n",
    "plt.show()\n"
   ]
  }
 ],
 "metadata": {
  "kernelspec": {
   "display_name": "Python 3",
   "language": "python",
   "name": "python3"
  },
  "language_info": {
   "codemirror_mode": {
    "name": "ipython",
    "version": 3
   },
   "file_extension": ".py",
   "mimetype": "text/x-python",
   "name": "python",
   "nbconvert_exporter": "python",
   "pygments_lexer": "ipython3",
   "version": "3.11.1"
  },
  "orig_nbformat": 4,
  "vscode": {
   "interpreter": {
    "hash": "ef29bc12223601c25a0f299a5349bf40feb3961c930fd3473e71021cb23e9e5e"
   }
  }
 },
 "nbformat": 4,
 "nbformat_minor": 2
}
