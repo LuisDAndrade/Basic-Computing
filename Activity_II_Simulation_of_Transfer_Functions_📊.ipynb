{
  "nbformat": 4,
  "nbformat_minor": 0,
  "metadata": {
    "colab": {
      "provenance": [],
      "authorship_tag": "ABX9TyNy+59OzryX4/NkgAD4SuvK",
      "include_colab_link": true
    },
    "kernelspec": {
      "name": "python3",
      "display_name": "Python 3"
    },
    "language_info": {
      "name": "python"
    }
  },
  "cells": [
    {
      "cell_type": "markdown",
      "metadata": {
        "id": "view-in-github",
        "colab_type": "text"
      },
      "source": [
        "<a href=\"https://colab.research.google.com/github/LuisDAndrade/Basic-Computing/blob/main/Activity_II_Simulation_of_Transfer_Functions_%F0%9F%93%8A.ipynb\" target=\"_parent\"><img src=\"https://colab.research.google.com/assets/colab-badge.svg\" alt=\"Open In Colab\"/></a>"
      ]
    },
    {
      "cell_type": "markdown",
      "source": [
        "# ***Activity II. Simulation of Transfer Functions 📊*** \n",
        "\n",
        "***II.2 First Prder Exercises 🤖***"
      ],
      "metadata": {
        "id": "sFVcxRF1nLHu"
      }
    },
    {
      "cell_type": "markdown",
      "source": [
        "**Professor: Dr. Martín Montes Rivera 👨🏻‍🏫**\n",
        "\n",
        "\n",
        "**Student: Luis Bryant Díaz Andrade 🧑🏻‍💻**\n",
        "\n",
        "*Date: February 20th, 2023*"
      ],
      "metadata": {
        "id": "y-m9OwB_nLLS"
      }
    },
    {
      "cell_type": "markdown",
      "source": [
        "*II.1 Linearity Exercises 📚* \n",
        "\n",
        "**⚠︎      This work can be found in the folder of this activity in the format (Act_II.1_LINEARITY_DIAZ_ANDRADE_LUIS.xlsx), where 6 linearity activities were carried out.**"
      ],
      "metadata": {
        "id": "iyHIRpDfnLO1"
      }
    },
    {
      "cell_type": "markdown",
      "source": [
        "*II.2 First Order Exercises 🤖*"
      ],
      "metadata": {
        "id": "a0l3EPpUn08Q"
      }
    },
    {
      "cell_type": "markdown",
      "source": [
        "***Excerceise 1***\n",
        "\n",
        "Defining transfer funtion with $k=1.3$ and $\\tau=1.3$.\n",
        "\n",
        "$tf(s)=\\frac{1.3}{1.3s+2}$\n",
        "\n",
        "There is a backlog equivalent to \n",
        "\n",
        "$e^ -(4.2(s))$"
      ],
      "metadata": {
        "id": "75k-jmcJn4q4"
      }
    },
    {
      "cell_type": "code",
      "source": [
        "!pip install control"
      ],
      "metadata": {
        "colab": {
          "base_uri": "https://localhost:8080/"
        },
        "id": "Gl3SJVCFp8mD",
        "outputId": "3cbc1658-9bb4-46c6-9de7-bf8554660754"
      },
      "execution_count": 1,
      "outputs": [
        {
          "output_type": "stream",
          "name": "stdout",
          "text": [
            "Looking in indexes: https://pypi.org/simple, https://us-python.pkg.dev/colab-wheels/public/simple/\n",
            "Requirement already satisfied: control in /usr/local/lib/python3.8/dist-packages (0.9.3.post2)\n",
            "Requirement already satisfied: matplotlib in /usr/local/lib/python3.8/dist-packages (from control) (3.5.3)\n",
            "Requirement already satisfied: numpy in /usr/local/lib/python3.8/dist-packages (from control) (1.22.4)\n",
            "Requirement already satisfied: scipy>=1.3 in /usr/local/lib/python3.8/dist-packages (from control) (1.7.3)\n",
            "Requirement already satisfied: fonttools>=4.22.0 in /usr/local/lib/python3.8/dist-packages (from matplotlib->control) (4.38.0)\n",
            "Requirement already satisfied: kiwisolver>=1.0.1 in /usr/local/lib/python3.8/dist-packages (from matplotlib->control) (1.4.4)\n",
            "Requirement already satisfied: pillow>=6.2.0 in /usr/local/lib/python3.8/dist-packages (from matplotlib->control) (7.1.2)\n",
            "Requirement already satisfied: packaging>=20.0 in /usr/local/lib/python3.8/dist-packages (from matplotlib->control) (23.0)\n",
            "Requirement already satisfied: cycler>=0.10 in /usr/local/lib/python3.8/dist-packages (from matplotlib->control) (0.11.0)\n",
            "Requirement already satisfied: python-dateutil>=2.7 in /usr/local/lib/python3.8/dist-packages (from matplotlib->control) (2.8.2)\n",
            "Requirement already satisfied: pyparsing>=2.2.1 in /usr/local/lib/python3.8/dist-packages (from matplotlib->control) (3.0.9)\n",
            "Requirement already satisfied: six>=1.5 in /usr/local/lib/python3.8/dist-packages (from python-dateutil>=2.7->matplotlib->control) (1.15.0)\n"
          ]
        }
      ]
    },
    {
      "cell_type": "code",
      "source": [
        "import numpy as np\n",
        "import control as cn\n",
        "import matplotlib.pyplot as plt"
      ],
      "metadata": {
        "id": "xXQNKWGYod6S"
      },
      "execution_count": 2,
      "outputs": []
    },
    {
      "cell_type": "code",
      "source": [
        "k1 = 0.65\n",
        "t1 = 0.65\n",
        "a1= [k1]\n",
        "b1 = [t1,1]\n",
        "tfun = cn.tf(a1,b1)\n",
        "\n",
        "print('I. The transfer function excluding the dead time of the function is: ')\n",
        "print(tfun)\n",
        "\n",
        "td = 4.2\n",
        "ordend = 15\n",
        "numd, dend = cn.pade(td,ordend)\n",
        "\n",
        "delay = cn.tf(numd,dend)\n",
        "system_delayed = tfun*delay\n",
        "\n",
        "print('II. The transfer function considering the dead time of the expression would be as follows: ')\n",
        "print(system_delayed)"
      ],
      "metadata": {
        "colab": {
          "base_uri": "https://localhost:8080/"
        },
        "id": "DSeIQ1poqKKR",
        "outputId": "e1f5ea69-b181-408b-8e26-9b5f971854d1"
      },
      "execution_count": 3,
      "outputs": [
        {
          "output_type": "stream",
          "name": "stdout",
          "text": [
            "I. The transfer function excluding the dead time of the function is: \n",
            "\n",
            "   0.65\n",
            "----------\n",
            "0.65 s + 1\n",
            "\n",
            "II. The transfer function considering the dead time of the expression would be as follows: \n",
            "\n",
            "       -0.65 s^15 + 37.14 s^14 - 1052 s^13 + 1.954e+04 s^12 - 2.652e+05 s^11 + 2.779e+06 s^10 - 2.316e+07 s^9 + 1.559e+08 s^8 - 8.54e+08 s^7 + 3.796e+09 s^6 - 1.356e+10 s^5 + 3.814e+10 s^4 - 8.174e+10 s^3 + 1.257e+11 s^2 - 1.24e+11 s + 5.907e+10\n",
            "-------------------------------------------------------------------------------------------------------------------------------------------------------------------------------------------------------------------------------------------------------------\n",
            "0.65 s^16 + 38.14 s^15 + 1110 s^14 + 2.116e+04 s^13 + 2.953e+05 s^12 + 3.187e+06 s^11 + 2.743e+07 s^10 + 1.916e+08 s^9 + 1.094e+09 s^8 + 5.109e+09 s^7 + 1.94e+10 s^6 + 5.9e+10 s^5 + 1.404e+11 s^4 + 2.515e+11 s^3 + 3.175e+11 s^2 + 2.499e+11 s + 9.087e+10\n",
            "\n"
          ]
        }
      ]
    },
    {
      "cell_type": "code",
      "source": [
        "tstart = 0\n",
        "tend = 14\n",
        "sample = 0.001\n",
        "time = np.arange(tstart,tend+sample, sample)\n",
        "input2 = np.ones(time.shape)\n",
        "\n",
        "time, yout = cn.step_response(system_delayed,time)\n",
        "time2, yout2 = cn.impulse_response(system_delayed,time)"
      ],
      "metadata": {
        "colab": {
          "base_uri": "https://localhost:8080/"
        },
        "id": "4ElndqOYqSeV",
        "outputId": "286e3868-3f03-48dd-bcac-5969748a68b3"
      },
      "execution_count": 4,
      "outputs": [
        {
          "output_type": "stream",
          "name": "stderr",
          "text": [
            "/usr/local/lib/python3.8/dist-packages/scipy/sparse/linalg/matfuncs.py:709: LinAlgWarning: Ill-conditioned matrix (rcond=1.67865e-17): result may not be accurate.\n",
            "  return solve(Q, P)\n"
          ]
        }
      ]
    },
    {
      "cell_type": "code",
      "source": [
        "figure = plt.figure(figsize=(10,10))\n",
        "ax = figure.add_subplot(111)\n",
        "ax.plot(time,yout, color='r')\n",
        "ax.plot(time2,yout2, color='m')\n",
        "ax.plot(input2,'g')\n",
        "ax.set_label('Plotting Transfer Function')\n",
        "ax.set_xlabel('t')\n",
        "ax.set_ylabel('f(xt)')\n",
        "ax.axis([0,14,0,1])\n",
        "ax.grid()\n",
        "plt.show()"
      ],
      "metadata": {
        "colab": {
          "base_uri": "https://localhost:8080/",
          "height": 610
        },
        "id": "pAQ_WUQ5qXvk",
        "outputId": "439ce53c-c056-451a-bf9d-87aa81ede3f5"
      },
      "execution_count": 5,
      "outputs": [
        {
          "output_type": "display_data",
          "data": {
            "text/plain": [
              "<Figure size 720x720 with 1 Axes>"
            ],
            "image/png": "[encoded data removed]"
          },
          "metadata": {
            "needs_background": "light"
          }
        }
      ]
    },
    {
      "cell_type": "markdown",
      "source": [
        "***Excerceise 2***\n",
        "\n",
        "Defining transfer funtion with $k=8$ and $\\tau=0.2$\n",
        "\n",
        "$tf(s)=\\frac{8}{0.2s+0.25}$\n",
        "\n",
        "$tf(s)=\\frac{32}{0.8s+1}$\n",
        "\n",
        "There is a backlog equivalent to \n",
        "\n",
        "$e^ -(0.4(s))$"
      ],
      "metadata": {
        "id": "CxTmKnBiqk4k"
      }
    },
    {
      "cell_type": "code",
      "source": [
        "k2 = 32\n",
        "t2 = 0.8\n",
        "a2= [k2]\n",
        "b2 = [t2,1]\n",
        "fun2 = cn.tf(a2,b2)\n",
        "\n",
        "print('I. The transfer function excluding the dead time of the function is: ')\n",
        "print(fun2)\n",
        "\n",
        "td2 = 0.4\n",
        "ordend2 = 15\n",
        "numd2, dend2 = cn.pade(td2,ordend2)\n",
        "\n",
        "delay2 = cn.tf(numd2,dend2)\n",
        "system_delayed2 = fun2*delay2\n",
        "\n",
        "print('II. The transfer function considering the dead time of the expression would be as follows: ')\n",
        "print(system_delayed2)\n"
      ],
      "metadata": {
        "colab": {
          "base_uri": "https://localhost:8080/"
        },
        "id": "dho4cQtwqgWy",
        "outputId": "fbcc02f8-dbb0-4ed3-8925-227ff9bb8b2e"
      },
      "execution_count": 6,
      "outputs": [
        {
          "output_type": "stream",
          "name": "stdout",
          "text": [
            "I. The transfer function excluding the dead time of the function is: \n",
            "\n",
            "   32\n",
            "---------\n",
            "0.8 s + 1\n",
            "\n",
            "II. The transfer function considering the dead time of the expression would be as follows: \n",
            "\n",
            "      -32 s^15 + 1.92e+04 s^14 - 5.712e+06 s^13 + 1.114e+09 s^12 - 1.587e+11 s^11 + 1.746e+13 s^10 - 1.528e+15 s^9 + 1.08e+17 s^8 - 6.212e+18 s^7 + 2.899e+20 s^6 - 1.087e+22 s^5 + 3.212e+23 s^4 - 7.226e+24 s^3 + 1.167e+26 s^2 - 1.209e+27 s + 6.045e+27\n",
            "------------------------------------------------------------------------------------------------------------------------------------------------------------------------------------------------------------------------------------------------------------------\n",
            "0.8 s^16 + 481 s^15 + 1.434e+05 s^14 + 2.802e+07 s^13 + 4.003e+09 s^12 + 4.414e+11 s^11 + 3.874e+13 s^10 + 2.748e+15 s^9 + 1.587e+17 s^8 + 7.441e+18 s^7 + 2.808e+20 s^6 + 8.369e+21 s^5 + 1.907e+23 s^4 + 3.144e+24 s^3 + 3.387e+25 s^2 + 1.889e+26 s + 1.889e+26\n",
            "\n"
          ]
        }
      ]
    },
    {
      "cell_type": "code",
      "source": [
        "tstart2 = 0\n",
        "tend2 = 14\n",
        "sample2 = 0.001\n",
        "time2 = np.arange(tstart2,tend2+sample2, sample2)\n",
        "input3 = np.ones(time2.shape)\n",
        "\n",
        "time_, yout_ = cn.step_response(system_delayed2,time2)\n",
        "time_2, yout_2 = cn.impulse_response(system_delayed2,time2)"
      ],
      "metadata": {
        "colab": {
          "base_uri": "https://localhost:8080/"
        },
        "id": "zcxbS-99qo5t",
        "outputId": "5d95e99d-7f70-44ea-8f71-7320f212adfc"
      },
      "execution_count": 7,
      "outputs": [
        {
          "output_type": "stream",
          "name": "stderr",
          "text": [
            "/usr/local/lib/python3.8/dist-packages/scipy/sparse/linalg/matfuncs.py:709: LinAlgWarning: Ill-conditioned matrix (rcond=2.9387e-43): result may not be accurate.\n",
            "  return solve(Q, P)\n"
          ]
        }
      ]
    },
    {
      "cell_type": "code",
      "source": [
        "figure = plt.figure(figsize=(10,10))\n",
        "ax = figure.add_subplot(111)\n",
        "ax.plot(time_,yout_)\n",
        "ax.plot(time_2,yout_2)\n",
        "ax.plot(input3,'g')\n",
        "ax.set_label('Plotting Transfer Function')\n",
        "ax.set_xlabel('t')\n",
        "ax.set_ylabel('f(xt)')\n",
        "ax.axis([0,14,0,50])\n",
        "ax.grid()\n",
        "plt.show()"
      ],
      "metadata": {
        "colab": {
          "base_uri": "https://localhost:8080/",
          "height": 610
        },
        "id": "irY2HZDGqr_k",
        "outputId": "b9a685d2-6b04-48a2-da57-b298a12ddc39"
      },
      "execution_count": 8,
      "outputs": [
        {
          "output_type": "display_data",
          "data": {
            "text/plain": [
              "<Figure size 720x720 with 1 Axes>"
            ],
            "image/png": "[encoded data removed]"
          },
          "metadata": {
            "needs_background": "light"
          }
        }
      ]
    },
    {
      "cell_type": "markdown",
      "source": [
        "***Excerceise 3***\n",
        "\n",
        "Defining transfer funtion with $k=0.3$ and $\\tau=5$.\n",
        "\n",
        "$tf(s)=\\frac{0.3}{5s+10}$\n",
        "\n",
        "$tf(s)=\\frac{0.03}{0.5s+1}$\n",
        "\n",
        "There is a backlog equivalent to \n",
        "\n",
        "$e^ -(4.2(s))$"
      ],
      "metadata": {
        "id": "gPoI2ZQ-qzVa"
      }
    },
    {
      "cell_type": "code",
      "source": [
        "k_3 = 0.03\n",
        "t_3 = 0.5\n",
        "a_3= [k_3]\n",
        "b_3 = [t_3,10]\n",
        "tfun_3 = cn.tf(a_3,b_3)\n",
        "\n",
        "print('I. The transfer function excluding the dead time of the function is: ')\n",
        "print(tfun_3)\n",
        "\n",
        "td3 = 4.2\n",
        "ordend3 = 15\n",
        "numd3, dend3 = cn.pade(td3,ordend3)\n",
        "\n",
        "delay3 = cn.tf(numd3,dend3)\n",
        "system_delayed3 = tfun_3*delay3\n",
        "\n",
        "print('II. The transfer function considering the dead time of the expression would be as follows: ')\n",
        "print(system_delayed3)"
      ],
      "metadata": {
        "colab": {
          "base_uri": "https://localhost:8080/"
        },
        "id": "rnG93Zcqqyag",
        "outputId": "13e4fc4a-0cea-4fc0-f378-e0921b3ad394"
      },
      "execution_count": 9,
      "outputs": [
        {
          "output_type": "stream",
          "name": "stdout",
          "text": [
            "I. The transfer function excluding the dead time of the function is: \n",
            "\n",
            "   0.03\n",
            "----------\n",
            "0.5 s + 10\n",
            "\n",
            "II. The transfer function considering the dead time of the expression would be as follows: \n",
            "\n",
            "          -0.03 s^15 + 1.714 s^14 - 48.57 s^13 + 902 s^12 - 1.224e+04 s^11 + 1.282e+05 s^10 - 1.069e+06 s^9 + 7.198e+06 s^8 - 3.942e+07 s^7 + 1.752e+08 s^6 - 6.256e+08 s^5 + 1.76e+09 s^4 - 3.772e+09 s^3 + 5.804e+09 s^2 - 5.725e+09 s + 2.726e+09\n",
            "--------------------------------------------------------------------------------------------------------------------------------------------------------------------------------------------------------------------------------------------------------------\n",
            "0.5 s^16 + 38.57 s^15 + 1381 s^14 + 3.122e+04 s^13 + 5.047e+05 s^12 + 6.218e+06 s^11 + 6.056e+07 s^10 + 4.762e+08 s^9 + 3.056e+09 s^8 + 1.606e+10 s^7 + 6.882e+10 s^6 + 2.379e+11 s^5 + 6.497e+11 s^4 + 1.354e+12 s^3 + 2.03e+12 s^2 + 1.954e+12 s + 9.087e+11\n",
            "\n"
          ]
        }
      ]
    },
    {
      "cell_type": "code",
      "source": [
        "tstart3 = 0\n",
        "tend3 = 14\n",
        "sample3 = 0.001\n",
        "time3 = np.arange(tstart3,tend3+sample3, sample3)\n",
        "input4 = np.ones(time3.shape)\n",
        "\n",
        "time4, yout4 = cn.step_response(system_delayed3,time3)\n",
        "time5, yout5 = cn.impulse_response(system_delayed3,time3)"
      ],
      "metadata": {
        "colab": {
          "base_uri": "https://localhost:8080/"
        },
        "id": "w_3TxSPFq4Ix",
        "outputId": "0578a9e0-36f8-4912-890a-6b7110ef4517"
      },
      "execution_count": 10,
      "outputs": [
        {
          "output_type": "stream",
          "name": "stderr",
          "text": [
            "/usr/local/lib/python3.8/dist-packages/scipy/sparse/linalg/matfuncs.py:709: LinAlgWarning: Ill-conditioned matrix (rcond=2.42937e-19): result may not be accurate.\n",
            "  return solve(Q, P)\n"
          ]
        }
      ]
    },
    {
      "cell_type": "code",
      "source": [
        "figure = plt.figure(figsize=(5,5))\n",
        "ax = figure.add_subplot(111)\n",
        "ax.plot(time4,yout4)\n",
        "ax.plot(time5,yout5)\n",
        "ax.plot(input4,'g')\n",
        "ax.set_label('Plotting Transfer Function')\n",
        "ax.set_xlabel('t')\n",
        "ax.set_ylabel('f(xt)')\n",
        "ax.axis([0,14,0,0.02])\n",
        "ax.grid()\n",
        "plt.show()"
      ],
      "metadata": {
        "colab": {
          "base_uri": "https://localhost:8080/",
          "height": 338
        },
        "id": "-Bdlt06hqvoT",
        "outputId": "f8f68713-dd25-444f-ffa0-50d4ed31bf66"
      },
      "execution_count": 11,
      "outputs": [
        {
          "output_type": "display_data",
          "data": {
            "text/plain": [
              "<Figure size 360x360 with 1 Axes>"
            ],
            "image/png": "[encoded data removed]"
          },
          "metadata": {
            "needs_background": "light"
          }
        }
      ]
    },
    {
      "cell_type": "markdown",
      "source": [
        "---\n",
        "---\n",
        "---"
      ],
      "metadata": {
        "id": "06lPByA9riIO"
      }
    },
    {
      "cell_type": "markdown",
      "source": [
        "***II.3 DC Motor Transfer Function ⚙︎⚙︎***"
      ],
      "metadata": {
        "id": "EQfNGCnqrW15"
      }
    },
    {
      "cell_type": "markdown",
      "source": [
        "\n",
        "**Source article: Obtaining the transfer function of a DC motor by reaction curve analysis.**\n",
        "\n",
        "\n",
        "**VERGARA-BETANCOURT, Angel*†, SALAZAR-HIDALGO, Eduardo y ZAPATA-NAVA, Oscar Javier**\n",
        "\n",
        "\n",
        "***APA Reference: VERGARA-BETANCOURT, Angel, SALAZAR-HIDALGO Eduardo and ZAPATA-NAVA, Oscar Javier. Obtaining the transfer function of a DC motor by reaction curve analysis. Journal of Scientific and Technical Application. 2017, 3-10: 1-10.***"
      ],
      "metadata": {
        "id": "5XIeybmYrYD_"
      }
    },
    {
      "cell_type": "markdown",
      "source": [
        "*General equation obtained by the authors: 🧮*"
      ],
      "metadata": {
        "id": "2u83tA6SrdEI"
      }
    },
    {
      "cell_type": "markdown",
      "source": [
        "$tf(s)=\\frac{143}{0.115s+1} {e^-0.05s}$"
      ],
      "metadata": {
        "id": "YWi3DzZTrgn9"
      }
    },
    {
      "cell_type": "code",
      "source": [
        "import numpy as np\n",
        "import control as cn\n",
        "import matplotlib.pyplot as plt"
      ],
      "metadata": {
        "id": "k1L-2v-IsB4H"
      },
      "execution_count": 12,
      "outputs": []
    },
    {
      "cell_type": "markdown",
      "source": [
        "Defining transfer funtion with $k=143$ and $\\tau=0.115$\n",
        "\n",
        "$tf(s)=\\frac{143}{0.115s+1}$\n",
        "\n",
        "There is a backlog equivalent to \n",
        "\n",
        "$e^-(0.05(s))$"
      ],
      "metadata": {
        "id": "Ivac0ygjsEAg"
      }
    },
    {
      "cell_type": "code",
      "source": [
        "K1 = 143\n",
        "ta1 = 0.115\n",
        "a1 = [K1]\n",
        "b1 = [ta1,1]\n",
        "f = cn.tf(a1,b1)\n",
        "\n",
        "print('I. The transfer function excluding the dead time of the function is: ')\n",
        "print(f)\n",
        "\n",
        "td = 0.05\n",
        "ordend = 15\n",
        "numd, dend = cn.pade(td,ordend)\n",
        "\n",
        "delay = cn.tf(numd,dend)\n",
        "system_delayed = f*delay\n",
        "\n",
        "print('II. The transfer function considering the dead time of the expression would be as follows: ')\n",
        "print(system_delayed)"
      ],
      "metadata": {
        "colab": {
          "base_uri": "https://localhost:8080/"
        },
        "id": "HkC1CCvbsGnm",
        "outputId": "e780c947-ed2b-4057-8f84-acc7ffc7cd28"
      },
      "execution_count": 13,
      "outputs": [
        {
          "output_type": "stream",
          "name": "stdout",
          "text": [
            "I. The transfer function excluding the dead time of the function is: \n",
            "\n",
            "    143\n",
            "-----------\n",
            "0.115 s + 1\n",
            "\n",
            "II. The transfer function considering the dead time of the expression would be as follows: \n",
            "\n",
            "      -143 s^15 + 6.864e+05 s^14 - 1.634e+09 s^13 + 2.548e+12 s^12 - 2.905e+15 s^11 + 2.557e+18 s^10 - 1.79e+21 s^9 + 1.012e+24 s^8 - 4.657e+26 s^7 + 1.739e+29 s^6 - 5.216e+31 s^5 + 1.233e+34 s^4 - 2.219e+36 s^3 + 2.868e+38 s^2 - 2.376e+40 s + 9.505e+41\n",
            "--------------------------------------------------------------------------------------------------------------------------------------------------------------------------------------------------------------------------------------------------------------------\n",
            "0.115 s^16 + 553 s^15 + 1.319e+06 s^14 + 2.061e+09 s^13 + 2.354e+12 s^12 + 2.076e+15 s^11 + 1.457e+18 s^10 + 8.267e+20 s^9 + 3.816e+23 s^8 + 1.431e+26 s^7 + 4.316e+28 s^6 + 1.028e+31 s^5 + 1.871e+33 s^4 + 2.461e+35 s^3 + 2.111e+37 s^2 + 9.305e+38 s + 6.647e+39\n",
            "\n"
          ]
        }
      ]
    },
    {
      "cell_type": "code",
      "source": [
        "tstart = 0\n",
        "tend = 14\n",
        "sample = 0.001\n",
        "time = np.arange(tstart,tend+sample, sample)\n",
        "input = np.ones(time.shape)\n",
        "\n",
        "time_, yout_ = cn.step_response(system_delayed,time)\n",
        "time_2, yout_2 = cn.impulse_response(system_delayed,time)"
      ],
      "metadata": {
        "colab": {
          "base_uri": "https://localhost:8080/"
        },
        "id": "UXM8yQgLsP2F",
        "outputId": "260f0ccd-ac8c-4ba8-e407-b2f85a7d0c06"
      },
      "execution_count": 14,
      "outputs": [
        {
          "output_type": "stream",
          "name": "stderr",
          "text": [
            "/usr/local/lib/python3.8/dist-packages/scipy/sparse/linalg/matfuncs.py:709: LinAlgWarning: Ill-conditioned matrix (rcond=1.28569e-66): result may not be accurate.\n",
            "  return solve(Q, P)\n"
          ]
        }
      ]
    },
    {
      "cell_type": "code",
      "source": [
        "figure = plt.figure(figsize=(10,10))\n",
        "ax = figure.add_subplot(111)\n",
        "ax.plot(time_,yout_)\n",
        "ax.plot(time_2,yout_2)\n",
        "ax.plot(input,'g')\n",
        "plt.title ('DC MOTOR TRANSFER FUNCTION')\n",
        "ax.set_label('Plotting Transfer Function')\n",
        "ax.set_xlabel('t')\n",
        "ax.set_ylabel('f(xt)')\n",
        "ax.axis([0,4,0,148])\n",
        "ax.grid()\n",
        "plt.show()"
      ],
      "metadata": {
        "colab": {
          "base_uri": "https://localhost:8080/",
          "height": 621
        },
        "id": "Kz_NUCNMsSWl",
        "outputId": "ef354cf6-25c8-4181-d430-fd5588fcc6f9"
      },
      "execution_count": 15,
      "outputs": [
        {
          "output_type": "display_data",
          "data": {
            "text/plain": [
              "<Figure size 720x720 with 1 Axes>"
            ],
            "image/png": "[encoded data removed]"
          },
          "metadata": {
            "needs_background": "light"
          }
        }
      ]
    },
    {
      "cell_type": "markdown",
      "source": [
        "---\n",
        "---\n",
        "---"
      ],
      "metadata": {
        "id": "v8CsmDUwDTyp"
      }
    },
    {
      "cell_type": "markdown",
      "source": [
        "***II.4 SECOND ORDER OVERDAMPED TO FIRST ORDER 📈***"
      ],
      "metadata": {
        "id": "89UN3KDVDlom"
      }
    },
    {
      "cell_type": "markdown",
      "source": [
        "***i. ALFARO***\n",
        "\n",
        "Defining transfer funtion with $k=3.3$ and $\\tau=1.365$\n",
        "\n",
        "$tf(s)=\\frac{3.3}{1.365s+1}$\n",
        "$e^-(0.357(s))$"
      ],
      "metadata": {
        "id": "E5ipRQ3gDnbL"
      }
    },
    {
      "cell_type": "code",
      "source": [
        "import numpy as np\n",
        "import control as cn\n",
        "import matplotlib.pyplot as plt"
      ],
      "metadata": {
        "id": "wAHo06KyDmuM"
      },
      "execution_count": 16,
      "outputs": []
    },
    {
      "cell_type": "code",
      "source": [
        "kal = [3.3]\n",
        "denal =[1.365,1]\n",
        "tfal = cn.tf(kal,denal)\n",
        "\n",
        "print('I. The transfer function excluding the dead time of the function is: ')\n",
        "print(tfal)\n",
        "\n",
        "td = 0.357\n",
        "ordend = 15\n",
        "numd, dend = cn.pade(td,ordend)\n",
        "\n",
        "delay = cn.tf(numd,dend)\n",
        "system_delayed = tfal*delay\n",
        "\n",
        "print('II. The transfer function considering the dead time of the expression would be as follows: ')\n",
        "print(system_delayed)"
      ],
      "metadata": {
        "colab": {
          "base_uri": "https://localhost:8080/"
        },
        "id": "Cu_YJSLXDvkQ",
        "outputId": "eed5132d-c06e-4557-efac-997744f9a239"
      },
      "execution_count": 17,
      "outputs": [
        {
          "output_type": "stream",
          "name": "stdout",
          "text": [
            "I. The transfer function excluding the dead time of the function is: \n",
            "\n",
            "    3.3\n",
            "-----------\n",
            "1.365 s + 1\n",
            "\n",
            "II. The transfer function considering the dead time of the expression would be as follows: \n",
            "\n",
            "          -3.3 s^15 + 2218 s^14 - 7.395e+05 s^13 + 1.616e+08 s^12 - 2.58e+10 s^11 + 3.179e+12 s^10 - 3.117e+14 s^9 + 2.47e+16 s^8 - 1.591e+18 s^7 + 8.32e+19 s^6 - 3.496e+21 s^5 + 1.157e+23 s^4 - 2.917e+24 s^3 + 5.28e+25 s^2 - 6.128e+26 s + 3.433e+27\n",
            "--------------------------------------------------------------------------------------------------------------------------------------------------------------------------------------------------------------------------------------------------------------------\n",
            "1.365 s^16 + 918.6 s^15 + 3.066e+05 s^14 + 6.706e+07 s^13 + 1.072e+10 s^12 + 1.323e+12 s^11 + 1.299e+14 s^10 + 1.031e+16 s^9 + 6.656e+17 s^8 + 3.49e+19 s^7 + 1.471e+21 s^6 + 4.893e+22 s^5 + 1.242e+24 s^4 + 2.273e+25 s^3 + 2.695e+26 s^2 + 1.606e+27 s + 1.04e+27\n",
            "\n"
          ]
        }
      ]
    },
    {
      "cell_type": "code",
      "source": [
        "tstart = 0\n",
        "tend = 6\n",
        "sample = 0.001\n",
        "time = np.arange(tstart,tend+sample, sample)\n",
        "input2 = np.ones(time.shape)\n",
        "\n",
        "time, yout = cn.step_response(system_delayed,time)\n",
        "time2, yout2 = cn.impulse_response(system_delayed,time)"
      ],
      "metadata": {
        "colab": {
          "base_uri": "https://localhost:8080/"
        },
        "id": "WPIg_iywDzEh",
        "outputId": "90b08be9-d0b5-4edf-c356-fc40a3830405"
      },
      "execution_count": 18,
      "outputs": [
        {
          "output_type": "stream",
          "name": "stderr",
          "text": [
            "/usr/local/lib/python3.8/dist-packages/scipy/sparse/linalg/matfuncs.py:709: LinAlgWarning: Ill-conditioned matrix (rcond=1.18437e-44): result may not be accurate.\n",
            "  return solve(Q, P)\n"
          ]
        }
      ]
    },
    {
      "cell_type": "code",
      "source": [
        "figure = plt.figure(figsize=(10,10))\n",
        "ax = figure.add_subplot(111)\n",
        "ax.plot(time,yout, color='r')\n",
        "ax.plot(time2,yout2, color='m')\n",
        "ax.plot(input2,'g')\n",
        "ax.set_label('Plotting Transfer Function')\n",
        "ax.set_xlabel('t')\n",
        "ax.set_ylabel('f(xt)')\n",
        "ax.axis([0,6,0,4])\n",
        "ax.grid()\n",
        "plt.show()"
      ],
      "metadata": {
        "colab": {
          "base_uri": "https://localhost:8080/",
          "height": 610
        },
        "id": "z7nqrdtVD1fo",
        "outputId": "f4c02709-aba3-4fe5-8ed2-b37c07e33706"
      },
      "execution_count": 19,
      "outputs": [
        {
          "output_type": "display_data",
          "data": {
            "text/plain": [
              "<Figure size 720x720 with 1 Axes>"
            ],
            "image/png": "[encoded data removed]"
          },
          "metadata": {
            "needs_background": "light"
          }
        }
      ]
    },
    {
      "cell_type": "markdown",
      "source": [
        "---"
      ],
      "metadata": {
        "id": "oB6lOZ0vEQ-p"
      }
    },
    {
      "cell_type": "markdown",
      "source": [
        "---"
      ],
      "metadata": {
        "id": "q5P8wGPgERC8"
      }
    },
    {
      "cell_type": "markdown",
      "source": [
        "***ii. BROIDA***\n",
        "\n",
        "Defining transfer funtion with $k=3.3$ and $\\tau=2.2$\n",
        "\n",
        "$tf(s)=\\frac{3.3}{2.2s+1}$\n",
        "$e^-(0.58(s))$"
      ],
      "metadata": {
        "id": "dtaZKBXbET3P"
      }
    },
    {
      "cell_type": "code",
      "source": [
        "import numpy as np\n",
        "import control as cn\n",
        "import matplotlib.pyplot as plt"
      ],
      "metadata": {
        "id": "yFc2E3fmEQcY"
      },
      "execution_count": 20,
      "outputs": []
    },
    {
      "cell_type": "code",
      "source": [
        "kbr = [3.3]\n",
        "denbr =[2.2,1]\n",
        "tfbr = cn.tf(kbr,denbr)\n",
        "\n",
        "print('I. The transfer function excluding the dead time of the function is: ')\n",
        "print(tfbr)\n",
        "\n",
        "tdbr = 0.58\n",
        "ordendbr = 15\n",
        "numdbr, dendbr = cn.pade(tdbr,ordendbr)\n",
        "\n",
        "delaybr = cn.tf(numdbr,dendbr)\n",
        "system_delayed_br = tfbr*delaybr\n",
        "\n",
        "print('II. The transfer function considering the dead time of the expression would be as follows: ')\n",
        "print(system_delayed_br)"
      ],
      "metadata": {
        "colab": {
          "base_uri": "https://localhost:8080/"
        },
        "id": "7oIn5Ir8EmRz",
        "outputId": "5beff0d0-9e18-46ce-e590-87eafe739641"
      },
      "execution_count": 21,
      "outputs": [
        {
          "output_type": "stream",
          "name": "stdout",
          "text": [
            "I. The transfer function excluding the dead time of the function is: \n",
            "\n",
            "   3.3\n",
            "---------\n",
            "2.2 s + 1\n",
            "\n",
            "II. The transfer function considering the dead time of the expression would be as follows: \n",
            "\n",
            "       -3.3 s^15 + 1366 s^14 - 2.802e+05 s^13 + 3.768e+07 s^12 - 3.703e+09 s^11 + 2.809e+11 s^10 - 1.695e+13 s^9 + 8.267e+14 s^8 - 3.278e+16 s^7 + 1.055e+18 s^6 - 2.729e+19 s^5 + 5.56e+20 s^4 - 8.627e+21 s^3 + 9.611e+22 s^2 - 6.865e+23 s + 2.367e+24\n",
            "-----------------------------------------------------------------------------------------------------------------------------------------------------------------------------------------------------------------------------------------------------------------\n",
            "2.2 s^16 + 911.3 s^15 + 1.872e+05 s^14 + 2.52e+07 s^13 + 2.48e+09 s^12 + 1.884e+11 s^11 + 1.139e+13 s^10 + 5.563e+14 s^9 + 2.211e+16 s^8 + 7.133e+17 s^7 + 1.851e+19 s^6 + 3.789e+20 s^5 + 5.92e+21 s^4 + 6.669e+22 s^3 + 4.868e+23 s^2 + 1.786e+24 s + 7.174e+23\n",
            "\n"
          ]
        }
      ]
    },
    {
      "cell_type": "code",
      "source": [
        "tstartbr = 0\n",
        "tendbr = 6\n",
        "samplebr = 0.001\n",
        "timebr = np.arange(tstartbr,tendbr+samplebr, samplebr)\n",
        "input2br = np.ones(timebr.shape)\n",
        "\n",
        "timebr, youtbr = cn.step_response(system_delayed_br,timebr)\n",
        "timebr2, youtbr2 = cn.impulse_response(system_delayed_br,timebr)"
      ],
      "metadata": {
        "colab": {
          "base_uri": "https://localhost:8080/"
        },
        "id": "E1JM2vV0Erbf",
        "outputId": "6b54c56d-9535-4887-a416-10e62679be3b"
      },
      "execution_count": 22,
      "outputs": [
        {
          "output_type": "stream",
          "name": "stderr",
          "text": [
            "/usr/local/lib/python3.8/dist-packages/scipy/sparse/linalg/matfuncs.py:709: LinAlgWarning: Ill-conditioned matrix (rcond=1.55411e-39): result may not be accurate.\n",
            "  return solve(Q, P)\n"
          ]
        }
      ]
    },
    {
      "cell_type": "code",
      "source": [
        "figure = plt.figure(figsize=(10,10))\n",
        "plt.title('BRIODA TRANSFER FUNCTION')\n",
        "ax = figure.add_subplot(111)\n",
        "ax.plot(timebr,youtbr)\n",
        "ax.plot(timebr2,youtbr2)\n",
        "ax.plot(input2br,'g')\n",
        "ax.set_label('Plotting Transfer Function')\n",
        "ax.set_xlabel('t')\n",
        "ax.set_ylabel('f(xt)')\n",
        "ax.axis([0,6,0,4])\n",
        "ax.grid()\n",
        "plt.show()"
      ],
      "metadata": {
        "colab": {
          "base_uri": "https://localhost:8080/",
          "height": 621
        },
        "id": "Mwa5T3G-K-HP",
        "outputId": "b476a330-0fed-497a-f7f8-7ac9aec872ff"
      },
      "execution_count": 23,
      "outputs": [
        {
          "output_type": "display_data",
          "data": {
            "text/plain": [
              "<Figure size 720x720 with 2 Axes>"
            ],
            "image/png": "[encoded data removed]"
          },
          "metadata": {
            "needs_background": "light"
          }
        }
      ]
    },
    {
      "cell_type": "markdown",
      "source": [
        "---\n",
        "---"
      ],
      "metadata": {
        "id": "f86lNZVxMDpa"
      }
    },
    {
      "cell_type": "markdown",
      "source": [
        "***ii. CHEN Y YANG***\n",
        "\n",
        "Defining transfer funtion with $k=3.3$ and $\\tau=1.4$\n",
        "\n",
        "$tf(s)=\\frac{3.3}{1.4s+1}$\n",
        "$e^-(0.46(s))$"
      ],
      "metadata": {
        "id": "f9zxnG2aMHRW"
      }
    },
    {
      "cell_type": "code",
      "source": [
        "kcyy = 3.3\n",
        "tcyy = 1.4\n",
        "acyy= [kcyy]\n",
        "bcyy = [tcyy,1]\n",
        "tfuncy = cn.tf(acyy,bcyy)\n",
        "\n",
        "\n",
        "print('I. The transfer function excluding the dead time of the function is: ')\n",
        "print(tfuncy)\n",
        "\n",
        "tdcyy = 0.46\n",
        "ordendcyy = 15\n",
        "numcyy, dencyy = cn.pade(tdcyy,ordendcyy)\n",
        "\n",
        "delaycyy = cn.tf(numcyy,dencyy)\n",
        "system_delayedcyy = tfuncy*delaycyy\n",
        "\n",
        "print('II. The transfer function considering the dead time of the expression would be as follows: ')\n",
        "print(system_delayedcyy)\n",
        "\n"
      ],
      "metadata": {
        "colab": {
          "base_uri": "https://localhost:8080/"
        },
        "id": "wTlHPWpbMTjo",
        "outputId": "65158724-9508-4196-cd91-8d12b30de721"
      },
      "execution_count": 24,
      "outputs": [
        {
          "output_type": "stream",
          "name": "stdout",
          "text": [
            "I. The transfer function excluding the dead time of the function is: \n",
            "\n",
            "   3.3\n",
            "---------\n",
            "1.4 s + 1\n",
            "\n",
            "II. The transfer function considering the dead time of the expression would be as follows: \n",
            "\n",
            "        -3.3 s^15 + 1722 s^14 - 4.454e+05 s^13 + 7.553e+07 s^12 - 9.359e+09 s^11 + 8.952e+11 s^10 - 6.811e+13 s^9 + 4.188e+15 s^8 - 2.094e+17 s^7 + 8.498e+18 s^6 - 2.771e+20 s^5 + 7.119e+21 s^4 - 1.393e+23 s^3 + 1.957e+24 s^2 - 1.762e+25 s + 7.661e+25\n",
            "--------------------------------------------------------------------------------------------------------------------------------------------------------------------------------------------------------------------------------------------------------------------\n",
            "1.4 s^16 + 731.4 s^15 + 1.895e+05 s^14 + 3.218e+07 s^13 + 3.993e+09 s^12 + 3.826e+11 s^11 + 2.917e+13 s^10 + 1.797e+15 s^9 + 9.011e+16 s^8 + 3.669e+18 s^7 + 1.201e+20 s^6 + 3.104e+21 s^5 + 6.125e+22 s^4 + 8.723e+23 s^3 + 8.069e+24 s^2 + 3.784e+25 s + 2.322e+25\n",
            "\n"
          ]
        }
      ]
    },
    {
      "cell_type": "code",
      "source": [
        "tstartcyy = 0\n",
        "tendcyy = 14\n",
        "samplecyy = 0.001\n",
        "timecyy = np.arange(tstartcyy,tendcyy+samplecyy, samplecyy)\n",
        "inputcyy = np.ones(timecyy.shape)\n",
        "\n",
        "timecyy, youtcyy = cn.step_response(system_delayedcyy,timecyy)\n",
        "timecyy1, youtcyy1 = cn.impulse_response(system_delayedcyy,timecyy)"
      ],
      "metadata": {
        "colab": {
          "base_uri": "https://localhost:8080/"
        },
        "id": "6fkTC0Z5MTgr",
        "outputId": "0a12ec41-a6c0-426f-b5cf-3b8f50b1923e"
      },
      "execution_count": 25,
      "outputs": [
        {
          "output_type": "stream",
          "name": "stderr",
          "text": [
            "/usr/local/lib/python3.8/dist-packages/scipy/sparse/linalg/matfuncs.py:709: LinAlgWarning: Ill-conditioned matrix (rcond=5.60779e-42): result may not be accurate.\n",
            "  return solve(Q, P)\n"
          ]
        }
      ]
    },
    {
      "cell_type": "code",
      "source": [
        "figure = plt.figure(figsize=(5,5))\n",
        "plt.title('CYY TRANSFER FUNCTION')\n",
        "ax = figure.add_subplot(111)\n",
        "ax.plot(timecyy,youtcyy)\n",
        "ax.plot(timecyy1,youtcyy1)\n",
        "ax.plot(inputcyy,'g')\n",
        "ax.set_label('Plotting Transfer Function')\n",
        "ax.set_xlabel('t')\n",
        "ax.set_ylabel('f(xt)')\n",
        "ax.axis([0,14,0,4])\n",
        "ax.grid()\n",
        "plt.show()"
      ],
      "metadata": {
        "colab": {
          "base_uri": "https://localhost:8080/",
          "height": 350
        },
        "id": "zQxZPBcrMTd6",
        "outputId": "2b56c5b0-f0ed-42ae-c8ed-ac663292d245"
      },
      "execution_count": 30,
      "outputs": [
        {
          "output_type": "display_data",
          "data": {
            "text/plain": [
              "<Figure size 360x360 with 2 Axes>"
            ],
            "image/png": "[encoded data removed]"
          },
          "metadata": {
            "needs_background": "light"
          }
        }
      ]
    },
    {
      "cell_type": "markdown",
      "source": [
        "---"
      ],
      "metadata": {
        "id": "GbQ_f2TGr8k4"
      }
    },
    {
      "cell_type": "markdown",
      "source": [
        "---"
      ],
      "metadata": {
        "id": "cw0Zbf6br8b_"
      }
    },
    {
      "cell_type": "markdown",
      "source": [
        "***iv. Ho et al***\n",
        "\n",
        "Defining transfer funtion with $k=3.3$ and $\\tau=1.0184$\n",
        "\n",
        "$tf(s)=\\frac{3.3}{1.0184s+1}$\n",
        "$e^-(0.65(s))$"
      ],
      "metadata": {
        "id": "S6xay_C3r_zK"
      }
    },
    {
      "cell_type": "code",
      "source": [
        "kh = 3.3\n",
        "th = 1.0184\n",
        "ah= [kh]\n",
        "bh = [th,1]\n",
        "tfh = cn.tf(ah,bh)\n",
        "\n",
        "\n",
        "print('I. The transfer function excluding the dead time of the function is: ')\n",
        "print(tfh)\n",
        "\n",
        "tdh = 0.65\n",
        "ordendh = 15\n",
        "numh, denh = cn.pade(tdh,ordendh)\n",
        "\n",
        "delayh = cn.tf(numh,denh)\n",
        "system_delayedh = tfh*delayh\n",
        "\n",
        "print('II. The transfer function considering the dead time of the expression would be as follows: ')\n",
        "print(system_delayedh)"
      ],
      "metadata": {
        "colab": {
          "base_uri": "https://localhost:8080/"
        },
        "id": "_yNT5CU3MTRo",
        "outputId": "1155cca4-e616-463e-801c-8d3086dffc2e"
      },
      "execution_count": 31,
      "outputs": [
        {
          "output_type": "stream",
          "name": "stdout",
          "text": [
            "I. The transfer function excluding the dead time of the function is: \n",
            "\n",
            "    3.3\n",
            "-----------\n",
            "1.018 s + 1\n",
            "\n",
            "II. The transfer function considering the dead time of the expression would be as follows: \n",
            "\n",
            "        -3.3 s^15 + 1218 s^14 - 2.231e+05 s^13 + 2.677e+07 s^12 - 2.347e+09 s^11 + 1.589e+11 s^10 - 8.556e+12 s^9 + 3.723e+14 s^8 - 1.317e+16 s^7 + 3.784e+17 s^6 - 8.731e+18 s^5 + 1.588e+20 s^4 - 2.198e+21 s^3 + 2.185e+22 s^2 - 1.393e+23 s + 4.285e+23\n",
            "-------------------------------------------------------------------------------------------------------------------------------------------------------------------------------------------------------------------------------------------------------------------\n",
            "1.018 s^16 + 377 s^15 + 6.921e+04 s^14 + 8.329e+06 s^13 + 7.325e+08 s^12 + 4.975e+10 s^11 + 2.689e+12 s^10 + 1.175e+14 s^9 + 4.179e+15 s^8 + 1.208e+17 s^7 + 2.809e+18 s^6 + 5.164e+19 s^5 + 7.265e+20 s^4 + 7.409e+21 s^3 + 4.96e+22 s^2 + 1.744e+23 s + 1.299e+23\n",
            "\n"
          ]
        }
      ]
    },
    {
      "cell_type": "code",
      "source": [
        "tstarth = 0\n",
        "tendh = 14\n",
        "sampleh = 0.001\n",
        "timeh = np.arange(tstarth,tendh+sampleh, sampleh)\n",
        "inputh = np.ones(timeh.shape)\n",
        "\n",
        "timeh, youth = cn.step_response(system_delayedh,timeh)\n",
        "timeh1, youth1 = cn.impulse_response(system_delayedh,timeh)"
      ],
      "metadata": {
        "colab": {
          "base_uri": "https://localhost:8080/"
        },
        "id": "A_Qo7-4Ts2Kz",
        "outputId": "c245d007-c2c3-434a-d50f-f773a3a15c7a"
      },
      "execution_count": 32,
      "outputs": [
        {
          "output_type": "stream",
          "name": "stderr",
          "text": [
            "/usr/local/lib/python3.8/dist-packages/scipy/sparse/linalg/matfuncs.py:709: LinAlgWarning: Ill-conditioned matrix (rcond=3.49138e-38): result may not be accurate.\n",
            "  return solve(Q, P)\n"
          ]
        }
      ]
    },
    {
      "cell_type": "code",
      "source": [
        "figure = plt.figure(figsize=(5,5))\n",
        "plt.title('HO ET AL TRANSFER FUNCTION')\n",
        "ax = figure.add_subplot(111)\n",
        "ax.plot(timeh,youth)\n",
        "ax.plot(timeh1,youth1)\n",
        "ax.plot(inputcyy,'g')\n",
        "ax.set_label('Plotting Transfer Function')\n",
        "ax.set_xlabel('t')\n",
        "ax.set_ylabel('f(xt)')\n",
        "ax.axis([0,14,0,4])\n",
        "ax.grid()\n",
        "plt.show()"
      ],
      "metadata": {
        "colab": {
          "base_uri": "https://localhost:8080/",
          "height": 350
        },
        "id": "gw-GtrxetFWt",
        "outputId": "8dc929ae-aa61-4dd7-fc03-321b33cb2fb3"
      },
      "execution_count": 33,
      "outputs": [
        {
          "output_type": "display_data",
          "data": {
            "text/plain": [
              "<Figure size 360x360 with 2 Axes>"
            ],
            "image/png": "[encoded data removed]"
          },
          "metadata": {
            "needs_background": "light"
          }
        }
      ]
    },
    {
      "cell_type": "markdown",
      "source": [
        "---"
      ],
      "metadata": {
        "id": "LKMncDTZtT3X"
      }
    },
    {
      "cell_type": "markdown",
      "source": [
        "---"
      ],
      "metadata": {
        "id": "vY5A0dyQtTxM"
      }
    },
    {
      "cell_type": "markdown",
      "source": [
        "***v. SMITH***\n",
        "\n",
        "Defining transfer funtion with $k=3.3$ and $\\tau=1.575$\n",
        "\n",
        "$tf(s)=\\frac{3.3}{1.575s+1}$\n",
        "$e^-(0.325(s))$"
      ],
      "metadata": {
        "id": "HTYgyismtTrq"
      }
    },
    {
      "cell_type": "code",
      "source": [
        "ks = 3.3\n",
        "ts = 1.0184\n",
        "asb = [ks]\n",
        "bs = [ts,1]\n",
        "tfs = cn.tf(asb,bs)\n",
        "\n",
        "\n",
        "print('I. The transfer function excluding the dead time of the function is: ')\n",
        "print(tfs)\n",
        "\n",
        "tds = 0.65\n",
        "ordends = 15\n",
        "nums, dens = cn.pade(tds,ordends)\n",
        "\n",
        "delays = cn.tf(nums,dens)\n",
        "system_delayeds = tfs*delays\n",
        "\n",
        "print('II. The transfer function considering the dead time of the expression would be as follows: ')\n",
        "print(system_delayeds)"
      ],
      "metadata": {
        "colab": {
          "base_uri": "https://localhost:8080/"
        },
        "id": "vpc4X1qxtTOa",
        "outputId": "5423865d-be6a-43f0-f9a9-b8f08ce4b3cb"
      },
      "execution_count": 34,
      "outputs": [
        {
          "output_type": "stream",
          "name": "stdout",
          "text": [
            "I. The transfer function excluding the dead time of the function is: \n",
            "\n",
            "    3.3\n",
            "-----------\n",
            "1.018 s + 1\n",
            "\n",
            "II. The transfer function considering the dead time of the expression would be as follows: \n",
            "\n",
            "        -3.3 s^15 + 1218 s^14 - 2.231e+05 s^13 + 2.677e+07 s^12 - 2.347e+09 s^11 + 1.589e+11 s^10 - 8.556e+12 s^9 + 3.723e+14 s^8 - 1.317e+16 s^7 + 3.784e+17 s^6 - 8.731e+18 s^5 + 1.588e+20 s^4 - 2.198e+21 s^3 + 2.185e+22 s^2 - 1.393e+23 s + 4.285e+23\n",
            "-------------------------------------------------------------------------------------------------------------------------------------------------------------------------------------------------------------------------------------------------------------------\n",
            "1.018 s^16 + 377 s^15 + 6.921e+04 s^14 + 8.329e+06 s^13 + 7.325e+08 s^12 + 4.975e+10 s^11 + 2.689e+12 s^10 + 1.175e+14 s^9 + 4.179e+15 s^8 + 1.208e+17 s^7 + 2.809e+18 s^6 + 5.164e+19 s^5 + 7.265e+20 s^4 + 7.409e+21 s^3 + 4.96e+22 s^2 + 1.744e+23 s + 1.299e+23\n",
            "\n"
          ]
        }
      ]
    },
    {
      "cell_type": "code",
      "source": [
        "tstarts = 0\n",
        "tends = 14\n",
        "samples = 0.001\n",
        "times = np.arange(tstarts,tends+samples, samples)\n",
        "inputs = np.ones(times.shape)\n",
        "\n",
        "times, youts = cn.step_response(system_delayeds,times)\n",
        "times1, youts1 = cn.impulse_response(system_delayeds,times)"
      ],
      "metadata": {
        "colab": {
          "base_uri": "https://localhost:8080/"
        },
        "id": "cX-FDdcax_RP",
        "outputId": "22b6e26b-3892-4b9a-c202-00863bf9e009"
      },
      "execution_count": 35,
      "outputs": [
        {
          "output_type": "stream",
          "name": "stderr",
          "text": [
            "/usr/local/lib/python3.8/dist-packages/scipy/sparse/linalg/matfuncs.py:709: LinAlgWarning: Ill-conditioned matrix (rcond=3.49138e-38): result may not be accurate.\n",
            "  return solve(Q, P)\n"
          ]
        }
      ]
    },
    {
      "cell_type": "code",
      "source": [
        "figure = plt.figure(figsize=(5,5))\n",
        "plt.title('SMITH TRANSFER FUNCTION')\n",
        "ax = figure.add_subplot(111)\n",
        "ax.plot(times,youts, color='m')\n",
        "ax.plot(times1,youts1)\n",
        "ax.plot(inputcyy,'g')\n",
        "ax.set_label('Plotting Transfer Function')\n",
        "ax.set_xlabel('t')\n",
        "ax.set_ylabel('f(xt)')\n",
        "ax.axis([0,14,0,4])\n",
        "ax.grid()\n",
        "plt.show()"
      ],
      "metadata": {
        "colab": {
          "base_uri": "https://localhost:8080/",
          "height": 350
        },
        "id": "Ksc56hMzx_Lc",
        "outputId": "aba7cb5a-05fa-456d-dda6-b54a1144ce49"
      },
      "execution_count": 38,
      "outputs": [
        {
          "output_type": "display_data",
          "data": {
            "text/plain": [
              "<Figure size 360x360 with 2 Axes>"
            ],
            "image/png": "[encoded data removed]"
          },
          "metadata": {
            "needs_background": "light"
          }
        }
      ]
    },
    {
      "cell_type": "markdown",
      "source": [
        "---"
      ],
      "metadata": {
        "id": "lfUSxcuyyaDA"
      }
    },
    {
      "cell_type": "markdown",
      "source": [
        "---"
      ],
      "metadata": {
        "id": "MReXNIIvyb9F"
      }
    },
    {
      "cell_type": "markdown",
      "source": [
        "***v. VITECKOVA et al***\n",
        "\n",
        "Defining transfer funtion with $k=3.3$ and $\\tau=1.3695$\n",
        "\n",
        "$tf(s)=\\frac{3.3}{1.3695s+1}$\n",
        "$e^-(0.9522(s))$"
      ],
      "metadata": {
        "id": "MFK2xX2cydeB"
      }
    },
    {
      "cell_type": "code",
      "source": [
        "kv = 3.3\n",
        "tv = 1.3695\n",
        "av = [kv]\n",
        "bv = [tv,1]\n",
        "tfv = cn.tf(av,bv)\n",
        "\n",
        "\n",
        "print('I. The transfer function excluding the dead time of the function is: ')\n",
        "print(tfv)\n",
        "\n",
        "tdv = 0.65\n",
        "ordendv = 15\n",
        "numv, denv = cn.pade(tdv,ordendv)\n",
        "\n",
        "delayv = cn.tf(numv,denv)\n",
        "system_delayedv = tfv*delayv\n",
        "\n",
        "print('II. The transfer function considering the dead time of the expression would be as follows: ')\n",
        "print(system_delayedv)"
      ],
      "metadata": {
        "colab": {
          "base_uri": "https://localhost:8080/"
        },
        "id": "7gQWXQV2yc5f",
        "outputId": "ef55cfe2-4901-4ed3-f0c9-c52fe7cfce61"
      },
      "execution_count": 39,
      "outputs": [
        {
          "output_type": "stream",
          "name": "stdout",
          "text": [
            "I. The transfer function excluding the dead time of the function is: \n",
            "\n",
            "    3.3\n",
            "-----------\n",
            "1.369 s + 1\n",
            "\n",
            "II. The transfer function considering the dead time of the expression would be as follows: \n",
            "\n",
            "       -3.3 s^15 + 1218 s^14 - 2.231e+05 s^13 + 2.677e+07 s^12 - 2.347e+09 s^11 + 1.589e+11 s^10 - 8.556e+12 s^9 + 3.723e+14 s^8 - 1.317e+16 s^7 + 3.784e+17 s^6 - 8.731e+18 s^5 + 1.588e+20 s^4 - 2.198e+21 s^3 + 2.185e+22 s^2 - 1.393e+23 s + 4.285e+23\n",
            "------------------------------------------------------------------------------------------------------------------------------------------------------------------------------------------------------------------------------------------------------------------\n",
            "1.369 s^16 + 506.7 s^15 + 9.294e+04 s^14 + 1.118e+07 s^13 + 9.823e+08 s^12 + 6.666e+10 s^11 + 3.599e+12 s^10 + 1.571e+14 s^9 + 5.58e+15 s^8 + 1.61e+17 s^7 + 3.738e+18 s^6 + 6.853e+19 s^5 + 9.603e+20 s^4 + 9.734e+21 s^3 + 6.442e+22 s^2 + 2.2e+23 s + 1.299e+23\n",
            "\n"
          ]
        }
      ]
    },
    {
      "cell_type": "code",
      "source": [
        "tstartv = 0\n",
        "tendv = 14\n",
        "samplev = 0.001\n",
        "timev = np.arange(tstartv,tendv+samplev, samplev)\n",
        "inputv = np.ones(timev.shape)\n",
        "\n",
        "timev, youtv = cn.step_response(system_delayedv,timev)\n",
        "timev1, youtv1 = cn.impulse_response(system_delayedv,timev)"
      ],
      "metadata": {
        "colab": {
          "base_uri": "https://localhost:8080/"
        },
        "id": "9fXZ9Xrzx_CE",
        "outputId": "fc00b10e-41d7-4ad7-928a-d3075a4e6690"
      },
      "execution_count": 40,
      "outputs": [
        {
          "output_type": "stream",
          "name": "stderr",
          "text": [
            "/usr/local/lib/python3.8/dist-packages/scipy/sparse/linalg/matfuncs.py:709: LinAlgWarning: Ill-conditioned matrix (rcond=3.96837e-38): result may not be accurate.\n",
            "  return solve(Q, P)\n"
          ]
        }
      ]
    },
    {
      "cell_type": "code",
      "source": [
        "figure = plt.figure(figsize=(5,5))\n",
        "plt.title('VITECKOVA TRANSFER FUNCTION')\n",
        "ax = figure.add_subplot(111)\n",
        "ax.plot(timev,youtv, color='m')\n",
        "ax.plot(timev1,youtv1, color='y')\n",
        "ax.plot(inputcyy,'d')\n",
        "ax.set_label('Plotting Transfer Function')\n",
        "ax.set_xlabel('t')\n",
        "ax.set_ylabel('f(xt)')\n",
        "ax.axis([0,14,0,4])\n",
        "ax.grid()\n",
        "plt.show()"
      ],
      "metadata": {
        "colab": {
          "base_uri": "https://localhost:8080/",
          "height": 350
        },
        "id": "9W_EIf4IzHEb",
        "outputId": "b0679613-afbc-418d-902a-b8d25803493a"
      },
      "execution_count": 46,
      "outputs": [
        {
          "output_type": "display_data",
          "data": {
            "text/plain": [
              "<Figure size 360x360 with 2 Axes>"
            ],
            "image/png": "[encoded data removed]"
          },
          "metadata": {
            "needs_background": "light"
          }
        }
      ]
    }
  ]
}