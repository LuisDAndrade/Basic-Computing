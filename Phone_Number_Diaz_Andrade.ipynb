{
  "nbformat": 4,
  "nbformat_minor": 0,
  "metadata": {
    "colab": {
      "provenance": [],
      "authorship_tag": "ABX9TyMfHn8A7gekwNI5nQChHGrh",
      "include_colab_link": true
    },
    "kernelspec": {
      "name": "python3",
      "display_name": "Python 3"
    },
    "language_info": {
      "name": "python"
    }
  },
  "cells": [
    {
      "cell_type": "markdown",
      "metadata": {
        "id": "view-in-github",
        "colab_type": "text"
      },
      "source": [
        "<a href=\"https://colab.research.google.com/github/LuisDAndrade/Basic-Computing/blob/main/Phone_Number_Diaz_Andrade.ipynb\" target=\"_parent\"><img src=\"https://colab.research.google.com/assets/colab-badge.svg\" alt=\"Open In Colab\"/></a>"
      ]
    },
    {
      "cell_type": "markdown",
      "source": [
        "#**TECNM | CAMPUS PABELLÓN DE ARTEAGA** ⚙️💡\n",
        "\n",
        "#**Master of Science in Mechatronics Engineering** 📊"
      ],
      "metadata": {
        "id": "e4G-OslJmVBC"
      }
    },
    {
      "cell_type": "markdown",
      "source": [
        "---\n",
        "##**BASIC COMPUTING I 🧑🏻‍💻**  \n",
        "---\n",
        "##***ACT. 3.4 Phone Number 💡📲***  \n",
        "\n",
        "* **Professor: Dr. Francisco Villanueva Mejia👨🏻‍🏫**\n",
        "\n",
        "* **Student: Luis Bryant Díaz Andrade 🧑🏻‍💻**\n",
        "\n",
        "*Date: May 26th, 2023*\n",
        "\n",
        "---"
      ],
      "metadata": {
        "id": "fYUsSe7NmXp1"
      }
    },
    {
      "cell_type": "markdown",
      "source": [
        "##**i. Introduction.⚡**\n",
        "\n",
        "**In the present program we will make a geolocator of cell phone numbers, first we will put a cell phone number from Aguascalientes that belongs to the company AT&T, then one from the Dominican Republic, which belongs to the company 'Orange'.**"
      ],
      "metadata": {
        "id": "w4IZ4NuYxHMc"
      }
    },
    {
      "cell_type": "code",
      "execution_count": 1,
      "metadata": {
        "colab": {
          "base_uri": "https://localhost:8080/"
        },
        "id": "bfGdiS6omRJU",
        "outputId": "aa0d9fb9-a0c9-4fa3-eec2-7f66d5c984c5"
      },
      "outputs": [
        {
          "output_type": "stream",
          "name": "stdout",
          "text": [
            "Looking in indexes: https://pypi.org/simple, https://us-python.pkg.dev/colab-wheels/public/simple/\n",
            "Requirement already satisfied: phonenumbers in /usr/local/lib/python3.10/dist-packages (8.13.11)\n"
          ]
        }
      ],
      "source": [
        "!pip install phonenumbers"
      ]
    },
    {
      "cell_type": "code",
      "source": [
        "import phonenumbers "
      ],
      "metadata": {
        "id": "136qN9usnG9h"
      },
      "execution_count": 2,
      "outputs": []
    },
    {
      "cell_type": "code",
      "source": [
        "from phonenumbers import geocoder\n",
        "from phonenumbers import carrier \n",
        "from phonenumbers import timezone"
      ],
      "metadata": {
        "id": "5tgQHp0BukF9"
      },
      "execution_count": 3,
      "outputs": []
    },
    {
      "cell_type": "code",
      "source": [
        "number = phonenumbers.parse('+524498526589')"
      ],
      "metadata": {
        "id": "FtEXpGcuuysL"
      },
      "execution_count": 4,
      "outputs": []
    },
    {
      "cell_type": "code",
      "source": [
        "print('Getting the zone of the number... 📡')\n",
        "\n",
        "zone = timezone.time_zones_for_number(number)\n",
        "\n",
        "print('')\n",
        "print('Ready✅ ')\n",
        "\n",
        "print('The zone is:', zone)"
      ],
      "metadata": {
        "colab": {
          "base_uri": "https://localhost:8080/"
        },
        "id": "i1-h66sRupvj",
        "outputId": "8dd27451-2fa8-434c-99c7-b34904eab296"
      },
      "execution_count": 5,
      "outputs": [
        {
          "output_type": "stream",
          "name": "stdout",
          "text": [
            "Getting the zone of the number... 📡\n",
            "\n",
            "Ready✅ \n",
            "The zone is: ('America/Mexico_City',)\n"
          ]
        }
      ]
    },
    {
      "cell_type": "code",
      "source": [
        "print('Getting the city of the Number.... 📡')\n",
        "\n",
        "geo =  geocoder.description_for_number(number,'sp')\n",
        "\n",
        "print('')\n",
        "print('Ready✅ ')\n",
        "\n",
        "print('The city is: ', geo)"
      ],
      "metadata": {
        "colab": {
          "base_uri": "https://localhost:8080/"
        },
        "id": "ngnCSi7Xu_08",
        "outputId": "3fb42387-bf2a-4c72-b55f-5254df71a726"
      },
      "execution_count": 6,
      "outputs": [
        {
          "output_type": "stream",
          "name": "stdout",
          "text": [
            "Getting the city of the Number.... 📡\n",
            "\n",
            "Ready✅ \n",
            "The city is:  Aguascalientes/Jesus Maria, AGS\n"
          ]
        }
      ]
    },
    {
      "cell_type": "code",
      "source": [
        "print('Getting the company of the Number.... 📡')\n",
        "\n",
        "carrier = carrier.name_for_number(number, 'sp')\n",
        "\n",
        "\n",
        "print('')\n",
        "print('Ready✅ ')\n",
        "\n",
        "print('The company is: ', carrier)"
      ],
      "metadata": {
        "colab": {
          "base_uri": "https://localhost:8080/"
        },
        "id": "ouyokfYmvBo2",
        "outputId": "714c6ecf-d0d2-4eb1-b1a3-53691af1af79"
      },
      "execution_count": 7,
      "outputs": [
        {
          "output_type": "stream",
          "name": "stdout",
          "text": [
            "Getting the company of the Number.... 📡\n",
            "\n",
            "Ready✅ \n",
            "The company is:  \n"
          ]
        }
      ]
    },
    {
      "cell_type": "markdown",
      "source": [
        "**⚠⚠⚠ As we can see, some companies such as AT&T are not traceable, so we will now do the exercise with a traceable number to evaluate the effectiveness of our program.**"
      ],
      "metadata": {
        "id": "zQwRI8mexv15"
      }
    },
    {
      "cell_type": "code",
      "source": [
        "del carrier, geo, zone,number"
      ],
      "metadata": {
        "id": "hQ7wsO9ywXRo"
      },
      "execution_count": 8,
      "outputs": []
    },
    {
      "cell_type": "code",
      "source": [
        "number2 = phonenumbers.parse('+18098596555')"
      ],
      "metadata": {
        "id": "w6ADSISHvZKX"
      },
      "execution_count": 9,
      "outputs": []
    },
    {
      "cell_type": "code",
      "source": [
        "print('Getting the zone of the number... 📡')\n",
        "\n",
        "zone = timezone.time_zones_for_number(number2)\n",
        "\n",
        "\n",
        "print('')\n",
        "print('Ready✅ ')\n",
        "\n",
        "print('The zone is:', zone)\n",
        "\n",
        "\n",
        "print('Getting the city of the Number.... 📡')\n",
        "\n",
        "geo =  geocoder.description_for_number(number2,'sp')\n",
        "\n",
        "\n",
        "print('')\n",
        "print('Ready✅ ')\n",
        "\n",
        "print('The city is: ', geo)"
      ],
      "metadata": {
        "colab": {
          "base_uri": "https://localhost:8080/"
        },
        "id": "TqjdlQ8HvgYb",
        "outputId": "3a31c5cf-6943-4f72-fddd-d97c21a2894b"
      },
      "execution_count": 10,
      "outputs": [
        {
          "output_type": "stream",
          "name": "stdout",
          "text": [
            "Getting the zone of the number... 📡\n",
            "\n",
            "Ready✅ \n",
            "The zone is: ('America/Santo_Domingo',)\n",
            "Getting the city of the Number.... 📡\n",
            "\n",
            "Ready✅ \n",
            "The city is:  \n"
          ]
        }
      ]
    },
    {
      "cell_type": "code",
      "source": [
        "from phonenumbers import carrier "
      ],
      "metadata": {
        "id": "4WhPNDHcxADQ"
      },
      "execution_count": 11,
      "outputs": []
    },
    {
      "cell_type": "code",
      "source": [
        "print('Getting the company of the Number.... 📡')\n",
        "\n",
        "carrier2 = carrier.name_for_number(number2, 'sp')\n",
        "\n",
        "print('')\n",
        "print('Ready✅ ')\n",
        "\n",
        "print('The company is: ', carrier2)"
      ],
      "metadata": {
        "colab": {
          "base_uri": "https://localhost:8080/"
        },
        "id": "Gcthm_LfvrtG",
        "outputId": "2ff31eed-64ef-4e5b-dda9-9f9edb2d0813"
      },
      "execution_count": 12,
      "outputs": [
        {
          "output_type": "stream",
          "name": "stdout",
          "text": [
            "Getting the company of the Number.... 📡\n",
            "\n",
            "Ready✅ \n",
            "The company is:  Orange\n"
          ]
        }
      ]
    }
  ]
}