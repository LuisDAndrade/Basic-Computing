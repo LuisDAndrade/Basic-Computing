{
  "nbformat": 4,
  "nbformat_minor": 0,
  "metadata": {
    "colab": {
      "provenance": [],
      "authorship_tag": "ABX9TyNdgkYElOIin6SIYCACadrp",
      "include_colab_link": true
    },
    "kernelspec": {
      "name": "python3",
      "display_name": "Python 3"
    },
    "language_info": {
      "name": "python"
    }
  },
  "cells": [
    {
      "cell_type": "markdown",
      "metadata": {
        "id": "view-in-github",
        "colab_type": "text"
      },
      "source": [
        "<a href=\"https://colab.research.google.com/github/LuisDAndrade/Basic-Computing/blob/main/III_Second_Order_Sub_Adjusted_to_First_Order%F0%9F%93%8A.ipynb\" target=\"_parent\"><img src=\"https://colab.research.google.com/assets/colab-badge.svg\" alt=\"Open In Colab\"/></a>"
      ]
    },
    {
      "cell_type": "markdown",
      "source": [
        "#***III. Simulation of Transfer Functions. Second Order Sub-Adjusted to First Order📊***"
      ],
      "metadata": {
        "id": "8sMbkDk4YLAJ"
      }
    },
    {
      "cell_type": "markdown",
      "source": [
        "**Professor: Dr. Martín Montes Rivera 👨🏻‍🏫**\n",
        "\n",
        "\n",
        "**Student: Luis Bryant Díaz Andrade 🧑🏻‍💻**\n",
        "\n",
        "*Date: February 20th, 2023*"
      ],
      "metadata": {
        "id": "smbIKjOZYSo_"
      }
    },
    {
      "cell_type": "code",
      "source": [
        "!pip install control"
      ],
      "metadata": {
        "colab": {
          "base_uri": "https://localhost:8080/"
        },
        "id": "Xy4Sve1PYlcN",
        "outputId": "30e82b01-3fe6-44dc-f1de-e1bbc51081dc"
      },
      "execution_count": 1,
      "outputs": [
        {
          "output_type": "stream",
          "name": "stdout",
          "text": [
            "Looking in indexes: https://pypi.org/simple, https://us-python.pkg.dev/colab-wheels/public/simple/\n",
            "Requirement already satisfied: control in /usr/local/lib/python3.9/dist-packages (0.9.3.post2)\n",
            "Requirement already satisfied: scipy>=1.3 in /usr/local/lib/python3.9/dist-packages (from control) (1.10.1)\n",
            "Requirement already satisfied: matplotlib in /usr/local/lib/python3.9/dist-packages (from control) (3.7.1)\n",
            "Requirement already satisfied: numpy in /usr/local/lib/python3.9/dist-packages (from control) (1.22.4)\n",
            "Requirement already satisfied: pillow>=6.2.0 in /usr/local/lib/python3.9/dist-packages (from matplotlib->control) (8.4.0)\n",
            "Requirement already satisfied: pyparsing>=2.3.1 in /usr/local/lib/python3.9/dist-packages (from matplotlib->control) (3.0.9)\n",
            "Requirement already satisfied: fonttools>=4.22.0 in /usr/local/lib/python3.9/dist-packages (from matplotlib->control) (4.39.2)\n",
            "Requirement already satisfied: importlib-resources>=3.2.0 in /usr/local/lib/python3.9/dist-packages (from matplotlib->control) (5.12.0)\n",
            "Requirement already satisfied: kiwisolver>=1.0.1 in /usr/local/lib/python3.9/dist-packages (from matplotlib->control) (1.4.4)\n",
            "Requirement already satisfied: python-dateutil>=2.7 in /usr/local/lib/python3.9/dist-packages (from matplotlib->control) (2.8.2)\n",
            "Requirement already satisfied: contourpy>=1.0.1 in /usr/local/lib/python3.9/dist-packages (from matplotlib->control) (1.0.7)\n",
            "Requirement already satisfied: packaging>=20.0 in /usr/local/lib/python3.9/dist-packages (from matplotlib->control) (23.0)\n",
            "Requirement already satisfied: cycler>=0.10 in /usr/local/lib/python3.9/dist-packages (from matplotlib->control) (0.11.0)\n",
            "Requirement already satisfied: zipp>=3.1.0 in /usr/local/lib/python3.9/dist-packages (from importlib-resources>=3.2.0->matplotlib->control) (3.15.0)\n",
            "Requirement already satisfied: six>=1.5 in /usr/local/lib/python3.9/dist-packages (from python-dateutil>=2.7->matplotlib->control) (1.16.0)\n"
          ]
        }
      ]
    },
    {
      "cell_type": "code",
      "source": [
        "import numpy as np\n",
        "import control as cn\n",
        "import matplotlib.pyplot as plt\n",
        "from math import log"
      ],
      "metadata": {
        "id": "wBSjwhTAYnuZ"
      },
      "execution_count": 2,
      "outputs": []
    },
    {
      "cell_type": "code",
      "source": [
        "k = 2.5\n",
        "\n",
        "\n",
        "t15 = 1.8\n",
        "t45 = 1.9\n",
        "t75 = 2.1\n",
        "\n",
        "x = (t45-t15)/(t75-t15)\n",
        "lm = (0.0805 - 5.547 * ((0.475-x)**2))/(x-0.356)\n",
        "\n",
        "f2 = 0.708*(2.811)**2\n",
        "f3 = 0.922*(1.66)**2\n",
        "wn = f2/(t75-t15)\n",
        "tm = t45-(f3/wn)\n",
        "\n",
        "tau1 = (lm + (np.sqrt((lm**2)-1)))/wn\n",
        "tau2 = (lm - (np.sqrt((lm**2)-1)))/wn\n",
        "\n",
        "st = cn.tf([1,0],[0,1])\n",
        "\n",
        "tf = k / ((tau1*st+1)*(tau2*st+1))\n",
        "\n",
        "ordend = 10\n",
        "numd, dend = cn.pade(tm,ordend)\n",
        "delay = cn.tf(numd,dend)\n",
        "system_delayed = tf*delay\n",
        "\n"
      ],
      "metadata": {
        "id": "nqy3LZaOYq_u"
      },
      "execution_count": 11,
      "outputs": []
    },
    {
      "cell_type": "code",
      "source": [
        "num = [k]\n",
        "den=[tau1*tau2,tau1+tau2,1]\n",
        "\n",
        "cn.tf(num,den)"
      ],
      "metadata": {
        "colab": {
          "base_uri": "https://localhost:8080/",
          "height": 38
        },
        "id": "7P89S_INjWPa",
        "outputId": "a6bf1047-c954-4cd0-d2bf-ef27132d1535"
      },
      "execution_count": 12,
      "outputs": [
        {
          "output_type": "execute_result",
          "data": {
            "text/plain": [
              "TransferFunction(array([2.5]), array([0.00287563, 0.14585276, 1.        ]))"
            ],
            "text/latex": "$$\\frac{2.5}{0.002876 s^2 + 0.1459 s + 1}$$"
          },
          "metadata": {},
          "execution_count": 12
        }
      ]
    },
    {
      "cell_type": "code",
      "source": [
        "tstart =0\n",
        "tend = 17\n",
        "sample = 0.001\n",
        "time = np.arange(tstart,tend+sample, sample)\n",
        "input2 = np.ones(time.shape)\n",
        "time, yout = cn.step_response(system_delayed,time)"
      ],
      "metadata": {
        "id": "073WWG8_je7f"
      },
      "execution_count": 13,
      "outputs": []
    },
    {
      "cell_type": "code",
      "source": [
        "figure = plt.figure(figsize=(10,10))\n",
        "ax = figure.add_subplot(111)\n",
        "ax.plot(time,yout)\n",
        "ax.plot(input2,'r')\n",
        "ax.set_title('Plotting Transfer Function')\n",
        "ax.set_xlabel('t')\n",
        "ax.set_ylabel('x(t)')\n",
        "ax.axis([0,14,0,5])\n",
        "ax.grid()\n",
        "plt.show() "
      ],
      "metadata": {
        "colab": {
          "base_uri": "https://localhost:8080/",
          "height": 621
        },
        "id": "x_2c8eFVjgUS",
        "outputId": "b495e8b5-5909-4b67-cdc0-d4f8be3793d8"
      },
      "execution_count": 14,
      "outputs": [
        {
          "output_type": "display_data",
          "data": {
            "text/plain": [
              "<Figure size 720x720 with 1 Axes>"
            ],
            "image/png": "[encoded data removed]"
          },
          "metadata": {
            "needs_background": "light"
          }
        }
      ]
    }
  ]
}