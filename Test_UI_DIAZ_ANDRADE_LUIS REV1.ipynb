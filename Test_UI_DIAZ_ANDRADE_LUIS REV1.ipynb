{
  "nbformat": 4,
  "nbformat_minor": 0,
  "metadata": {
    "colab": {
      "provenance": [],
      "authorship_tag": "ABX9TyOuIq1S9Uj3zpmfmVuwambX",
      "include_colab_link": true
    },
    "kernelspec": {
      "name": "python3",
      "display_name": "Python 3"
    },
    "language_info": {
      "name": "python"
    }
  },
  "cells": [
    {
      "cell_type": "markdown",
      "metadata": {
        "id": "view-in-github",
        "colab_type": "text"
      },
      "source": [
        "<a href=\"https://colab.research.google.com/github/LuisDAndrade/Basic-Computing/blob/main/Test_UI_DIAZ_ANDRADE_LUIS%20REV1.ipynb\" target=\"_parent\"><img src=\"https://colab.research.google.com/assets/colab-badge.svg\" alt=\"Open In Colab\"/></a>"
      ]
    },
    {
      "cell_type": "markdown",
      "source": [
        "# **TECNM | CAMPUS PABELLÓN DE ARTEAGA ⚙️💡**\n",
        "\n",
        "#**Master of Science in Mechatronics Engineering 📊**\n",
        "\n",
        ".... <img src=\"https://www.cdcuauhtemoc.tecnm.mx/wp-content/uploads/2021/08/LOGO-VERTICAL-TECNM.png\" width=\"100px\"> \n",
        ".... <img src=\"https://logos-world.net/wp-content/uploads/2021/10/Python-Symbol.png\" width=\"190px\">\n",
        ".... <img src='data:image/png;base64,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' width=\"270px\">\n",
        "\n",
        "---\n",
        "\n",
        "\n",
        "\n",
        "\n",
        "\n",
        "\n",
        "\n",
        "\n"
      ],
      "metadata": {
        "id": "vcu4gi01wWT-"
      }
    },
    {
      "cell_type": "markdown",
      "source": [
        "---\n",
        "##***Exam Unit I. Linearity and Transfer Functions***  <img src=\"https://raw.githubusercontent.com/ahmad88me/draw-function-3d/master/draw-function-3d.png\" width=\"50px\"> \n",
        "\n",
        "**Professor: Dr. Martín Montes Rivera 👨🏻‍🏫**\n",
        "\n",
        "**Student: Luis Bryant Díaz Andrade 🧑🏻‍💻**\n",
        "\n",
        "*Date: March 06th, 2023*\n",
        "\n",
        "---"
      ],
      "metadata": {
        "id": "RFyNYro6Hwul"
      }
    },
    {
      "cell_type": "markdown",
      "source": [
        "*Instructions: The student performs as indicated in each exercise:*\n",
        "\n",
        "##***EXERCISE I. 🏋️‍♂️*** \n",
        "\n",
        "*The data of the angular velocity measurement in a DC motor obtained by means of a tachometer by two persons (A and B), without changes in its power supply voltage, are shown below, two persons (A and B), without making changes in its supply voltage are shown below.*\n",
        "\n",
        "\n",
        "*   *Person A dur 1: 648 rpm*\n",
        "*   *Person A dur 2: 640 rpm*\n",
        "*   *Person A dur 3: 630 rpm*\n",
        "*   *Person B dur 1: 670 rpm*\n",
        "*   *Person B dur 2: 650 rpm*\n",
        "*   *Person B dur 3: 645 rpm*\n",
        "\n",
        "*If it is known that the actual motor speed is 800 rmp for the applied voltage value, determine the absolute error, relative error, uncertainty, fidelity and reproducibility with the measurements obtained, absolute, relative, uncertainty, fidelity and reproducibility with the measurements obtained.*\n",
        "\n",
        "*    [a] Is the sensor accurate or precise?\n",
        "\n",
        "\n",
        "\n",
        "> <img src=\"http://www.ardilu.com/wp-content/uploads/2021/12/Excel-2.png\" width=\"60px\"> Warning: This exercise has a test part in excel format named \"EXC1_TEST.XLS\" attached inside the folder of this work. \n"
      ],
      "metadata": {
        "id": "mVey1xGnN7LT"
      }
    },
    {
      "cell_type": "code",
      "source": [
        "import pandas as pd\n",
        "import numpy as np\n",
        "\n",
        "vel = pd.DataFrame({\"Person A\": np.array([648,640,630]), \"Person B\": np.array([670,650,645])})\n",
        "real = 800\n",
        "\n",
        "vel"
      ],
      "metadata": {
        "colab": {
          "base_uri": "https://localhost:8080/",
          "height": 144
        },
        "id": "dmQUN_DJ81eG",
        "outputId": "8616e239-fa5d-4677-be90-6f3c1e068730"
      },
      "execution_count": 1,
      "outputs": [
        {
          "output_type": "execute_result",
          "data": {
            "text/plain": [
              "   Person A  Person B\n",
              "0       648       670\n",
              "1       640       650\n",
              "2       630       645"
            ],
            "text/html": [
              "\n",
              "  <div id=\"df-4245db95-ac77-46aa-a05c-53e592368948\">\n",
              "    <div class=\"colab-df-container\">\n",
              "      <div>\n",
              "<style scoped>\n",
              "    .dataframe tbody tr th:only-of-type {\n",
              "        vertical-align: middle;\n",
              "    }\n",
              "\n",
              "    .dataframe tbody tr th {\n",
              "        vertical-align: top;\n",
              "    }\n",
              "\n",
              "    .dataframe thead th {\n",
              "        text-align: right;\n",
              "    }\n",
              "</style>\n",
              "<table border=\"1\" class=\"dataframe\">\n",
              "  <thead>\n",
              "    <tr style=\"text-align: right;\">\n",
              "      <th></th>\n",
              "      <th>Person A</th>\n",
              "      <th>Person B</th>\n",
              "    </tr>\n",
              "  </thead>\n",
              "  <tbody>\n",
              "    <tr>\n",
              "      <th>0</th>\n",
              "      <td>648</td>\n",
              "      <td>670</td>\n",
              "    </tr>\n",
              "    <tr>\n",
              "      <th>1</th>\n",
              "      <td>640</td>\n",
              "      <td>650</td>\n",
              "    </tr>\n",
              "    <tr>\n",
              "      <th>2</th>\n",
              "      <td>630</td>\n",
              "      <td>645</td>\n",
              "    </tr>\n",
              "  </tbody>\n",
              "</table>\n",
              "</div>\n",
              "      <button class=\"colab-df-convert\" onclick=\"convertToInteractive('df-4245db95-ac77-46aa-a05c-53e592368948')\"\n",
              "              title=\"Convert this dataframe to an interactive table.\"\n",
              "              style=\"display:none;\">\n",
              "        \n",
              "  <svg xmlns=\"http://www.w3.org/2000/svg\" height=\"24px\"viewBox=\"0 0 24 24\"\n",
              "       width=\"24px\">\n",
              "    <path d=\"M0 0h24v24H0V0z\" fill=\"none\"/>\n",
              "    <path d=\"M18.56 5.44l.94 2.06.94-2.06 2.06-.94-2.06-.94-.94-2.06-.94 2.06-2.06.94zm-11 1L8.5 8.5l.94-2.06 2.06-.94-2.06-.94L8.5 2.5l-.94 2.06-2.06.94zm10 10l.94 2.06.94-2.06 2.06-.94-2.06-.94-.94-2.06-.94 2.06-2.06.94z\"/><path d=\"M17.41 7.96l-1.37-1.37c-.4-.4-.92-.59-1.43-.59-.52 0-1.04.2-1.43.59L10.3 9.45l-7.72 7.72c-.78.78-.78 2.05 0 2.83L4 21.41c.39.39.9.59 1.41.59.51 0 1.02-.2 1.41-.59l7.78-7.78 2.81-2.81c.8-.78.8-2.07 0-2.86zM5.41 20L4 18.59l7.72-7.72 1.47 1.35L5.41 20z\"/>\n",
              "  </svg>\n",
              "      </button>\n",
              "      \n",
              "  <style>\n",
              "    .colab-df-container {\n",
              "      display:flex;\n",
              "      flex-wrap:wrap;\n",
              "      gap: 12px;\n",
              "    }\n",
              "\n",
              "    .colab-df-convert {\n",
              "      background-color: #E8F0FE;\n",
              "      border: none;\n",
              "      border-radius: 50%;\n",
              "      cursor: pointer;\n",
              "      display: none;\n",
              "      fill: #1967D2;\n",
              "      height: 32px;\n",
              "      padding: 0 0 0 0;\n",
              "      width: 32px;\n",
              "    }\n",
              "\n",
              "    .colab-df-convert:hover {\n",
              "      background-color: #E2EBFA;\n",
              "      box-shadow: 0px 1px 2px rgba(60, 64, 67, 0.3), 0px 1px 3px 1px rgba(60, 64, 67, 0.15);\n",
              "      fill: #174EA6;\n",
              "    }\n",
              "\n",
              "    [theme=dark] .colab-df-convert {\n",
              "      background-color: #3B4455;\n",
              "      fill: #D2E3FC;\n",
              "    }\n",
              "\n",
              "    [theme=dark] .colab-df-convert:hover {\n",
              "      background-color: #434B5C;\n",
              "      box-shadow: 0px 1px 3px 1px rgba(0, 0, 0, 0.15);\n",
              "      filter: drop-shadow(0px 1px 2px rgba(0, 0, 0, 0.3));\n",
              "      fill: #FFFFFF;\n",
              "    }\n",
              "  </style>\n",
              "\n",
              "      <script>\n",
              "        const buttonEl =\n",
              "          document.querySelector('#df-4245db95-ac77-46aa-a05c-53e592368948 button.colab-df-convert');\n",
              "        buttonEl.style.display =\n",
              "          google.colab.kernel.accessAllowed ? 'block' : 'none';\n",
              "\n",
              "        async function convertToInteractive(key) {\n",
              "          const element = document.querySelector('#df-4245db95-ac77-46aa-a05c-53e592368948');\n",
              "          const dataTable =\n",
              "            await google.colab.kernel.invokeFunction('convertToInteractive',\n",
              "                                                     [key], {});\n",
              "          if (!dataTable) return;\n",
              "\n",
              "          const docLinkHtml = 'Like what you see? Visit the ' +\n",
              "            '<a target=\"_blank\" href=https://colab.research.google.com/notebooks/data_table.ipynb>data table notebook</a>'\n",
              "            + ' to learn more about interactive tables.';\n",
              "          element.innerHTML = '';\n",
              "          dataTable['output_type'] = 'display_data';\n",
              "          await google.colab.output.renderOutput(dataTable, element);\n",
              "          const docLink = document.createElement('div');\n",
              "          docLink.innerHTML = docLinkHtml;\n",
              "          element.appendChild(docLink);\n",
              "        }\n",
              "      </script>\n",
              "    </div>\n",
              "  </div>\n",
              "  "
            ]
          },
          "metadata": {},
          "execution_count": 1
        }
      ]
    },
    {
      "cell_type": "markdown",
      "source": [
        "---\n",
        "***I.1 Error Absoluto 🦾***\n",
        "\n",
        "---\n"
      ],
      "metadata": {
        "id": "EYT4Ih8uZ8XI"
      }
    },
    {
      "cell_type": "markdown",
      "source": [
        "Formule: $Absolute error = Result - True Value$"
      ],
      "metadata": {
        "id": "acrNDLxxxfZi"
      }
    },
    {
      "cell_type": "code",
      "source": [
        "\n",
        "ea1a= ((vel['Person A'][0])-800)\n",
        "ea1b= ((vel['Person B'][0])-800)\n",
        "ea2a= ((vel['Person A'][1])-800)\n",
        "ea2b= ((vel['Person B'][1])-800)\n",
        "ea3a= ((vel['Person A'][2])-800)\n",
        "ea3b= ((vel['Person B'][2])-800)\n",
        "\n",
        "print('Absolute error 1A is equal to: ',ea1a)\n",
        "\n",
        "print('Absolute error 2A is equal to: ',ea2a) \n",
        "\n",
        "print('Absolute error 3A is equal to: ',ea3a) \n",
        "\n",
        "print('Absolute error 1B is equal to: ',ea1b) \n",
        "\n",
        "print('Absolute error 2B is equal to: ',ea2b) \n",
        "\n",
        "print('Absolute error 3B is equal to: ',ea3b) "
      ],
      "metadata": {
        "colab": {
          "base_uri": "https://localhost:8080/"
        },
        "id": "ktzbC-PnBNZQ",
        "outputId": "93dd9a3f-9ce5-487b-8fad-1ae1f62d5816"
      },
      "execution_count": 2,
      "outputs": [
        {
          "output_type": "stream",
          "name": "stdout",
          "text": [
            "Absolute error 1A is equal to:  -152\n",
            "Absolute error 2A is equal to:  -160\n",
            "Absolute error 3A is equal to:  -170\n",
            "Absolute error 1B is equal to:  -130\n",
            "Absolute error 2B is equal to:  -150\n",
            "Absolute error 3B is equal to:  -155\n"
          ]
        }
      ]
    },
    {
      "cell_type": "markdown",
      "source": [
        "--- \n",
        "***I.2 Error Relativo 🦾***\n",
        "\n",
        "---\n"
      ],
      "metadata": {
        "id": "IEqy_YyVbV7K"
      }
    },
    {
      "cell_type": "markdown",
      "source": [
        "$Relative Error = \\frac {absolute_error}{true_value}$"
      ],
      "metadata": {
        "id": "VlpNHPlcxs6X"
      }
    },
    {
      "cell_type": "code",
      "source": [
        "er1a= ((vel['Person A'][0])-800)/800\n",
        "er1b= ((vel['Person B'][0])-800)/800\n",
        "er2a= ((vel['Person A'][1])-800)/800\n",
        "er2b= ((vel['Person B'][1])-800)/800\n",
        "er3a= ((vel['Person A'][2])-800)/800\n",
        "er3b= ((vel['Person B'][2])-800)/800\n",
        "\n",
        "print('Relative error 1A is equal to:',er1a*100,'%')\n",
        "\n",
        "print('Relative error 2A is equal to:',er2a*100,'%') \n",
        "\n",
        "print('Relative error 3A is equal to:',er3a*100,'%') \n",
        "\n",
        "print('Relative error 1B is equal to:',er1b*100,'%') \n",
        "\n",
        "print('Relative error 2B is equal to:',er2b*100,'%') \n",
        "\n",
        "print('Relative error 3B is equal to:',er3b*100,'%') "
      ],
      "metadata": {
        "colab": {
          "base_uri": "https://localhost:8080/"
        },
        "id": "IUZPRvQKbm_p",
        "outputId": "46215c04-6aea-4a93-82a7-8325141cb7d7"
      },
      "execution_count": 3,
      "outputs": [
        {
          "output_type": "stream",
          "name": "stdout",
          "text": [
            "Relative error 1A is equal to: -19.0 %\n",
            "Relative error 2A is equal to: -20.0 %\n",
            "Relative error 3A is equal to: -21.25 %\n",
            "Relative error 1B is equal to: -16.25 %\n",
            "Relative error 2B is equal to: -18.75 %\n",
            "Relative error 3B is equal to: -19.375 %\n"
          ]
        }
      ]
    },
    {
      "cell_type": "markdown",
      "source": [
        "---\n",
        "***I.3 Fidelidad e Incertidumbre 🦾***\n",
        "\n",
        "---"
      ],
      "metadata": {
        "id": "HDQEPOp3ctjg"
      }
    },
    {
      "cell_type": "markdown",
      "source": [
        "$Fidelity = |VAL.MED_1 - VAL.MED_2|$\n",
        "\n",
        "$Uncertainty = Max. Value-Min. Value$"
      ],
      "metadata": {
        "id": "WIH-zAICx8Cg"
      }
    },
    {
      "cell_type": "code",
      "source": [
        "vel.describe()"
      ],
      "metadata": {
        "id": "Q328Eti_cs8k",
        "colab": {
          "base_uri": "https://localhost:8080/",
          "height": 301
        },
        "outputId": "19521785-ae9a-44c3-d0fb-bf2d09d8df10"
      },
      "execution_count": 4,
      "outputs": [
        {
          "output_type": "execute_result",
          "data": {
            "text/plain": [
              "         Person A    Person B\n",
              "count    3.000000    3.000000\n",
              "mean   639.333333  655.000000\n",
              "std      9.018500   13.228757\n",
              "min    630.000000  645.000000\n",
              "25%    635.000000  647.500000\n",
              "50%    640.000000  650.000000\n",
              "75%    644.000000  660.000000\n",
              "max    648.000000  670.000000"
            ],
            "text/html": [
              "\n",
              "  <div id=\"df-20c51530-8d9b-44e2-a5b4-a0ef8ff07880\">\n",
              "    <div class=\"colab-df-container\">\n",
              "      <div>\n",
              "<style scoped>\n",
              "    .dataframe tbody tr th:only-of-type {\n",
              "        vertical-align: middle;\n",
              "    }\n",
              "\n",
              "    .dataframe tbody tr th {\n",
              "        vertical-align: top;\n",
              "    }\n",
              "\n",
              "    .dataframe thead th {\n",
              "        text-align: right;\n",
              "    }\n",
              "</style>\n",
              "<table border=\"1\" class=\"dataframe\">\n",
              "  <thead>\n",
              "    <tr style=\"text-align: right;\">\n",
              "      <th></th>\n",
              "      <th>Person A</th>\n",
              "      <th>Person B</th>\n",
              "    </tr>\n",
              "  </thead>\n",
              "  <tbody>\n",
              "    <tr>\n",
              "      <th>count</th>\n",
              "      <td>3.000000</td>\n",
              "      <td>3.000000</td>\n",
              "    </tr>\n",
              "    <tr>\n",
              "      <th>mean</th>\n",
              "      <td>639.333333</td>\n",
              "      <td>655.000000</td>\n",
              "    </tr>\n",
              "    <tr>\n",
              "      <th>std</th>\n",
              "      <td>9.018500</td>\n",
              "      <td>13.228757</td>\n",
              "    </tr>\n",
              "    <tr>\n",
              "      <th>min</th>\n",
              "      <td>630.000000</td>\n",
              "      <td>645.000000</td>\n",
              "    </tr>\n",
              "    <tr>\n",
              "      <th>25%</th>\n",
              "      <td>635.000000</td>\n",
              "      <td>647.500000</td>\n",
              "    </tr>\n",
              "    <tr>\n",
              "      <th>50%</th>\n",
              "      <td>640.000000</td>\n",
              "      <td>650.000000</td>\n",
              "    </tr>\n",
              "    <tr>\n",
              "      <th>75%</th>\n",
              "      <td>644.000000</td>\n",
              "      <td>660.000000</td>\n",
              "    </tr>\n",
              "    <tr>\n",
              "      <th>max</th>\n",
              "      <td>648.000000</td>\n",
              "      <td>670.000000</td>\n",
              "    </tr>\n",
              "  </tbody>\n",
              "</table>\n",
              "</div>\n",
              "      <button class=\"colab-df-convert\" onclick=\"convertToInteractive('df-20c51530-8d9b-44e2-a5b4-a0ef8ff07880')\"\n",
              "              title=\"Convert this dataframe to an interactive table.\"\n",
              "              style=\"display:none;\">\n",
              "        \n",
              "  <svg xmlns=\"http://www.w3.org/2000/svg\" height=\"24px\"viewBox=\"0 0 24 24\"\n",
              "       width=\"24px\">\n",
              "    <path d=\"M0 0h24v24H0V0z\" fill=\"none\"/>\n",
              "    <path d=\"M18.56 5.44l.94 2.06.94-2.06 2.06-.94-2.06-.94-.94-2.06-.94 2.06-2.06.94zm-11 1L8.5 8.5l.94-2.06 2.06-.94-2.06-.94L8.5 2.5l-.94 2.06-2.06.94zm10 10l.94 2.06.94-2.06 2.06-.94-2.06-.94-.94-2.06-.94 2.06-2.06.94z\"/><path d=\"M17.41 7.96l-1.37-1.37c-.4-.4-.92-.59-1.43-.59-.52 0-1.04.2-1.43.59L10.3 9.45l-7.72 7.72c-.78.78-.78 2.05 0 2.83L4 21.41c.39.39.9.59 1.41.59.51 0 1.02-.2 1.41-.59l7.78-7.78 2.81-2.81c.8-.78.8-2.07 0-2.86zM5.41 20L4 18.59l7.72-7.72 1.47 1.35L5.41 20z\"/>\n",
              "  </svg>\n",
              "      </button>\n",
              "      \n",
              "  <style>\n",
              "    .colab-df-container {\n",
              "      display:flex;\n",
              "      flex-wrap:wrap;\n",
              "      gap: 12px;\n",
              "    }\n",
              "\n",
              "    .colab-df-convert {\n",
              "      background-color: #E8F0FE;\n",
              "      border: none;\n",
              "      border-radius: 50%;\n",
              "      cursor: pointer;\n",
              "      display: none;\n",
              "      fill: #1967D2;\n",
              "      height: 32px;\n",
              "      padding: 0 0 0 0;\n",
              "      width: 32px;\n",
              "    }\n",
              "\n",
              "    .colab-df-convert:hover {\n",
              "      background-color: #E2EBFA;\n",
              "      box-shadow: 0px 1px 2px rgba(60, 64, 67, 0.3), 0px 1px 3px 1px rgba(60, 64, 67, 0.15);\n",
              "      fill: #174EA6;\n",
              "    }\n",
              "\n",
              "    [theme=dark] .colab-df-convert {\n",
              "      background-color: #3B4455;\n",
              "      fill: #D2E3FC;\n",
              "    }\n",
              "\n",
              "    [theme=dark] .colab-df-convert:hover {\n",
              "      background-color: #434B5C;\n",
              "      box-shadow: 0px 1px 3px 1px rgba(0, 0, 0, 0.15);\n",
              "      filter: drop-shadow(0px 1px 2px rgba(0, 0, 0, 0.3));\n",
              "      fill: #FFFFFF;\n",
              "    }\n",
              "  </style>\n",
              "\n",
              "      <script>\n",
              "        const buttonEl =\n",
              "          document.querySelector('#df-20c51530-8d9b-44e2-a5b4-a0ef8ff07880 button.colab-df-convert');\n",
              "        buttonEl.style.display =\n",
              "          google.colab.kernel.accessAllowed ? 'block' : 'none';\n",
              "\n",
              "        async function convertToInteractive(key) {\n",
              "          const element = document.querySelector('#df-20c51530-8d9b-44e2-a5b4-a0ef8ff07880');\n",
              "          const dataTable =\n",
              "            await google.colab.kernel.invokeFunction('convertToInteractive',\n",
              "                                                     [key], {});\n",
              "          if (!dataTable) return;\n",
              "\n",
              "          const docLinkHtml = 'Like what you see? Visit the ' +\n",
              "            '<a target=\"_blank\" href=https://colab.research.google.com/notebooks/data_table.ipynb>data table notebook</a>'\n",
              "            + ' to learn more about interactive tables.';\n",
              "          element.innerHTML = '';\n",
              "          dataTable['output_type'] = 'display_data';\n",
              "          await google.colab.output.renderOutput(dataTable, element);\n",
              "          const docLink = document.createElement('div');\n",
              "          docLink.innerHTML = docLinkHtml;\n",
              "          element.appendChild(docLink);\n",
              "        }\n",
              "      </script>\n",
              "    </div>\n",
              "  </div>\n",
              "  "
            ]
          },
          "metadata": {},
          "execution_count": 4
        }
      ]
    },
    {
      "cell_type": "code",
      "source": [
        "#I.3.i Uncertainty\n",
        "\n",
        "\n",
        "ia = 648-630\n",
        "ib= 670-645\n",
        "\n",
        "print('A Uncertainty: +-',ia)\n",
        "\n",
        "print('B Uncertainty: +-',ib)"
      ],
      "metadata": {
        "colab": {
          "base_uri": "https://localhost:8080/"
        },
        "id": "bOBlTcH-ss8m",
        "outputId": "cdfaa88b-65d6-41f7-f9a7-462d9167a0c3"
      },
      "execution_count": 5,
      "outputs": [
        {
          "output_type": "stream",
          "name": "stdout",
          "text": [
            "A Uncertainty: +- 18\n",
            "B Uncertainty: +- 25\n"
          ]
        }
      ]
    },
    {
      "cell_type": "code",
      "source": [
        "#I.3.ii Fidelity\n",
        "\n",
        "\n",
        "f1a = abs(648-640)\n",
        "f2a = abs(648-630)\n",
        "f3a = abs(640-630)\n",
        "\n",
        "f1b = abs(670-650)\n",
        "f2b = abs(670-645)\n",
        "f3b = abs(650-645)\n",
        "\n",
        "print('1A Fidelity: ',f1a)\n",
        "\n",
        "print('2A Fidelity:',f2a)\n",
        "\n",
        "print('3A Fidelity:',f3a)\n",
        "\n",
        "print('1B Fidelity:',f1b)\n",
        "\n",
        "print('2B Fidelity:',f2b)\n",
        "\n",
        "print('3B Fidelity:',f3b)"
      ],
      "metadata": {
        "colab": {
          "base_uri": "https://localhost:8080/"
        },
        "id": "wORgNaVHtwe7",
        "outputId": "ea327d8e-18a4-4a5c-80cc-b6a740b4980a"
      },
      "execution_count": 6,
      "outputs": [
        {
          "output_type": "stream",
          "name": "stdout",
          "text": [
            "1A Fidelity:  8\n",
            "2A Fidelity: 18\n",
            "3A Fidelity: 10\n",
            "1B Fidelity: 20\n",
            "2B Fidelity: 25\n",
            "3B Fidelity: 5\n"
          ]
        }
      ]
    },
    {
      "cell_type": "markdown",
      "source": [
        "---\n",
        "***I.4 Reproducibility 🦾***\n",
        "\n",
        "---"
      ],
      "metadata": {
        "id": "xfxVD_ymxSJ1"
      }
    },
    {
      "cell_type": "markdown",
      "source": [
        "$Reproducibility = Val.Med_1 - Val.Med_2$"
      ],
      "metadata": {
        "id": "3DhmGxMmyT87"
      }
    },
    {
      "cell_type": "code",
      "source": [
        "vel"
      ],
      "metadata": {
        "colab": {
          "base_uri": "https://localhost:8080/",
          "height": 144
        },
        "id": "82jX8MdVxYcf",
        "outputId": "bc44e6e3-f2f6-4199-a447-6bda91cf4031"
      },
      "execution_count": 7,
      "outputs": [
        {
          "output_type": "execute_result",
          "data": {
            "text/plain": [
              "   Person A  Person B\n",
              "0       648       670\n",
              "1       640       650\n",
              "2       630       645"
            ],
            "text/html": [
              "\n",
              "  <div id=\"df-ba9b724f-402b-48e1-913c-15f13e6c10d3\">\n",
              "    <div class=\"colab-df-container\">\n",
              "      <div>\n",
              "<style scoped>\n",
              "    .dataframe tbody tr th:only-of-type {\n",
              "        vertical-align: middle;\n",
              "    }\n",
              "\n",
              "    .dataframe tbody tr th {\n",
              "        vertical-align: top;\n",
              "    }\n",
              "\n",
              "    .dataframe thead th {\n",
              "        text-align: right;\n",
              "    }\n",
              "</style>\n",
              "<table border=\"1\" class=\"dataframe\">\n",
              "  <thead>\n",
              "    <tr style=\"text-align: right;\">\n",
              "      <th></th>\n",
              "      <th>Person A</th>\n",
              "      <th>Person B</th>\n",
              "    </tr>\n",
              "  </thead>\n",
              "  <tbody>\n",
              "    <tr>\n",
              "      <th>0</th>\n",
              "      <td>648</td>\n",
              "      <td>670</td>\n",
              "    </tr>\n",
              "    <tr>\n",
              "      <th>1</th>\n",
              "      <td>640</td>\n",
              "      <td>650</td>\n",
              "    </tr>\n",
              "    <tr>\n",
              "      <th>2</th>\n",
              "      <td>630</td>\n",
              "      <td>645</td>\n",
              "    </tr>\n",
              "  </tbody>\n",
              "</table>\n",
              "</div>\n",
              "      <button class=\"colab-df-convert\" onclick=\"convertToInteractive('df-ba9b724f-402b-48e1-913c-15f13e6c10d3')\"\n",
              "              title=\"Convert this dataframe to an interactive table.\"\n",
              "              style=\"display:none;\">\n",
              "        \n",
              "  <svg xmlns=\"http://www.w3.org/2000/svg\" height=\"24px\"viewBox=\"0 0 24 24\"\n",
              "       width=\"24px\">\n",
              "    <path d=\"M0 0h24v24H0V0z\" fill=\"none\"/>\n",
              "    <path d=\"M18.56 5.44l.94 2.06.94-2.06 2.06-.94-2.06-.94-.94-2.06-.94 2.06-2.06.94zm-11 1L8.5 8.5l.94-2.06 2.06-.94-2.06-.94L8.5 2.5l-.94 2.06-2.06.94zm10 10l.94 2.06.94-2.06 2.06-.94-2.06-.94-.94-2.06-.94 2.06-2.06.94z\"/><path d=\"M17.41 7.96l-1.37-1.37c-.4-.4-.92-.59-1.43-.59-.52 0-1.04.2-1.43.59L10.3 9.45l-7.72 7.72c-.78.78-.78 2.05 0 2.83L4 21.41c.39.39.9.59 1.41.59.51 0 1.02-.2 1.41-.59l7.78-7.78 2.81-2.81c.8-.78.8-2.07 0-2.86zM5.41 20L4 18.59l7.72-7.72 1.47 1.35L5.41 20z\"/>\n",
              "  </svg>\n",
              "      </button>\n",
              "      \n",
              "  <style>\n",
              "    .colab-df-container {\n",
              "      display:flex;\n",
              "      flex-wrap:wrap;\n",
              "      gap: 12px;\n",
              "    }\n",
              "\n",
              "    .colab-df-convert {\n",
              "      background-color: #E8F0FE;\n",
              "      border: none;\n",
              "      border-radius: 50%;\n",
              "      cursor: pointer;\n",
              "      display: none;\n",
              "      fill: #1967D2;\n",
              "      height: 32px;\n",
              "      padding: 0 0 0 0;\n",
              "      width: 32px;\n",
              "    }\n",
              "\n",
              "    .colab-df-convert:hover {\n",
              "      background-color: #E2EBFA;\n",
              "      box-shadow: 0px 1px 2px rgba(60, 64, 67, 0.3), 0px 1px 3px 1px rgba(60, 64, 67, 0.15);\n",
              "      fill: #174EA6;\n",
              "    }\n",
              "\n",
              "    [theme=dark] .colab-df-convert {\n",
              "      background-color: #3B4455;\n",
              "      fill: #D2E3FC;\n",
              "    }\n",
              "\n",
              "    [theme=dark] .colab-df-convert:hover {\n",
              "      background-color: #434B5C;\n",
              "      box-shadow: 0px 1px 3px 1px rgba(0, 0, 0, 0.15);\n",
              "      filter: drop-shadow(0px 1px 2px rgba(0, 0, 0, 0.3));\n",
              "      fill: #FFFFFF;\n",
              "    }\n",
              "  </style>\n",
              "\n",
              "      <script>\n",
              "        const buttonEl =\n",
              "          document.querySelector('#df-ba9b724f-402b-48e1-913c-15f13e6c10d3 button.colab-df-convert');\n",
              "        buttonEl.style.display =\n",
              "          google.colab.kernel.accessAllowed ? 'block' : 'none';\n",
              "\n",
              "        async function convertToInteractive(key) {\n",
              "          const element = document.querySelector('#df-ba9b724f-402b-48e1-913c-15f13e6c10d3');\n",
              "          const dataTable =\n",
              "            await google.colab.kernel.invokeFunction('convertToInteractive',\n",
              "                                                     [key], {});\n",
              "          if (!dataTable) return;\n",
              "\n",
              "          const docLinkHtml = 'Like what you see? Visit the ' +\n",
              "            '<a target=\"_blank\" href=https://colab.research.google.com/notebooks/data_table.ipynb>data table notebook</a>'\n",
              "            + ' to learn more about interactive tables.';\n",
              "          element.innerHTML = '';\n",
              "          dataTable['output_type'] = 'display_data';\n",
              "          await google.colab.output.renderOutput(dataTable, element);\n",
              "          const docLink = document.createElement('div');\n",
              "          docLink.innerHTML = docLinkHtml;\n",
              "          element.appendChild(docLink);\n",
              "        }\n",
              "      </script>\n",
              "    </div>\n",
              "  </div>\n",
              "  "
            ]
          },
          "metadata": {},
          "execution_count": 7
        }
      ]
    },
    {
      "cell_type": "code",
      "source": [
        "Rep1 = abs((vel['Person A'][0])-vel['Person B'][0])\n",
        "Rep2 = abs((vel['Person A'][1])-vel['Person B'][1])\n",
        "Rep3 = abs((vel['Person A'][2])-vel['Person B'][2])\n",
        "\n",
        "print('1st REPRODUCIBILITY: ', Rep1)\n",
        "print('2nd REPRODUCIBILITY: ', Rep2)\n",
        "print('3rd REPRODUCIBILITY: ', Rep3)"
      ],
      "metadata": {
        "colab": {
          "base_uri": "https://localhost:8080/"
        },
        "id": "awUKVHADxbAT",
        "outputId": "b2103f00-0cd7-4172-81b1-91a55c4aba0b"
      },
      "execution_count": 8,
      "outputs": [
        {
          "output_type": "stream",
          "name": "stdout",
          "text": [
            "1st REPRODUCIBILITY:  22\n",
            "2nd REPRODUCIBILITY:  10\n",
            "3rd REPRODUCIBILITY:  15\n"
          ]
        }
      ]
    },
    {
      "cell_type": "markdown",
      "source": [
        "***Conclusion: 🦿*** \n",
        "\n"
      ],
      "metadata": {
        "id": "rRYuBwCgzctl"
      }
    },
    {
      "cell_type": "markdown",
      "source": [
        "---\n",
        "---\n",
        "---"
      ],
      "metadata": {
        "id": "0JJs8muRzkCi"
      }
    },
    {
      "cell_type": "markdown",
      "source": [
        "##***EXERCISE II. 🏋️‍♂️*** \n",
        "\n",
        "*We have a distance sensor with an output as a function of its input given by* $y(x) = \\frac {x^2}{1000} + 0.01x$\n",
        "the maximum input is 1000 m, determines all linearity plots with a resolution of $200m$ at a threshold from $0$ to $1000 m$, determines the function defining the sensitivity of the sensor."
      ],
      "metadata": {
        "id": "e6gYsHYp0WEj"
      }
    },
    {
      "cell_type": "markdown",
      "source": [
        "> <img src=\"http://www.ardilu.com/wp-content/uploads/2021/12/Excel-2.png\" width=\"60px\"> Warning: This exercise can be found in the excel spreadsheet called \"EXC_2_TEST.XLS\" attached inside the folder of this work. \n"
      ],
      "metadata": {
        "id": "qhYO2BIBqlZx"
      }
    },
    {
      "cell_type": "markdown",
      "source": [
        "---\n",
        "---\n",
        "---"
      ],
      "metadata": {
        "id": "IEqZLAf2U2Zt"
      }
    },
    {
      "cell_type": "markdown",
      "source": [
        "##***EXERCISE III. 🏋️‍♂️*** \n",
        "\n",
        "*A sensor is obtained that has no static error for temperature measurement in an oven, but it adds a dynamic behavior to the system, described by the\n",
        "but adds a dynamic behavior to the system, described by $\\frac {y(s)}{x(s)} = \\frac {5e^-3s}{s+5}$. Determines the graph of the expected expected behavior for the sensor, for an input of $450$ degrees.*"
      ],
      "metadata": {
        "id": "BC4PrM1fHvtX"
      }
    },
    {
      "cell_type": "markdown",
      "source": [
        "***Excerceise 3***\n",
        "\n",
        "Defining transfer funtion with $k=8$ and $\\tau=0.2$\n",
        "\n",
        "$tf(s)=\\frac{5e^-3s}{s+5}$\n",
        "\n",
        "Its equivalent would be, defining transfer funtion with $k=1$ and $\\tau=\\frac{1}{5}$\n",
        "\n",
        "$tf(s)=\\frac{e^-3s}{\\frac{1}{5}s+1}$\n",
        "\n",
        "There is a backlog equivalent to \n",
        "\n",
        "$e^ -(3(s))$\n"
      ],
      "metadata": {
        "id": "QjszhkqJvE2L"
      }
    },
    {
      "cell_type": "code",
      "source": [
        "!pip install control"
      ],
      "metadata": {
        "colab": {
          "base_uri": "https://localhost:8080/"
        },
        "id": "AX1JcfYnPOyf",
        "outputId": "650df114-4e82-44f7-ee7f-30dba2c5a185"
      },
      "execution_count": 9,
      "outputs": [
        {
          "output_type": "stream",
          "name": "stdout",
          "text": [
            "Looking in indexes: https://pypi.org/simple, https://us-python.pkg.dev/colab-wheels/public/simple/\n",
            "Requirement already satisfied: control in /usr/local/lib/python3.9/dist-packages (0.9.3.post2)\n",
            "Requirement already satisfied: numpy in /usr/local/lib/python3.9/dist-packages (from control) (1.22.4)\n",
            "Requirement already satisfied: matplotlib in /usr/local/lib/python3.9/dist-packages (from control) (3.7.1)\n",
            "Requirement already satisfied: scipy>=1.3 in /usr/local/lib/python3.9/dist-packages (from control) (1.10.1)\n",
            "Requirement already satisfied: packaging>=20.0 in /usr/local/lib/python3.9/dist-packages (from matplotlib->control) (23.0)\n",
            "Requirement already satisfied: contourpy>=1.0.1 in /usr/local/lib/python3.9/dist-packages (from matplotlib->control) (1.0.7)\n",
            "Requirement already satisfied: python-dateutil>=2.7 in /usr/local/lib/python3.9/dist-packages (from matplotlib->control) (2.8.2)\n",
            "Requirement already satisfied: importlib-resources>=3.2.0 in /usr/local/lib/python3.9/dist-packages (from matplotlib->control) (5.12.0)\n",
            "Requirement already satisfied: pillow>=6.2.0 in /usr/local/lib/python3.9/dist-packages (from matplotlib->control) (8.4.0)\n",
            "Requirement already satisfied: pyparsing>=2.3.1 in /usr/local/lib/python3.9/dist-packages (from matplotlib->control) (3.0.9)\n",
            "Requirement already satisfied: fonttools>=4.22.0 in /usr/local/lib/python3.9/dist-packages (from matplotlib->control) (4.39.2)\n",
            "Requirement already satisfied: cycler>=0.10 in /usr/local/lib/python3.9/dist-packages (from matplotlib->control) (0.11.0)\n",
            "Requirement already satisfied: kiwisolver>=1.0.1 in /usr/local/lib/python3.9/dist-packages (from matplotlib->control) (1.4.4)\n",
            "Requirement already satisfied: zipp>=3.1.0 in /usr/local/lib/python3.9/dist-packages (from importlib-resources>=3.2.0->matplotlib->control) (3.15.0)\n",
            "Requirement already satisfied: six>=1.5 in /usr/local/lib/python3.9/dist-packages (from python-dateutil>=2.7->matplotlib->control) (1.16.0)\n"
          ]
        }
      ]
    },
    {
      "cell_type": "code",
      "source": [
        "# 0. Our step 0 would be to call our libraries needed for our exercise. \n",
        "\n",
        "import numpy as np\n",
        "import control as cn\n",
        "import matplotlib.pyplot as plt\n",
        "from math import log"
      ],
      "metadata": {
        "id": "qWAxKfIsO6IA"
      },
      "execution_count": 10,
      "outputs": []
    },
    {
      "cell_type": "code",
      "source": [
        "#I. Declaramos nuestras variables. \n",
        "\n",
        "k1 = 1  \n",
        "t1 = 1/5\n",
        "a1= [k1]\n",
        "b1 = [t1,1]\n",
        "tf1 = cn.tf(a1,b1)\n",
        "\n",
        "#ii. Mandamos llamar nuestra función de transferencia para corroborar que todo esté en orden\n",
        "\n",
        "print('I. The transfer function excluding the dead time of the function is: ')\n",
        "print(tf1)\n",
        "\n",
        "n = log(1/0.01)\n",
        "ts1 = n * t1"
      ],
      "metadata": {
        "colab": {
          "base_uri": "https://localhost:8080/"
        },
        "id": "cXj24BOZt8zi",
        "outputId": "736388e6-50cf-4aeb-85a7-3a2a0f46690e"
      },
      "execution_count": 11,
      "outputs": [
        {
          "output_type": "stream",
          "name": "stdout",
          "text": [
            "I. The transfer function excluding the dead time of the function is: \n",
            "\n",
            "    1\n",
            "---------\n",
            "0.2 s + 1\n",
            "\n"
          ]
        }
      ]
    },
    {
      "cell_type": "code",
      "source": [
        "#Now, when we corroborate that our formula is correct, we can go on to add our delay time\n",
        "\n",
        "td1 = 3\n",
        "ordend1 = 15\n",
        "numd1, dend1 = cn.pade(td1,ordend1)\n",
        "\n",
        "delay1 = cn.tf(numd1,dend1)\n",
        "system_delayed1 = tf1*delay1\n",
        "\n",
        "print('II. The transfer function considering the dead time of the expression would be as follows: ')\n",
        "print(system_delayed1)"
      ],
      "metadata": {
        "colab": {
          "base_uri": "https://localhost:8080/"
        },
        "id": "wxg30HZ7QAET",
        "outputId": "75532ca2-ea51-4c7b-dde5-8914ea33ae4e"
      },
      "execution_count": 12,
      "outputs": [
        {
          "output_type": "stream",
          "name": "stdout",
          "text": [
            "II. The transfer function considering the dead time of the expression would be as follows: \n",
            "\n",
            "         -s^15 + 80 s^14 - 3173 s^13 + 8.251e+04 s^12 - 1.568e+06 s^11 + 2.299e+07 s^10 - 2.682e+08 s^9 + 2.529e+09 s^8 - 1.939e+10 s^7 + 1.206e+11 s^6 - 6.032e+11 s^5 + 2.376e+12 s^4 - 7.129e+12 s^3 + 1.536e+13 s^2 - 2.12e+13 s + 1.414e+13\n",
            "----------------------------------------------------------------------------------------------------------------------------------------------------------------------------------------------------------------------------------------------------------\n",
            "0.2 s^16 + 17 s^15 + 714.7 s^14 + 1.967e+04 s^13 + 3.96e+05 s^12 + 6.166e+06 s^11 + 7.664e+07 s^10 + 7.741e+08 s^9 + 6.407e+09 s^8 + 4.352e+10 s^7 + 2.413e+11 s^6 + 1.079e+12 s^5 + 3.802e+12 s^4 + 1.02e+13 s^3 + 1.96e+13 s^2 + 2.403e+13 s + 1.414e+13\n",
            "\n"
          ]
        }
      ]
    },
    {
      "cell_type": "code",
      "source": [
        "tstart1 = 0\n",
        "tend1 = 15\n",
        "sample1 = 0.001\n",
        "time1 = np.arange(tstart1,tend1+sample1, sample1)\n",
        "input1 = np.ones(time1.shape)*450\n",
        "\n",
        "time_, yout_ = cn.step_response(system_delayed1*450,time1)"
      ],
      "metadata": {
        "id": "JKi50dWCt8uR"
      },
      "execution_count": 13,
      "outputs": []
    },
    {
      "cell_type": "code",
      "source": [
        "figure = plt.figure(figsize=(10,10))\n",
        "ax = figure.add_subplot(111)\n",
        "ax.plot(time_,yout_,color='m')\n",
        "ax.plot(input1,'c')\n",
        "plt.title('Expected Behavior')\n",
        "ax.set_xlabel('t')\n",
        "ax.set_ylabel('f(xt)')\n",
        "ax.axis([0,15,0,600])\n",
        "ax.grid()\n",
        "plt.show()"
      ],
      "metadata": {
        "colab": {
          "base_uri": "https://localhost:8080/",
          "height": 621
        },
        "id": "S5ML5gA_RNCn",
        "outputId": "b5f97ee1-8dc4-4861-888a-0859afe4378a"
      },
      "execution_count": 14,
      "outputs": [
        {
          "output_type": "display_data",
          "data": {
            "text/plain": [
              "<Figure size 720x720 with 1 Axes>"
            ],
            "image/png": "[encoded data removed]"
          },
          "metadata": {
            "needs_background": "light"
          }
        }
      ]
    },
    {
      "cell_type": "markdown",
      "source": [
        "---\n",
        "---\n",
        "---"
      ],
      "metadata": {
        "id": "_7ftIHPHU5qW"
      }
    },
    {
      "cell_type": "markdown",
      "source": [
        "##***EXERCISE IV. 🏋️‍♂️*** \n",
        "\n",
        "*Determine the transfer function associated with the sensor that has the following response to a unit impulse unit impulse, the set point is indicated with a criterion of 1%.*\n"
      ],
      "metadata": {
        "id": "XEDtoTzL4rTJ"
      }
    },
    {
      "cell_type": "markdown",
      "source": [
        "\n",
        "***First, we have to perform a 2nd order sub-damping***\n",
        "\n",
        "*k = Ganancia*\n",
        "\n",
        "$Wn= Frecuencia natural no amortiguada$\n",
        "\n",
        "$Lamd = Factor de amortiguamiento$\n",
        "\n",
        "$Mp = Sobrepaso Máximo$\n",
        "\n",
        "$t_s = Tiempo de establecimiento$\n",
        "\n",
        "$T = Retardo$ \n",
        "\n",
        "Thus,\n",
        "\n",
        "$n = Ln|\\frac {1}{0.01}$ = 4.60\n",
        "\n",
        "$k = \\frac {1.6}{1} = 1$\n",
        "\n",
        "$T = 0.5s$\n",
        "\n",
        "$Mp = \\frac {1.69-1.18}{1.18} = 0.4322 = 43.22%$\n",
        "\n",
        "$ts = 2.1s - 0.5s = 1.6s$\n",
        "\n",
        "$Lamb = sqr{\\frac{Ln^2|0.43|}{pi^2 + ln^2 |0.43|}} = 0.25944$\n",
        "\n",
        "$Wn = \\frac{4.6}{(0.259)(1.6)}$\n",
        "\n",
        "$\\frac{y(s)}{x(s)} = \\frac{(1.61)(123.21)e^-0.5s}{s^2+2(0.259)(11.10)s + 123.21}$\n",
        "\n",
        "$\\frac{y(s)}{x(s)} = \\frac{198.3681 e^-0.5s}{s^2 + 5.7498s + 123.21}$"
      ],
      "metadata": {
        "id": "D0HCYKgd0j-L"
      }
    },
    {
      "cell_type": "code",
      "source": [
        "wn = 11.1\n",
        "k4 = 1.18\n",
        "lambd = 0.259\n",
        "num4 = [k4*wn**2]\n",
        "den4 = [1, 2*lambd*wn, wn**2]\n",
        "transfer_function = cn.tf(num4,den4)\n",
        "numd4, dend4 = cn.pade(0.5,5) #exp 5 seg.\n",
        "delay4 = cn.tf(numd4,dend4)\n",
        "system_delayed4=transfer_function*delay4\n",
        "transfer_function"
      ],
      "metadata": {
        "colab": {
          "base_uri": "https://localhost:8080/",
          "height": 38
        },
        "id": "mbrtQMNycxdH",
        "outputId": "1b003971-c530-4314-afbc-e70fe73c87af"
      },
      "execution_count": 15,
      "outputs": [
        {
          "output_type": "execute_result",
          "data": {
            "text/plain": [
              "TransferFunction(array([145.3878]), array([  1.    ,   5.7498, 123.21  ]))"
            ],
            "text/latex": "$$\\frac{145.4}{s^2 + 5.75 s + 123.2}$$"
          },
          "metadata": {},
          "execution_count": 15
        }
      ]
    },
    {
      "cell_type": "code",
      "source": [
        "system_delayed4"
      ],
      "metadata": {
        "colab": {
          "base_uri": "https://localhost:8080/",
          "height": 41
        },
        "id": "SVXp4SUwdSPH",
        "outputId": "eadcc34b-c754-4c24-e809-0bd261179a20"
      },
      "execution_count": 16,
      "outputs": [
        {
          "output_type": "execute_result",
          "data": {
            "text/plain": [
              "TransferFunction(array([-1.45387800e+02,  8.72326800e+03, -2.44251504e+05,  3.90802406e+06,\n",
              "       -3.51722166e+07,  1.40688866e+08]), array([1.00000000e+00, 6.57498000e+01, 2.14819800e+03, 4.39322640e+04,\n",
              "       6.03467424e+05, 5.67055642e+06, 3.53709297e+07, 1.19227853e+08]))"
            ],
            "text/latex": "$$\\frac{-145.4 s^5 + 8723 s^4 - 2.443 \\times 10^{5} s^3 + 3.908 \\times 10^{6} s^2 - 3.517 \\times 10^{7} s + 1.407 \\times 10^{8}}{s^7 + 65.75 s^6 + 2148 s^5 + 4.393 \\times 10^{4} s^4 + 6.035 \\times 10^{5} s^3 + 5.671 \\times 10^{6} s^2 + 3.537 \\times 10^{7} s + 1.192 \\times 10^{8}}$$"
          },
          "metadata": {},
          "execution_count": 16
        }
      ]
    },
    {
      "cell_type": "code",
      "source": [
        "tstart4 =0\n",
        "tend4 = 14\n",
        "sample4 = 0.001\n",
        "time4 = np.arange(tstart4,tend4+sample4, sample4)\n",
        "input4 = np.ones(time4.shape)"
      ],
      "metadata": {
        "id": "ZZs3VPZ6dp31"
      },
      "execution_count": 17,
      "outputs": []
    },
    {
      "cell_type": "code",
      "source": [
        "time4, yout4 = cn.step_response(system_delayed4,time4)"
      ],
      "metadata": {
        "id": "muvD76z2dqgm"
      },
      "execution_count": 18,
      "outputs": []
    },
    {
      "cell_type": "code",
      "source": [
        "figure = plt.figure(figsize=(10,10))\n",
        "ax = figure.add_subplot(111)\n",
        "ax.plot(time4,yout4)\n",
        "ax.plot(input4,'r')\n",
        "ax.set_label('Plotting Transfer Function')\n",
        "ax.set_xlabel('t')\n",
        "ax.set_ylabel('x(t)')\n",
        "ax.axis([0,3,0,2])\n",
        "ax.grid()\n",
        "plt.show()"
      ],
      "metadata": {
        "colab": {
          "base_uri": "https://localhost:8080/",
          "height": 610
        },
        "id": "2nruv0d7dsfe",
        "outputId": "b70fd237-8b4b-49ea-de34-fb905d1dcd40"
      },
      "execution_count": 19,
      "outputs": [
        {
          "output_type": "display_data",
          "data": {
            "text/plain": [
              "<Figure size 720x720 with 1 Axes>"
            ],
            "image/png": "[encoded data removed]"
          },
          "metadata": {
            "needs_background": "light"
          }
        }
      ]
    },
    {
      "cell_type": "markdown",
      "source": [
        "---\n",
        "---\n",
        "---"
      ],
      "metadata": {
        "id": "mWaL11kuVACj"
      }
    },
    {
      "cell_type": "markdown",
      "source": [
        "\n",
        "##***EXERCISE V. 🏋️‍♂️*** \n",
        "\n",
        "*Identifies the transfer function of the second-order system corresponding from a pH sensor, present both methods by taking it to a first-order transfer function (Bröida) and a second-order transfer function (Bröida), and then to a second-order transfer function (Bröida) second.*\n",
        "\n",
        "> <img src=\"http://www.ardilu.com/wp-content/uploads/2021/12/Excel-2.png\" width=\"60px\"> **Warning: The development and obtaining of the first order transfer function is located in the folder of this work under the name \"ExcV_Desarrollo_TEST.XLS\".**"
      ],
      "metadata": {
        "id": "RiIjmisn4yhf"
      }
    },
    {
      "cell_type": "markdown",
      "source": [
        "##***i. First Order (BROIDA)*** \n",
        "\n",
        "Defining transfer funtion with $k=0.42$ and $\\tau=4.95$\n",
        "\n",
        "$tf(s)=\\frac{3.3}{1.575s+1}$\n",
        "$e^-(-0.62(s))$"
      ],
      "metadata": {
        "id": "_bXu77Ao1smX"
      }
    },
    {
      "cell_type": "code",
      "source": [
        "import numpy as np\n",
        "import control as cn\n",
        "import matplotlib.pyplot as plt\n",
        "from math import log"
      ],
      "metadata": {
        "id": "AXB9TYdk1ruJ"
      },
      "execution_count": 20,
      "outputs": []
    },
    {
      "cell_type": "code",
      "source": [
        "k1 = 0.42\n",
        "t1 = 4.95\n",
        "a1= [k1]\n",
        "b1 = [t1,1]\n",
        "transfer_function = cn.tf(a1,b1)\n",
        "td = 0.62\n",
        "ordend = 15\n",
        "numd, dend = cn.pade(td,ordend)\n",
        "delay = cn.tf(numd,dend)\n",
        "system_delayed=transfer_function*delay"
      ],
      "metadata": {
        "id": "iYYHN9zO2rtW"
      },
      "execution_count": 21,
      "outputs": []
    },
    {
      "cell_type": "code",
      "source": [
        "tstart =0\n",
        "tend = 14\n",
        "sample = 0.001\n",
        "time = np.arange(tstart,tend+sample, sample)\n",
        "input2 = np.ones(time.shape)\n",
        "time, yout = cn.step_response(system_delayed,time)"
      ],
      "metadata": {
        "id": "WXHme2MZ2t8o"
      },
      "execution_count": 22,
      "outputs": []
    },
    {
      "cell_type": "code",
      "source": [
        "figure = plt.figure(figsize=(10,10))\n",
        "ax = figure.add_subplot(111)\n",
        "ax.plot(time,yout)\n",
        "ax.plot(input2,'r')\n",
        "ax.set_label('TRANSFER FUNCTION FIRST ORDER')\n",
        "ax.set_xlabel('t')\n",
        "ax.set_ylabel('x(t)')\n",
        "ax.axis([0,14,0,1.2])\n",
        "ax.grid()\n",
        "plt.show()  "
      ],
      "metadata": {
        "colab": {
          "base_uri": "https://localhost:8080/",
          "height": 610
        },
        "id": "GTpxM4L02v4m",
        "outputId": "5fbe5a3e-f7b5-4ef5-915c-70afcae2624e"
      },
      "execution_count": 23,
      "outputs": [
        {
          "output_type": "display_data",
          "data": {
            "text/plain": [
              "<Figure size 720x720 with 1 Axes>"
            ],
            "image/png": "[encoded data removed]"
          },
          "metadata": {
            "needs_background": "light"
          }
        }
      ]
    },
    {
      "cell_type": "markdown",
      "source": [
        "##***ii. 2nd Order (Sub-Dampened)*** \n",
        "\n",
        "Defining transfer funtion with $k=0.42$\n",
        "\n",
        "$n = Ln|\\frac {1}{0.01}$ = 4.60\n",
        "\n",
        "$k = \\frac {0.42}{1} = 1$\n",
        "\n",
        "$T = 1.85s$\n",
        "\n",
        "*** ⚠️There is no maximum overshoot as such compared to our k, so we will define it as 1% ⚠️***\n",
        "\n",
        "$Mp = \\frac {0.42-0.42}{0.42} =1% $\n",
        "\n",
        "$ts = 8s - 1.85s = 6.15s$\n",
        "\n",
        "$Lamb = sqr{\\frac{Ln^2|1|}{pi^2 + ln^2 |1|}} = 0.826$\n",
        "\n",
        "$Wn = \\frac{4.6}{(0.826)(6.15)}$\n",
        "\n",
        "$\\frac{y(s)}{x(s)} = \\frac{(0.42)(0.819)e^-0.5s}{s^2+2(0.826)(0.905)s + 0.819}$\n",
        "\n",
        "$\\frac{y(s)}{x(s)} = \\frac{0.344 e^-0.5s}{s^2 + 1.49s + 0.819}$"
      ],
      "metadata": {
        "id": "WIPt346m3P4d"
      }
    },
    {
      "cell_type": "code",
      "source": [
        "wn = 0.905\n",
        "k4 = 0.42\n",
        "lambd = 0.826\n",
        "num4 = [k4*wn**2]\n",
        "den4 = [1, 2*lambd*wn, wn**2]\n",
        "transfer_function = cn.tf(num4,den4)\n",
        "numd4, dend4 = cn.pade(0.5,10) #exp 5 seg.\n",
        "delay4 = cn.tf(numd4,dend4)\n",
        "system_delayed4=transfer_function*delay4\n",
        "transfer_function"
      ],
      "metadata": {
        "colab": {
          "base_uri": "https://localhost:8080/",
          "height": 38
        },
        "id": "xQ5Nk9sT40TR",
        "outputId": "07f8b99b-15c9-4de8-eb41-e043fc665b82"
      },
      "execution_count": 24,
      "outputs": [
        {
          "output_type": "execute_result",
          "data": {
            "text/plain": [
              "TransferFunction(array([0.3439905]), array([1.      , 1.49506 , 0.819025]))"
            ],
            "text/latex": "$$\\frac{0.344}{s^2 + 1.495 s + 0.819}$$"
          },
          "metadata": {},
          "execution_count": 24
        }
      ]
    },
    {
      "cell_type": "code",
      "source": [
        "tstart4 =0\n",
        "tend4 = 14\n",
        "sample4 = 0.001\n",
        "time4 = np.arange(tstart4,tend4+sample4, sample4)\n",
        "input4 = np.ones(time4.shape)\n",
        "\n",
        "time4, yout4 = cn.step_response(system_delayed4,time4)\n"
      ],
      "metadata": {
        "id": "YvXupI1k40Fo"
      },
      "execution_count": 25,
      "outputs": []
    },
    {
      "cell_type": "code",
      "source": [
        "figure = plt.figure(figsize=(10,10))\n",
        "ax = figure.add_subplot(111)\n",
        "ax.plot(time4,yout4)\n",
        "ax.plot(input4,'r')\n",
        "ax.set_label('Plotting Transfer Function')\n",
        "ax.set_xlabel('t')\n",
        "ax.set_ylabel('x(t)')\n",
        "ax.axis([0,14,0,2])\n",
        "ax.grid()\n",
        "plt.show()"
      ],
      "metadata": {
        "colab": {
          "base_uri": "https://localhost:8080/",
          "height": 610
        },
        "id": "6N0pXM685Bae",
        "outputId": "a8c42643-76cc-47a0-c496-fc6a7487181a"
      },
      "execution_count": 26,
      "outputs": [
        {
          "output_type": "display_data",
          "data": {
            "text/plain": [
              "<Figure size 720x720 with 1 Axes>"
            ],
            "image/png": "[encoded data removed]"
          },
          "metadata": {
            "needs_background": "light"
          }
        }
      ]
    },
    {
      "cell_type": "markdown",
      "source": [
        "##***ii. 2nd Order Sub-Adjusted to First Order*** \n",
        "\n",
        "Defining transfer funtion with $k=0.40$\n"
      ],
      "metadata": {
        "id": "3_f3jxWNUbvv"
      }
    },
    {
      "cell_type": "code",
      "source": [
        "!pip install control"
      ],
      "metadata": {
        "colab": {
          "base_uri": "https://localhost:8080/"
        },
        "id": "bs3-kukPUa27",
        "outputId": "6124cfab-3f6c-4f3e-97b8-8761068bd3a1"
      },
      "execution_count": 27,
      "outputs": [
        {
          "output_type": "stream",
          "name": "stdout",
          "text": [
            "Looking in indexes: https://pypi.org/simple, https://us-python.pkg.dev/colab-wheels/public/simple/\n",
            "Requirement already satisfied: control in /usr/local/lib/python3.9/dist-packages (0.9.3.post2)\n",
            "Requirement already satisfied: matplotlib in /usr/local/lib/python3.9/dist-packages (from control) (3.7.1)\n",
            "Requirement already satisfied: numpy in /usr/local/lib/python3.9/dist-packages (from control) (1.22.4)\n",
            "Requirement already satisfied: scipy>=1.3 in /usr/local/lib/python3.9/dist-packages (from control) (1.10.1)\n",
            "Requirement already satisfied: contourpy>=1.0.1 in /usr/local/lib/python3.9/dist-packages (from matplotlib->control) (1.0.7)\n",
            "Requirement already satisfied: pillow>=6.2.0 in /usr/local/lib/python3.9/dist-packages (from matplotlib->control) (8.4.0)\n",
            "Requirement already satisfied: fonttools>=4.22.0 in /usr/local/lib/python3.9/dist-packages (from matplotlib->control) (4.39.2)\n",
            "Requirement already satisfied: python-dateutil>=2.7 in /usr/local/lib/python3.9/dist-packages (from matplotlib->control) (2.8.2)\n",
            "Requirement already satisfied: importlib-resources>=3.2.0 in /usr/local/lib/python3.9/dist-packages (from matplotlib->control) (5.12.0)\n",
            "Requirement already satisfied: packaging>=20.0 in /usr/local/lib/python3.9/dist-packages (from matplotlib->control) (23.0)\n",
            "Requirement already satisfied: pyparsing>=2.3.1 in /usr/local/lib/python3.9/dist-packages (from matplotlib->control) (3.0.9)\n",
            "Requirement already satisfied: cycler>=0.10 in /usr/local/lib/python3.9/dist-packages (from matplotlib->control) (0.11.0)\n",
            "Requirement already satisfied: kiwisolver>=1.0.1 in /usr/local/lib/python3.9/dist-packages (from matplotlib->control) (1.4.4)\n",
            "Requirement already satisfied: zipp>=3.1.0 in /usr/local/lib/python3.9/dist-packages (from importlib-resources>=3.2.0->matplotlib->control) (3.15.0)\n",
            "Requirement already satisfied: six>=1.5 in /usr/local/lib/python3.9/dist-packages (from python-dateutil>=2.7->matplotlib->control) (1.16.0)\n"
          ]
        }
      ]
    },
    {
      "cell_type": "code",
      "source": [
        "import numpy as np\n",
        "import control as cn\n",
        "import matplotlib.pyplot as plt\n",
        "from math import log"
      ],
      "metadata": {
        "id": "I-4fpFUTU-s5"
      },
      "execution_count": 28,
      "outputs": []
    },
    {
      "cell_type": "code",
      "source": [
        "k = 0.4\n",
        "\n",
        "t15 = 0.3\n",
        "t45 = 1.35\n",
        "t75 = 2.8\n",
        "\n",
        "x = (t45-t15)/(t75-t15)\n",
        "\n",
        "lm = (0.0805 - 5.547 * ((0.475-x)**2)) / (x-0.356)\n",
        "lm = 1\n",
        "\n",
        "\n",
        "f2 = (2.6*lm)-0.6\n",
        "f3 = 0.922*(1.66)**lm\n",
        "wn = f2/(t75-t15)\n",
        "tm = t45-(f3/wn) + 1.8\n",
        "\n",
        "\n",
        "tau1 = (lm + (np.sqrt((lm**2)-1)))/wn\n",
        "tau2 = (lm - (np.sqrt((lm**2)-1)))/wn\n",
        "\n",
        "\n",
        "st = cn.tf([1,0],[0,1])\n",
        "\n",
        "\n",
        "tf = k / ((tau1*st+1)*(tau2*st+1))\n",
        "\n",
        "tf"
      ],
      "metadata": {
        "colab": {
          "base_uri": "https://localhost:8080/",
          "height": 38
        },
        "id": "Yexg-pjzU7Nr",
        "outputId": "58bf53cb-d64b-4738-f83a-2c46d30141a6"
      },
      "execution_count": 29,
      "outputs": [
        {
          "output_type": "execute_result",
          "data": {
            "text/plain": [
              "TransferFunction(array([0.4]), array([1.5625, 2.5   , 1.    ]))"
            ],
            "text/latex": "$$\\frac{0.4}{1.562 s^2 + 2.5 s + 1}$$"
          },
          "metadata": {},
          "execution_count": 29
        }
      ]
    },
    {
      "cell_type": "code",
      "source": [
        "ordend = 10\n",
        "numd, dend = cn.pade(tm,ordend)\n",
        "delay = cn.tf(numd,dend)\n",
        "system_delayed = tf*delay"
      ],
      "metadata": {
        "id": "WPaseGgSV89C"
      },
      "execution_count": 30,
      "outputs": []
    },
    {
      "cell_type": "code",
      "source": [
        "num = [k]\n",
        "den=[tau1*tau2,tau1+tau2,1]\n",
        "\n",
        "cn.tf(num,den)"
      ],
      "metadata": {
        "colab": {
          "base_uri": "https://localhost:8080/",
          "height": 38
        },
        "id": "t6yIMMa_WFqp",
        "outputId": "503be239-6e5e-4d18-db13-122fa39e2d82"
      },
      "execution_count": 31,
      "outputs": [
        {
          "output_type": "execute_result",
          "data": {
            "text/plain": [
              "TransferFunction(array([0.4]), array([1.5625, 2.5   , 1.    ]))"
            ],
            "text/latex": "$$\\frac{0.4}{1.562 s^2 + 2.5 s + 1}$$"
          },
          "metadata": {},
          "execution_count": 31
        }
      ]
    },
    {
      "cell_type": "code",
      "source": [
        "tstart =0\n",
        "tend = 14\n",
        "sample = 0.001\n",
        "time = np.arange(tstart,tend+sample, sample)\n",
        "input2 = np.ones(time.shape)\n",
        "time, yout = cn.step_response(system_delayed,time)"
      ],
      "metadata": {
        "id": "S9P0pb7DWJUF"
      },
      "execution_count": 32,
      "outputs": []
    },
    {
      "cell_type": "code",
      "source": [
        "figure = plt.figure(figsize=(10,10))\n",
        "ax = figure.add_subplot(111)\n",
        "ax.plot(time,yout)\n",
        "ax.plot(input2,'r')\n",
        "ax.set_title('Plotting Transfer Function',size=19)\n",
        "ax.set_xlabel('t')\n",
        "ax.set_ylabel('x(t)')\n",
        "ax.axis([0,14,0,5])\n",
        "ax.grid()\n",
        "plt.show() "
      ],
      "metadata": {
        "colab": {
          "base_uri": "https://localhost:8080/",
          "height": 627
        },
        "id": "0m5u1rT8WLBD",
        "outputId": "46db4b6b-039e-41f5-9d7d-ad24db0f5814"
      },
      "execution_count": 33,
      "outputs": [
        {
          "output_type": "display_data",
          "data": {
            "text/plain": [
              "<Figure size 720x720 with 1 Axes>"
            ],
            "image/png": "[encoded data removed]"
          },
          "metadata": {
            "needs_background": "light"
          }
        }
      ]
    },
    {
      "cell_type": "code",
      "source": [
        "figure = plt.figure(figsize=(10,10))\n",
        "ax = figure.add_subplot(111)\n",
        "ax.plot(time,yout)\n",
        "ax.plot(input2,'r')\n",
        "ax.set_title('Plotting Transfer Function')\n",
        "ax.set_xlabel('t')\n",
        "ax.set_ylabel('x(t)')\n",
        "ax.axis([0,14,0,1.5])\n",
        "ax.grid()\n",
        "plt.show() "
      ],
      "metadata": {
        "colab": {
          "base_uri": "https://localhost:8080/",
          "height": 621
        },
        "id": "l8E7HDlsYFq9",
        "outputId": "1b1b0340-eaef-4dcb-ec58-b61dc186c3db"
      },
      "execution_count": 34,
      "outputs": [
        {
          "output_type": "display_data",
          "data": {
            "text/plain": [
              "<Figure size 720x720 with 1 Axes>"
            ],
            "image/png": "[encoded data removed]"
          },
          "metadata": {
            "needs_background": "light"
          }
        }
      ]
    },
    {
      "cell_type": "markdown",
      "source": [
        "---\n",
        "---\n",
        "---"
      ],
      "metadata": {
        "id": "e13b1g9-VEiN"
      }
    },
    {
      "cell_type": "markdown",
      "source": [
        "##***EXERCISE VI. 🏋️‍♂️*** \n",
        "\n",
        "*For each question answer with the concept and give an example:*\n",
        "\n",
        "<img src='https://cdn.milenio.com/uploads/media/2020/10/12/concepto-desarrollo-profesor-universidad-columbia.jpg' width=\"300px\">\n",
        "\n",
        "\n",
        "0. *What is required for a control system to be controllable?*\n",
        " \n",
        " For a system to be controlled, 2 main characteristics must be fulfilled:\n",
        "To be controllable and to be observable.\n",
        "In addition, it has to comply with other extra aspects: \n",
        "It has to be had with a finite number of inputs and outputs and it has to remain invariant over time.\n",
        "\n",
        "1. *What is Controllability?*\n",
        "\n",
        " Refers to the ability of a control system (or sensor) to modify and adjust the behavior of a process or physical system. For example, a temperature control system in a vertical farm (the temperature of the grain is the variable to be controlled), the input variable is the energy supplied to the system for its operation. \n",
        "\n",
        "2. *What is hysteresis?*\n",
        "\n",
        " Is a metric that occurs when there is a difference in the reading of a measuring instrument as the value of the measured variable changes, depending on whether the value of the variable is increasing or decreasing. We continue with our example of temeprature in a vertical farm. When the thermometer is subjected to a change in temperature, its response will not be immediate, the thermometer may take some time to reach the desired temperature (in addition to the fact that the response will not be the same whether its temperature is raised or lowered).\n",
        "\n",
        "3. *What is accuracy?*\n",
        " \n",
        " Accuracy refers to the ability of an instrument to measure a value close to the true or real value of the variable being measured. That is, accuracy is the measure of how close the instrument reading is to the true value. In our temperature example. If our sensor has an accuracy of 7%, it means that our sensor can be within 7% of the true value.\n",
        "\n",
        "4. *What is precision?*\n",
        "\n",
        " Precision refers to the ability of an instrument to measure and obtain close values in exactly the same plane or circumstance (under the same circumstances). That is, precision is the measure of how close the instrument reading is to the true value. In our temperature example. If we have an environment of 9 degrees Celsius, but our sensor measures 9.2, to have a good precision, our sensor should stay at that 9.2\n",
        "\n",
        "5. *What is fidelity?*\n",
        "\n",
        " Fidelity refers to the ability of a measuring instrument to provide an accurate and reliable measure of a variable of interest. An instrument is considered to be more accurate if it produces measurements that are closer to the true value of the variable being measured. In the example of our thermometer, sample measurements are taken several times in exactly the same situation; the value has to be the same or very close each time the measurement is taken.\n",
        "\n",
        "6. *What is reproducibility?*\n",
        "\n",
        " Reproducibility refers to the ability of an instrument to produce consistent and reliable results in repeated measurements. In our sensor, high reproducibility will give us similar or identical results in each measurement with small variations. On the other hand, if their reproducibility is low, they will vary significantly (indicating instability in the sensor).\n"
      ],
      "metadata": {
        "id": "WyImnqBP5Iu5"
      }
    }
  ]
}