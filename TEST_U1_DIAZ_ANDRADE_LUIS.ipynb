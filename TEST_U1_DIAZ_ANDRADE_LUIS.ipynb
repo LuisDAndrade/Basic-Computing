{
 "cells": [
  {
   "attachments": {},
   "cell_type": "markdown",
   "metadata": {},
   "source": [
    "# EXAM UNIT 1. 📚\n",
    "\n",
    "# Notebook. Python Introduction"
   ]
  },
  {
   "attachments": {},
   "cell_type": "markdown",
   "metadata": {},
   "source": [
    "***Ing. Luis Bryant Diaz Andrade*** 🧠\n",
    "\n",
    "***Professor: Dr. Francisco Villanueva Mejia.*** 🧑‍🏫"
   ]
  },
  {
   "attachments": {},
   "cell_type": "markdown",
   "metadata": {},
   "source": [
    "**Brief Introduction.**\n",
    "\n",
    "***(Python, 2023) Python is a high-level interpreted programming language whose philosophy emphasizes the readability of its code.. Python is an easy to learn, powerful programming language. It has efficient high-level data structures and a simple but effective approach to object-oriented programming. Python’s elegant syntax and dynamic typing, together with its interpreted nature, make it an ideal language for scripting and rapid application development in many areas on most platforms.***\n",
    "\n",
    "*In the present exam a small introductory manual to Python will be made, with the objective of demonstrating the tools and abilities with which it is found to handle the present programming language.*\n",
    "*The program will be framed by topics, these topics will be carried out with a common theme and data: Grades of 4th semester students of Mechatronics Engineering (Belonging to TECNM | Campus Pabellón de Arteaga).✏* "
   ]
  },
  {
   "attachments": {},
   "cell_type": "markdown",
   "metadata": {},
   "source": [
    "\n",
    "**Índice General**\n",
    "\n",
    "---\n",
    "---\n",
    "i. [***Variables 🖌***](#Var)\n",
    "\n",
    "ii. [***Types of data 🧷***](#TypesD)\n",
    "\n",
    "iii. [***Functions 🧮***](#Functions)\n",
    "\n",
    "iv. [***Libraries 📚***](#Libraries)\n",
    "\n",
    "v. [***Table Manipulation ✖︎***](#Table_Manipulation)\n",
    "\n",
    "vi. [***Simple plots 📉***](#Simple_plots)\n",
    "\n",
    "vii. [***Multiple plots 📈***](#Multiple_plots)\n",
    "\n",
    "viii. [***References ***](#References)\n"
   ]
  },
  {
   "attachments": {},
   "cell_type": "markdown",
   "metadata": {},
   "source": [
    "***i. Variables*** <a class=\"anchor\" id=\"Var\"></a>\n",
    "\n",
    "---"
   ]
  },
  {
   "attachments": {},
   "cell_type": "markdown",
   "metadata": {},
   "source": [
    "*(IBM, 2023) A variable is a named data element whose value may change during the course of program execution. A variable name must follow the naming convention of an identifier (alphabetic character or number and underscore). When more than one variable is defined in a single declaration, the name must be separated by commas. Each variable declaration must end with a semicolon. Variable names cannot match a reserved word.*\n"
   ]
  },
  {
   "attachments": {},
   "cell_type": "markdown",
   "metadata": {},
   "source": [
    "Defining variables with $z=2$ and $k=4$: Thus, both expressions can be added, subtracted, multiplied, divided and exponentiated in the following ways.\n",
    "\n",
    "$Added= z+k$\n",
    "\n",
    "$Substracted=z-k$\n",
    "\n",
    "$Multiplied={z}*{k}$\n",
    "\n",
    "$Divided=(\\frac{z}{k})$\n",
    "\n",
    "$Exponentiated=({z}**{k})$\n",
    "\n",
    "$Boolean=({z}=={k})$\n",
    "\n",
    "***The comparison operator == compares whether two values are equal. It returns a type of variable called \"boolean\", which can be true or false, as we will explain in the next section.***"
   ]
  },
  {
   "cell_type": "code",
   "execution_count": 1,
   "metadata": {},
   "outputs": [],
   "source": [
    "z = 2\n",
    "k = 4\n",
    "add= z + k \n",
    "sub=z-k\n",
    "mul=z*k\n",
    "div=z/k\n",
    "ex=z**k"
   ]
  },
  {
   "cell_type": "code",
   "execution_count": 2,
   "metadata": {},
   "outputs": [
    {
     "name": "stdout",
     "output_type": "stream",
     "text": [
      "La suma es igual a: 6\n",
      "La resta es igual a: -2\n",
      "La multiplicación es igual a: 8\n",
      "La división es igual a: 0.5\n",
      "El resultado de elevar z a la k es: 16\n",
      "¿Z es exactamente igual a K? False\n"
     ]
    }
   ],
   "source": [
    "print('La suma es igual a:', add)\n",
    "print('La resta es igual a:', sub)\n",
    "print('La multiplicación es igual a:', mul)\n",
    "print('La división es igual a:', div)\n",
    "print('El resultado de elevar z a la k es:', ex)\n",
    "\n",
    "print('¿Z es exactamente igual a K?', z==k)"
   ]
  },
  {
   "attachments": {},
   "cell_type": "markdown",
   "metadata": {},
   "source": [
    "***ii. Data Types*** <a class=\"anchor\" id=\"TypesD\"></a>\n",
    "\n",
    "---"
   ]
  },
  {
   "attachments": {},
   "cell_type": "markdown",
   "metadata": {},
   "source": [
    "*(IBM, 2023) Python data types are a classification of similar data values. In Python, we do not explicitly declare the data type of a variable. The Python interpreter interprets a value and then automatically assigns it to the appropriate data type*\n",
    "\n",
    "**I. Numbers**\n",
    "\n",
    "i. Int. It can store all integer values, of any size.\n",
    "\n",
    "ii. Float. Includes values with decimal point, has no restrictions with accuracies.\n",
    "\n",
    "iii. Complex. Stores numbers in a complex form of the form: $x + yj$\n"
   ]
  },
  {
   "cell_type": "code",
   "execution_count": 3,
   "metadata": {},
   "outputs": [
    {
     "name": "stdout",
     "output_type": "stream",
     "text": [
      "<class 'int'>\n",
      "<class 'float'>\n",
      "<class 'complex'>\n"
     ]
    }
   ],
   "source": [
    "'Example. '\n",
    "'We continue to manage our network of k and z characters.'\n",
    "\n",
    "print(type(k))\n",
    "print(type(k+0.1))\n",
    "print(type(k+5j))"
   ]
  },
  {
   "attachments": {},
   "cell_type": "markdown",
   "metadata": {},
   "source": [
    "**II. Strings**\n",
    "\n",
    "i. A Python string is a sequence of characters and is therefore also called a character string. Strings in Python are immutable; the same String instance cannot be modified. Instead, to update the string value, a new updated instance must be provided."
   ]
  },
  {
   "cell_type": "code",
   "execution_count": 4,
   "metadata": {},
   "outputs": [
    {
     "name": "stdout",
     "output_type": "stream",
     "text": [
      "Hi Im Luis and Im Learning Python, my last name is Andrade. \n"
     ]
    }
   ],
   "source": [
    "'Example. '\n",
    "'We continue to manage our network of k and z characters.'\n",
    "\n",
    "str1='Hi '\n",
    "str2='Im Luis '\n",
    "str3='and Im Learning '\n",
    "str4='Python'\n",
    "\n",
    "print(str1+str2+str3+str4+\", my last name is Andrade. \")"
   ]
  },
  {
   "attachments": {},
   "cell_type": "markdown",
   "metadata": {},
   "source": [
    "**III. Booleans**\n",
    "\n",
    "i. Boolean values in Python include two possible values: True andFalse.\n",
    "ii. These values are generally used in conditional statements. These two values can be used as operands for logical operations such as and , or , not , etc."
   ]
  },
  {
   "cell_type": "code",
   "execution_count": 5,
   "metadata": {},
   "outputs": [
    {
     "name": "stdout",
     "output_type": "stream",
     "text": [
      "i. ¿Z es exactamente igual a K? False\n",
      " \n",
      "ii. Si a z le sumamos 2, ¿Es exactamente igual a k?.  True\n",
      " \n",
      "iii. Si ambos valores los elevamos al cuadrado\n",
      "¿Son exactamente iguales?:  False\n",
      " \n",
      "iv. Si a z lo elevamos a la potencia 4, y a \n",
      "k solamente al cuadrado. ¿Son exactamente iguales?  True\n"
     ]
    }
   ],
   "source": [
    "'Example. '\n",
    "'We continue to manage our network of k and z characters.'\n",
    "\n",
    "print('i. ¿Z es exactamente igual a K?', z==k)\n",
    "print(' ')\n",
    "print('ii. Si a z le sumamos 2, ¿Es exactamente igual a k?. ', (z+2)==k)\n",
    "print(' ')\n",
    "print('''iii. Si ambos valores los elevamos al cuadrado\n",
    "¿Son exactamente iguales?: ''', (z**2)==(k**2))\n",
    "print(' ')\n",
    "print('''iv. Si a z lo elevamos a la potencia 4, y a \n",
    "k solamente al cuadrado. ¿Son exactamente iguales? ''', (z**4)==(k**2))\n"
   ]
  },
  {
   "attachments": {},
   "cell_type": "markdown",
   "metadata": {},
   "source": [
    "**IV. Dictionary**\n",
    "\n",
    "Dictionaries are used to store key-value pairs. The Python dictionary is an ordered collection of data values; however, we can also retrieve the elements in the order in which we insert them. A dictionary is mutable, which means that we can edit the elements of a dictionary."
   ]
  },
  {
   "cell_type": "code",
   "execution_count": 6,
   "metadata": {},
   "outputs": [
    {
     "name": "stdout",
     "output_type": "stream",
     "text": [
      "Los datos que nos proporcionaste son: \n",
      "\n",
      " {'Name': 'Luis', 'edad': 23, 'email.': 'luisdiaz145y@gmail.com', 'alternative email': 'luisdiaz145y@outlook.com'}\n"
     ]
    }
   ],
   "source": [
    "dict = {\n",
    "'Name': 'Luis',\n",
    "\n",
    "'edad': 23,\n",
    "\n",
    "'email.': 'luisdiaz145y@gmail.com',\n",
    "'alternative email': 'luisdiaz145y@outlook.com'\n",
    "\n",
    "}\n",
    "\n",
    "print('''Los datos que nos proporcionaste son: \n",
    "\n",
    "''', dict)"
   ]
  },
  {
   "attachments": {},
   "cell_type": "markdown",
   "metadata": {},
   "source": [
    "**V. Lists**\n",
    "\n",
    "i. Lists and tuples are used to store a sequence of different types of data.\n",
    "\n",
    "ii. Lists are addressed with [ ], while tuples are addressed with ( ). The Python List is mutable while tuples are immutable. Both lists can be accessed through an index."
   ]
  },
  {
   "cell_type": "code",
   "execution_count": 7,
   "metadata": {},
   "outputs": [
    {
     "name": "stdout",
     "output_type": "stream",
     "text": [
      "The list consists of the following data:\n",
      "1. The autor is Luis Andrade\n",
      "\n",
      "2. 2\n",
      "\n",
      "3. 4\n",
      "\n",
      "4. {'Name': 'Luis', 'edad': 23, 'email.': 'luisdiaz145y@gmail.com', 'alternative email': 'luisdiaz145y@outlook.com'}\n",
      "\n",
      "5. (4+5j)\n"
     ]
    }
   ],
   "source": [
    "list = ['The autor is Luis Andrade', z, k, dict, 4+5j]\n",
    "print('The list consists of the following data:')\n",
    "\n",
    "print('1.', list[0])\n",
    "print('')\n",
    "print('2.', list[1])\n",
    "print('')\n",
    "print('3.', list[2])\n",
    "print('')\n",
    "print('4.', list[3])\n",
    "print('')\n",
    "print('5.', list[4])\n"
   ]
  },
  {
   "attachments": {},
   "cell_type": "markdown",
   "metadata": {},
   "source": [
    "**VI. Sets**\n",
    "\n",
    "i. Sets are unordered collections of unique data values. Data values can be of any data type as long as they are hashable and immutable.\n",
    "\n",
    "ii. Sets can be initialized with data values separated by a comma and enclosed in {} braces."
   ]
  },
  {
   "cell_type": "code",
   "execution_count": 8,
   "metadata": {},
   "outputs": [
    {
     "name": "stdout",
     "output_type": "stream",
     "text": [
      "The data set is as follows: \n",
      " \n",
      "I. {2, 4, 'Im playing Basketball and programming at the same time'}\n"
     ]
    }
   ],
   "source": [
    "set1={z,k,'Im playing Basketball and programming at the same time'}\n",
    "\n",
    "print('The data set is as follows: ')\n",
    "print(' ')\n",
    "print('I.', set1)"
   ]
  },
  {
   "attachments": {},
   "cell_type": "markdown",
   "metadata": {},
   "source": [
    "***iii. Functions*** <a class=\"anchor\" id=\"Functions\"></a>\n",
    "\n",
    "---"
   ]
  },
  {
   "attachments": {},
   "cell_type": "markdown",
   "metadata": {},
   "source": [
    "*(IBM, 2023) A function in Python (and in any other programming language) is a block of lines of code or a set of instructions whose purpose is to perform a specific task. It can be reused at will to repeat that task.*\n",
    "*Functions help us to make code easier to read and understand. In addition, knowing how to generate functions speaks very well of a programmer's abstraction capacity, while it is one of the most difficult technical skills to consolidate in software development. To get you started on this path, we will give you a basic guide on how to define them.*\n",
    "\n",
    "**Examples**\n",
    "*We continue to manage our network of k and z characters.*\n"
   ]
  },
  {
   "attachments": {},
   "cell_type": "markdown",
   "metadata": {},
   "source": [
    "*I. Print Function.*\n",
    "\n",
    "\n",
    "Print in the command console\n"
   ]
  },
  {
   "cell_type": "code",
   "execution_count": 9,
   "metadata": {},
   "outputs": [
    {
     "name": "stdout",
     "output_type": "stream",
     "text": [
      "K es igual a: 4\n",
      "Z es igual a: 2\n"
     ]
    }
   ],
   "source": [
    "print('K es igual a:', k)\n",
    "print('Z es igual a:', z)"
   ]
  },
  {
   "attachments": {},
   "cell_type": "markdown",
   "metadata": {},
   "source": [
    "*II. Len Function*\n",
    "\n",
    "Returns the length (the number of elements) of an object."
   ]
  },
  {
   "cell_type": "code",
   "execution_count": 10,
   "metadata": {},
   "outputs": [
    {
     "name": "stdout",
     "output_type": "stream",
     "text": [
      "1. The length of \"I love Python\" is a total of 14 characters\n",
      "2. The length of \"The Best Teacher is Dr. Francisco\" is a total of 33 characters\n"
     ]
    }
   ],
   "source": [
    "print('1. The length of \"I love Python\" is a total of',len('I love Python!'),'characters')\n",
    "print('2. The length of \"The Best Teacher is Dr. Francisco\" is a total of',len('The Best Teacher is Dr. Francisco'),'characters')\n"
   ]
  },
  {
   "attachments": {},
   "cell_type": "markdown",
   "metadata": {},
   "source": [
    "*III. Max and min Function*\n",
    "\n",
    "Returns the largest and smallest element respectively in an iterable (all elements must be of the same type) or the largest (or smallest) of two or more arguments."
   ]
  },
  {
   "cell_type": "code",
   "execution_count": 11,
   "metadata": {},
   "outputs": [
    {
     "name": "stdout",
     "output_type": "stream",
     "text": [
      "1. The largest number in the list is:  8\n",
      "2. The smallest number in the list is:  1\n",
      "3. The smallest and largest number in the list is:  2 and 4 respective\n"
     ]
    }
   ],
   "source": [
    "print('1. The largest number in the list is: ', max(2,3,1,2,3,7,4,5,7,3,2,8))\n",
    "print('2. The smallest number in the list is: ', min(2,3,1,2,3,7,4,5,7,3,2,8))\n",
    "print('3. The smallest and largest number in the list is: ', min(z,k), 'and',  max(z,k), 'respective')"
   ]
  },
  {
   "attachments": {},
   "cell_type": "markdown",
   "metadata": {},
   "source": [
    "*IV. divmod Function*\n",
    "\n",
    "Returns the quotient and the remainder of dividing two numbers."
   ]
  },
  {
   "cell_type": "code",
   "execution_count": 12,
   "metadata": {},
   "outputs": [
    {
     "name": "stdout",
     "output_type": "stream",
     "text": [
      "1. The quotient and the remainder of dividing are:  (0, 2)\n",
      "2. The quotient and the remainder of dividing are:  (2, 0)\n"
     ]
    }
   ],
   "source": [
    "print('1. The quotient and the remainder of dividing are: ', divmod(z,k))\n",
    "print('2. The quotient and the remainder of dividing are: ', divmod(6,3))\n"
   ]
  },
  {
   "attachments": {},
   "cell_type": "markdown",
   "metadata": {},
   "source": [
    "*V. Absolute Function*\n",
    "\n",
    "Returns the absolute value of a number."
   ]
  },
  {
   "cell_type": "code",
   "execution_count": 13,
   "metadata": {},
   "outputs": [
    {
     "name": "stdout",
     "output_type": "stream",
     "text": [
      "1. The absolute number of the negative of z is: :  2\n",
      "2. The absolute number of the negative of k is: :  4\n"
     ]
    }
   ],
   "source": [
    "print('1. The absolute number of the negative of z is: : ', abs(-z))\n",
    "print('2. The absolute number of the negative of k is: : ', abs(-k))"
   ]
  },
  {
   "attachments": {},
   "cell_type": "markdown",
   "metadata": {},
   "source": [
    "*VI. Complex Function* (real, imaginary) \n",
    "\n",
    "Returns the complex number with the real value + imag*1j. It also converts a string or a number to a complex number."
   ]
  },
  {
   "cell_type": "code",
   "execution_count": 14,
   "metadata": {},
   "outputs": [
    {
     "name": "stdout",
     "output_type": "stream",
     "text": [
      "1. The complex number of z and k when k is the real part is: (4+2j)\n",
      "2. The complex number of k and z when z is the real part is: (2+4j)\n"
     ]
    }
   ],
   "source": [
    "print('1. The complex number of z and k when k is the real part is:', complex(k,z))\n",
    "print('2. The complex number of k and z when z is the real part is:', complex(z,k))"
   ]
  },
  {
   "attachments": {},
   "cell_type": "markdown",
   "metadata": {},
   "source": [
    "*VI. Pow Function* (base, exp) \n",
    "\n",
    "Returns base raised to exp."
   ]
  },
  {
   "cell_type": "code",
   "execution_count": 15,
   "metadata": {},
   "outputs": [
    {
     "name": "stdout",
     "output_type": "stream",
     "text": [
      "1. The result of raising k to z is: 16\n",
      "2. The result of raising z to k is: 16\n"
     ]
    }
   ],
   "source": [
    "print('1. The result of raising k to z is:', pow(k,z))\n",
    "print('2. The result of raising z to k is:', pow(z,k))"
   ]
  },
  {
   "attachments": {},
   "cell_type": "markdown",
   "metadata": {},
   "source": [
    "*VII. Extra*\n",
    "\n",
    "Additionally we need to specify which are the outputs of our function so that we can call them individually as we need them. These outputs are defined as new variables that depend on our previously defined parameters. They are determined by the word \"return\". Let's rewrite our previous mathematical code in a function to make it clear:"
   ]
  },
  {
   "cell_type": "code",
   "execution_count": 16,
   "metadata": {},
   "outputs": [
    {
     "data": {
      "text/plain": [
       "(6, -2, 0.5)"
      ]
     },
     "execution_count": 16,
     "metadata": {},
     "output_type": "execute_result"
    }
   ],
   "source": [
    "def func(z,k):\n",
    "    a = z+k\n",
    "    b= z-k\n",
    "    c= z/k\n",
    "    return a, b, c\n",
    "func(z,k)"
   ]
  },
  {
   "attachments": {},
   "cell_type": "markdown",
   "metadata": {},
   "source": [
    "***iv. Libraries*** <a class=\"anchor\" id=\"Libraries\"></a>\n",
    "\n",
    "---"
   ]
  },
  {
   "attachments": {},
   "cell_type": "markdown",
   "metadata": {},
   "source": [
    "***(IBM, 2023)*** *Broadly speaking, it should be noted that in programming, a library is a set of functionalities that allow the user to carry out new tasks that could not be performed before. Python libraries correspond to the set of implementations that allow coding this language, in order to create an independent interface.*\n",
    "\n",
    "***(Python, 2023)*** *The basic Python libraries or standard Python libraries (also called Python libraries) are those that come bundled with Python. One of the most famous is Matplotlib. The Python standard library is very extensive, and offers a large number of productions as can be seen from the long list of contents. The library contains built-in modules (written in C) that provide access to system functionality such as file input and output that would otherwise be inaccessible to Python programmers, as well as modules written in Python that provide standardized solutions to the various problems that can occur in day-to-day programming.*\n",
    "\n",
    " *Some of these modules are explicitly designed to encourage and reinforce the portability of Python programs by abstracting away platform specificities to achieve platform-neutral APIs.*\n",
    "\n",
    "**Examples**\n",
    "*(We continue to manage our network of k and z characters.)*"
   ]
  },
  {
   "attachments": {},
   "cell_type": "markdown",
   "metadata": {},
   "source": [
    "***⚠︎We will review 9 of the most important Python libraries, their description, basic operation and an example of use in each one.***"
   ]
  },
  {
   "attachments": {},
   "cell_type": "markdown",
   "metadata": {},
   "source": [
    "***iv.1 Matplotlib 📈***"
   ]
  },
  {
   "attachments": {},
   "cell_type": "markdown",
   "metadata": {},
   "source": [
    "*It is the standard Python library and the best known.*\n",
    "\n",
    "*With Matplotlib you can generate a wide variety of quality graphics to publish online or on paper and without using many lines of code.*\n",
    "\n",
    "*Bar charts, histograms, time series, power spectra... are just a few examples of the possibilities of this Python library.*"
   ]
  },
  {
   "cell_type": "code",
   "execution_count": 17,
   "metadata": {},
   "outputs": [
    {
     "data": {
      "image/png": "[encoded data removed]",
      "text/plain": [
       "<Figure size 640x480 with 1 Axes>"
      ]
     },
     "metadata": {},
     "output_type": "display_data"
    }
   ],
   "source": [
    "#Exercise.\n",
    "'''\n",
    "For the present exercise, a simple graph will be made using the matplotlib library, we will make use of two axes (q and w). where w=2q, and q are\n",
    "the grades of a industrial group. \n",
    "''' \n",
    "\n",
    "import matplotlib.pyplot as plt\n",
    "\n",
    "#First, the two axes of the graphs must be created. \n",
    "\n",
    "q = [70,75,79,99,80]\n",
    "\n",
    "w = [140,150,158,198,160]\n",
    "\n",
    "#Figure and axes of the graph are created\n",
    "\n",
    "fig, ax= plt.subplots()\n",
    "\n",
    "#The 2 axes (l and w) are plotted.\n",
    "\n",
    "ax.plot(q,w)\n",
    "\n",
    "#Titles and labels can be added from the code \"ax.set_title\" and \"ax.set(_)label\".\n",
    "\n",
    "ax.set_title('First Graph of Luis D. Andrade')\n",
    "ax.set_xlabel('Independent axle (q)')\n",
    "ax.set_ylabel('Dependent axle (w)')\n",
    "\n",
    "plt.show()"
   ]
  },
  {
   "attachments": {},
   "cell_type": "markdown",
   "metadata": {},
   "source": [
    "***iv.2 Pandas🐼***"
   ]
  },
  {
   "attachments": {},
   "cell_type": "markdown",
   "metadata": {},
   "source": [
    "***(Pandas, 2023)*** *Pandas is a fast, powerful, flexible and easy to use open source data analysis and manipulation tool, built on top of the Python programming language.* \n",
    "\n",
    "The main features of this library are:\n",
    "\n",
    "-> It defines new data structures based on the arrays of the NumPy library but with new functionalities.\n",
    "\n",
    "-> It allows to easily read and write files in CSV format, Excel and SQL databases.\n",
    "\n",
    "-> Allows access to data through indexes or names for rows and columns.\n",
    "\n",
    "-> Provides methods for reordering, splitting and combining data sets.\n",
    "\n",
    "-> Allows working with time series.\n",
    "\n",
    "-> It performs all these operations very efficiently.\n"
   ]
  },
  {
   "cell_type": "code",
   "execution_count": 18,
   "metadata": {},
   "outputs": [
    {
     "name": "stdout",
     "output_type": "stream",
     "text": [
      "            STUDENT  AVERAGE U1  AVERAGE U2\n",
      "0   GONZALEZ HARUMY         9.9         9.7\n",
      "1     ANDRADE AARON         9.4         8.5\n",
      "2  CASILLAS GUSTAVO         7.2         8.7\n",
      "3    MENDEZ JOHVANY         6.6         7.8\n"
     ]
    }
   ],
   "source": [
    "#Exercise.\n",
    "'''\n",
    "For this example, the grades of 4 students in unit 1 and 2 will be plotted.\n",
    "''' \n",
    "\n",
    "import matplotlib as mt\n",
    "import pandas as pd\n",
    "\n",
    "calif = {'STUDENT':['GONZALEZ HARUMY', 'ANDRADE AARON', 'CASILLAS GUSTAVO', 'MENDEZ JOHVANY'], 'AVERAGE U1':[9.9, 9.4, 7.2, 6.6], 'AVERAGE U2':[9.7, 8.5, 8.7, 7.8]}\n",
    "calif2 = pd.DataFrame(calif)\n",
    "print(calif2)"
   ]
  },
  {
   "attachments": {},
   "cell_type": "markdown",
   "metadata": {},
   "source": [
    "***iv.3 Numpy 👩🏼‍💻***"
   ]
  },
  {
   "attachments": {},
   "cell_type": "markdown",
   "metadata": {},
   "source": [
    "*NumPy allows the generation of a universal data structure, which translates into better data analysis, since there is an exchange of data between different algorithms.*\n",
    "\n",
    "*Its vectors are multidimensional and the matrices have a large capacity.*"
   ]
  },
  {
   "cell_type": "code",
   "execution_count": 19,
   "metadata": {},
   "outputs": [
    {
     "name": "stdout",
     "output_type": "stream",
     "text": [
      "The base matrix is as follows: \n",
      " \n",
      "[[9.9 9.7 9.6]\n",
      " [6.5 7.  9.2]\n",
      " [5.5 8.  9.1]]\n",
      " \n",
      "The inverse matrix is as follows: \n",
      " \n",
      "[[ 0.19281332  0.22339079 -0.42925309]\n",
      " [ 0.1665206  -0.72626351  0.55857435]\n",
      " [-0.26292726  0.50345701 -0.12172558]]\n"
     ]
    }
   ],
   "source": [
    "#Excersice.\n",
    "\n",
    "'''\n",
    "In this exercise we will work with matrices and try to manipulate their position and display in the terminal.\n",
    "'''\n",
    "import numpy as np\n",
    "\n",
    "av = np.array([[9.9, 9.7, 9.6], [6.5, 7.0, 9.2], [5.5,8.0,9.1]])\n",
    "\n",
    "print('The base matrix is as follows: ')\n",
    "print(' ')\n",
    "print(av)\n",
    "\n",
    "'''\n",
    "Now, with the code (\"np.linalg.inv(_)\"), we will get the inverse matrix of our initial matrix\n",
    "'''\n",
    "print(' ')\n",
    "inv = np.linalg.inv(av)\n",
    "print('The inverse matrix is as follows: ')\n",
    "print(' ')\n",
    "print(inv)"
   ]
  },
  {
   "attachments": {},
   "cell_type": "markdown",
   "metadata": {},
   "source": [
    "***v. Table Manipulation 📋️*** <a class=\"anchor\" id=\"Table_Manipulation\"></a>\n",
    "\n",
    "---"
   ]
  },
  {
   "attachments": {},
   "cell_type": "markdown",
   "metadata": {},
   "source": [
    "***(IRONHACK, 2021)*** *Data organization is essential when it comes to data analysis, and this process is called data manipulation. It is a fundamental step in data analysis. Pandas is the best Python library for:* \n",
    "\n",
    "*i. Representing information using a graph*\n",
    "\n",
    "*ii. Combine multiple data sets*\n",
    "\n",
    "*iii. Create a pivot table*\n",
    "\n",
    "*iv. Change an Excel file to a CSV file*"
   ]
  },
  {
   "attachments": {},
   "cell_type": "markdown",
   "metadata": {},
   "source": [
    "***⚠︎⛔︎⚠︎To work with the last 2 topics (Manipulation of tables, single and multiple charts), we will consider data to be imported from a .csv file (comma delimited) from excel. The data shown are grades from 6 students belonging to the 2nd semester group of the BMI course.***  "
   ]
  },
  {
   "cell_type": "code",
   "execution_count": 20,
   "metadata": {},
   "outputs": [
    {
     "name": "stdout",
     "output_type": "stream",
     "text": [
      "                                  0                  1                  2  \\\n",
      "0                           ALUMNOS  CALIFICACIONES U1  CALIFICACIONES U2   \n",
      "1       CALZADA NERI JUAN FRANCISCO                 91                 99   \n",
      "2        CARDONA RUIZ JONATHAN YAEL                 77                 85   \n",
      "3  CASILLAS HERNANDEZ GUSTAVO ANGEL                100                 88   \n",
      "4              CHAVIRA TORRES DAVID                 84                 81   \n",
      "5    COLLAZO DE LUNA CARLOS EDUARDO                 73                 87   \n",
      "6       DELGADO SILVA JOSE DE JESUS                 93                 90   \n",
      "\n",
      "                   3                  4  \n",
      "0  CALIFICACIONES U3  CALIFICACIONES U4  \n",
      "1                 90                 84  \n",
      "2                 89                 91  \n",
      "3                 74                 92  \n",
      "4                 84                 72  \n",
      "5                 77                 73  \n",
      "6                100                 80  \n",
      "<class 'pandas.core.frame.DataFrame'>\n"
     ]
    }
   ],
   "source": [
    "import pandas as pd\n",
    "import seaborn as sns\n",
    "import numpy as np\n",
    "import control as cn\n",
    "import matplotlib.pyplot as plt\n",
    "\n",
    "bd = pd.read_csv('C:/Users/luisd/Desktop/calim.csv',header = None)\n",
    "print(bd) \n",
    "\n",
    "print(type(bd))"
   ]
  },
  {
   "cell_type": "code",
   "execution_count": 21,
   "metadata": {},
   "outputs": [
    {
     "data": {
      "text/html": [
       "<div>\n",
       "<style scoped>\n",
       "    .dataframe tbody tr th:only-of-type {\n",
       "        vertical-align: middle;\n",
       "    }\n",
       "\n",
       "    .dataframe tbody tr th {\n",
       "        vertical-align: top;\n",
       "    }\n",
       "\n",
       "    .dataframe thead th {\n",
       "        text-align: right;\n",
       "    }\n",
       "</style>\n",
       "<table border=\"1\" class=\"dataframe\">\n",
       "  <thead>\n",
       "    <tr style=\"text-align: right;\">\n",
       "      <th></th>\n",
       "      <th>0</th>\n",
       "      <th>1</th>\n",
       "      <th>2</th>\n",
       "      <th>3</th>\n",
       "      <th>4</th>\n",
       "    </tr>\n",
       "  </thead>\n",
       "  <tbody>\n",
       "    <tr>\n",
       "      <th>0</th>\n",
       "      <td>ALUMNOS</td>\n",
       "      <td>CALIFICACIONES U1</td>\n",
       "      <td>CALIFICACIONES U2</td>\n",
       "      <td>CALIFICACIONES U3</td>\n",
       "      <td>CALIFICACIONES U4</td>\n",
       "    </tr>\n",
       "    <tr>\n",
       "      <th>1</th>\n",
       "      <td>CALZADA NERI JUAN FRANCISCO</td>\n",
       "      <td>91</td>\n",
       "      <td>99</td>\n",
       "      <td>90</td>\n",
       "      <td>84</td>\n",
       "    </tr>\n",
       "    <tr>\n",
       "      <th>2</th>\n",
       "      <td>CARDONA RUIZ JONATHAN YAEL</td>\n",
       "      <td>77</td>\n",
       "      <td>85</td>\n",
       "      <td>89</td>\n",
       "      <td>91</td>\n",
       "    </tr>\n",
       "    <tr>\n",
       "      <th>3</th>\n",
       "      <td>CASILLAS HERNANDEZ GUSTAVO ANGEL</td>\n",
       "      <td>100</td>\n",
       "      <td>88</td>\n",
       "      <td>74</td>\n",
       "      <td>92</td>\n",
       "    </tr>\n",
       "    <tr>\n",
       "      <th>4</th>\n",
       "      <td>CHAVIRA TORRES DAVID</td>\n",
       "      <td>84</td>\n",
       "      <td>81</td>\n",
       "      <td>84</td>\n",
       "      <td>72</td>\n",
       "    </tr>\n",
       "    <tr>\n",
       "      <th>5</th>\n",
       "      <td>COLLAZO DE LUNA CARLOS EDUARDO</td>\n",
       "      <td>73</td>\n",
       "      <td>87</td>\n",
       "      <td>77</td>\n",
       "      <td>73</td>\n",
       "    </tr>\n",
       "    <tr>\n",
       "      <th>6</th>\n",
       "      <td>DELGADO SILVA JOSE DE JESUS</td>\n",
       "      <td>93</td>\n",
       "      <td>90</td>\n",
       "      <td>100</td>\n",
       "      <td>80</td>\n",
       "    </tr>\n",
       "  </tbody>\n",
       "</table>\n",
       "</div>"
      ],
      "text/plain": [
       "                                  0                  1                  2  \\\n",
       "0                           ALUMNOS  CALIFICACIONES U1  CALIFICACIONES U2   \n",
       "1       CALZADA NERI JUAN FRANCISCO                 91                 99   \n",
       "2        CARDONA RUIZ JONATHAN YAEL                 77                 85   \n",
       "3  CASILLAS HERNANDEZ GUSTAVO ANGEL                100                 88   \n",
       "4              CHAVIRA TORRES DAVID                 84                 81   \n",
       "5    COLLAZO DE LUNA CARLOS EDUARDO                 73                 87   \n",
       "6       DELGADO SILVA JOSE DE JESUS                 93                 90   \n",
       "\n",
       "                   3                  4  \n",
       "0  CALIFICACIONES U3  CALIFICACIONES U4  \n",
       "1                 90                 84  \n",
       "2                 89                 91  \n",
       "3                 74                 92  \n",
       "4                 84                 72  \n",
       "5                 77                 73  \n",
       "6                100                 80  "
      ]
     },
     "execution_count": 21,
     "metadata": {},
     "output_type": "execute_result"
    }
   ],
   "source": [
    "#Thus. Once Python has successfully read the .csv file, we display it on the screen. \n",
    "\n",
    "bd"
   ]
  },
  {
   "cell_type": "code",
   "execution_count": 22,
   "metadata": {},
   "outputs": [
    {
     "data": {
      "text/html": [
       "<div>\n",
       "<style scoped>\n",
       "    .dataframe tbody tr th:only-of-type {\n",
       "        vertical-align: middle;\n",
       "    }\n",
       "\n",
       "    .dataframe tbody tr th {\n",
       "        vertical-align: top;\n",
       "    }\n",
       "\n",
       "    .dataframe thead th {\n",
       "        text-align: right;\n",
       "    }\n",
       "</style>\n",
       "<table border=\"1\" class=\"dataframe\">\n",
       "  <thead>\n",
       "    <tr style=\"text-align: right;\">\n",
       "      <th></th>\n",
       "      <th>0</th>\n",
       "      <th>1</th>\n",
       "      <th>2</th>\n",
       "      <th>3</th>\n",
       "      <th>4</th>\n",
       "      <th>5</th>\n",
       "      <th>6</th>\n",
       "    </tr>\n",
       "  </thead>\n",
       "  <tbody>\n",
       "    <tr>\n",
       "      <th>0</th>\n",
       "      <td>ALUMNOS</td>\n",
       "      <td>CALZADA NERI JUAN FRANCISCO</td>\n",
       "      <td>CARDONA RUIZ JONATHAN YAEL</td>\n",
       "      <td>CASILLAS HERNANDEZ GUSTAVO ANGEL</td>\n",
       "      <td>CHAVIRA TORRES DAVID</td>\n",
       "      <td>COLLAZO DE LUNA CARLOS EDUARDO</td>\n",
       "      <td>DELGADO SILVA JOSE DE JESUS</td>\n",
       "    </tr>\n",
       "    <tr>\n",
       "      <th>1</th>\n",
       "      <td>CALIFICACIONES U1</td>\n",
       "      <td>91</td>\n",
       "      <td>77</td>\n",
       "      <td>100</td>\n",
       "      <td>84</td>\n",
       "      <td>73</td>\n",
       "      <td>93</td>\n",
       "    </tr>\n",
       "    <tr>\n",
       "      <th>2</th>\n",
       "      <td>CALIFICACIONES U2</td>\n",
       "      <td>99</td>\n",
       "      <td>85</td>\n",
       "      <td>88</td>\n",
       "      <td>81</td>\n",
       "      <td>87</td>\n",
       "      <td>90</td>\n",
       "    </tr>\n",
       "    <tr>\n",
       "      <th>3</th>\n",
       "      <td>CALIFICACIONES U3</td>\n",
       "      <td>90</td>\n",
       "      <td>89</td>\n",
       "      <td>74</td>\n",
       "      <td>84</td>\n",
       "      <td>77</td>\n",
       "      <td>100</td>\n",
       "    </tr>\n",
       "    <tr>\n",
       "      <th>4</th>\n",
       "      <td>CALIFICACIONES U4</td>\n",
       "      <td>84</td>\n",
       "      <td>91</td>\n",
       "      <td>92</td>\n",
       "      <td>72</td>\n",
       "      <td>73</td>\n",
       "      <td>80</td>\n",
       "    </tr>\n",
       "  </tbody>\n",
       "</table>\n",
       "</div>"
      ],
      "text/plain": [
       "                   0                            1                           2  \\\n",
       "0            ALUMNOS  CALZADA NERI JUAN FRANCISCO  CARDONA RUIZ JONATHAN YAEL   \n",
       "1  CALIFICACIONES U1                           91                          77   \n",
       "2  CALIFICACIONES U2                           99                          85   \n",
       "3  CALIFICACIONES U3                           90                          89   \n",
       "4  CALIFICACIONES U4                           84                          91   \n",
       "\n",
       "                                  3                     4  \\\n",
       "0  CASILLAS HERNANDEZ GUSTAVO ANGEL  CHAVIRA TORRES DAVID   \n",
       "1                               100                    84   \n",
       "2                                88                    81   \n",
       "3                                74                    84   \n",
       "4                                92                    72   \n",
       "\n",
       "                                5                            6  \n",
       "0  COLLAZO DE LUNA CARLOS EDUARDO  DELGADO SILVA JOSE DE JESUS  \n",
       "1                              73                           93  \n",
       "2                              87                           90  \n",
       "3                              77                          100  \n",
       "4                              73                           80  "
      ]
     },
     "execution_count": 22,
     "metadata": {},
     "output_type": "execute_result"
    }
   ],
   "source": [
    "#With the extension .T you can transpose our table\n",
    "\n",
    "bd.T"
   ]
  },
  {
   "cell_type": "code",
   "execution_count": 23,
   "metadata": {},
   "outputs": [
    {
     "data": {
      "text/html": [
       "<div>\n",
       "<style scoped>\n",
       "    .dataframe tbody tr th:only-of-type {\n",
       "        vertical-align: middle;\n",
       "    }\n",
       "\n",
       "    .dataframe tbody tr th {\n",
       "        vertical-align: top;\n",
       "    }\n",
       "\n",
       "    .dataframe thead th {\n",
       "        text-align: right;\n",
       "    }\n",
       "</style>\n",
       "<table border=\"1\" class=\"dataframe\">\n",
       "  <thead>\n",
       "    <tr style=\"text-align: right;\">\n",
       "      <th></th>\n",
       "      <th>0</th>\n",
       "      <th>1</th>\n",
       "      <th>2</th>\n",
       "      <th>3</th>\n",
       "      <th>4</th>\n",
       "    </tr>\n",
       "  </thead>\n",
       "  <tbody>\n",
       "    <tr>\n",
       "      <th>0</th>\n",
       "      <td>ALUMNOS</td>\n",
       "      <td>CALIFICACIONES U1</td>\n",
       "      <td>CALIFICACIONES U2</td>\n",
       "      <td>CALIFICACIONES U3</td>\n",
       "      <td>CALIFICACIONES U4</td>\n",
       "    </tr>\n",
       "    <tr>\n",
       "      <th>3</th>\n",
       "      <td>CASILLAS HERNANDEZ GUSTAVO ANGEL</td>\n",
       "      <td>100</td>\n",
       "      <td>88</td>\n",
       "      <td>74</td>\n",
       "      <td>92</td>\n",
       "    </tr>\n",
       "    <tr>\n",
       "      <th>2</th>\n",
       "      <td>CARDONA RUIZ JONATHAN YAEL</td>\n",
       "      <td>77</td>\n",
       "      <td>85</td>\n",
       "      <td>89</td>\n",
       "      <td>91</td>\n",
       "    </tr>\n",
       "    <tr>\n",
       "      <th>1</th>\n",
       "      <td>CALZADA NERI JUAN FRANCISCO</td>\n",
       "      <td>91</td>\n",
       "      <td>99</td>\n",
       "      <td>90</td>\n",
       "      <td>84</td>\n",
       "    </tr>\n",
       "    <tr>\n",
       "      <th>6</th>\n",
       "      <td>DELGADO SILVA JOSE DE JESUS</td>\n",
       "      <td>93</td>\n",
       "      <td>90</td>\n",
       "      <td>100</td>\n",
       "      <td>80</td>\n",
       "    </tr>\n",
       "    <tr>\n",
       "      <th>5</th>\n",
       "      <td>COLLAZO DE LUNA CARLOS EDUARDO</td>\n",
       "      <td>73</td>\n",
       "      <td>87</td>\n",
       "      <td>77</td>\n",
       "      <td>73</td>\n",
       "    </tr>\n",
       "    <tr>\n",
       "      <th>4</th>\n",
       "      <td>CHAVIRA TORRES DAVID</td>\n",
       "      <td>84</td>\n",
       "      <td>81</td>\n",
       "      <td>84</td>\n",
       "      <td>72</td>\n",
       "    </tr>\n",
       "  </tbody>\n",
       "</table>\n",
       "</div>"
      ],
      "text/plain": [
       "                                  0                  1                  2  \\\n",
       "0                           ALUMNOS  CALIFICACIONES U1  CALIFICACIONES U2   \n",
       "3  CASILLAS HERNANDEZ GUSTAVO ANGEL                100                 88   \n",
       "2        CARDONA RUIZ JONATHAN YAEL                 77                 85   \n",
       "1       CALZADA NERI JUAN FRANCISCO                 91                 99   \n",
       "6       DELGADO SILVA JOSE DE JESUS                 93                 90   \n",
       "5    COLLAZO DE LUNA CARLOS EDUARDO                 73                 87   \n",
       "4              CHAVIRA TORRES DAVID                 84                 81   \n",
       "\n",
       "                   3                  4  \n",
       "0  CALIFICACIONES U3  CALIFICACIONES U4  \n",
       "3                 74                 92  \n",
       "2                 89                 91  \n",
       "1                 90                 84  \n",
       "6                100                 80  \n",
       "5                 77                 73  \n",
       "4                 84                 72  "
      ]
     },
     "execution_count": 23,
     "metadata": {},
     "output_type": "execute_result"
    }
   ],
   "source": [
    "#You can also stratify the data in ascending or descending order, with the code (_).sort_values(by=('_'),ascending = (true,false))\n",
    "'''\n",
    "For example, let's stratify students in relation to their 4th unit average. \n",
    "'''\n",
    "\n",
    "bd.sort_values(by = 4 , ascending=False)"
   ]
  },
  {
   "attachments": {},
   "cell_type": "markdown",
   "metadata": {},
   "source": [
    "*Here we can see that row 4 was stratified from highest to lowest in relation to its rating.*"
   ]
  },
  {
   "cell_type": "code",
   "execution_count": 24,
   "metadata": {},
   "outputs": [
    {
     "data": {
      "text/html": [
       "<div>\n",
       "<style scoped>\n",
       "    .dataframe tbody tr th:only-of-type {\n",
       "        vertical-align: middle;\n",
       "    }\n",
       "\n",
       "    .dataframe tbody tr th {\n",
       "        vertical-align: top;\n",
       "    }\n",
       "\n",
       "    .dataframe thead th {\n",
       "        text-align: right;\n",
       "    }\n",
       "</style>\n",
       "<table border=\"1\" class=\"dataframe\">\n",
       "  <thead>\n",
       "    <tr style=\"text-align: right;\">\n",
       "      <th></th>\n",
       "      <th>0</th>\n",
       "      <th>1</th>\n",
       "      <th>2</th>\n",
       "      <th>3</th>\n",
       "      <th>4</th>\n",
       "    </tr>\n",
       "  </thead>\n",
       "  <tbody>\n",
       "    <tr>\n",
       "      <th>0</th>\n",
       "      <td>ALUMNOS</td>\n",
       "      <td>CALIFICACIONES U1</td>\n",
       "      <td>CALIFICACIONES U2</td>\n",
       "      <td>CALIFICACIONES U3</td>\n",
       "      <td>CALIFICACIONES U4</td>\n",
       "    </tr>\n",
       "    <tr>\n",
       "      <th>1</th>\n",
       "      <td>CALZADA NERI JUAN FRANCISCO</td>\n",
       "      <td>91</td>\n",
       "      <td>99</td>\n",
       "      <td>90</td>\n",
       "      <td>84</td>\n",
       "    </tr>\n",
       "    <tr>\n",
       "      <th>6</th>\n",
       "      <td>DELGADO SILVA JOSE DE JESUS</td>\n",
       "      <td>93</td>\n",
       "      <td>90</td>\n",
       "      <td>100</td>\n",
       "      <td>80</td>\n",
       "    </tr>\n",
       "    <tr>\n",
       "      <th>3</th>\n",
       "      <td>CASILLAS HERNANDEZ GUSTAVO ANGEL</td>\n",
       "      <td>100</td>\n",
       "      <td>88</td>\n",
       "      <td>74</td>\n",
       "      <td>92</td>\n",
       "    </tr>\n",
       "    <tr>\n",
       "      <th>5</th>\n",
       "      <td>COLLAZO DE LUNA CARLOS EDUARDO</td>\n",
       "      <td>73</td>\n",
       "      <td>87</td>\n",
       "      <td>77</td>\n",
       "      <td>73</td>\n",
       "    </tr>\n",
       "    <tr>\n",
       "      <th>2</th>\n",
       "      <td>CARDONA RUIZ JONATHAN YAEL</td>\n",
       "      <td>77</td>\n",
       "      <td>85</td>\n",
       "      <td>89</td>\n",
       "      <td>91</td>\n",
       "    </tr>\n",
       "    <tr>\n",
       "      <th>4</th>\n",
       "      <td>CHAVIRA TORRES DAVID</td>\n",
       "      <td>84</td>\n",
       "      <td>81</td>\n",
       "      <td>84</td>\n",
       "      <td>72</td>\n",
       "    </tr>\n",
       "  </tbody>\n",
       "</table>\n",
       "</div>"
      ],
      "text/plain": [
       "                                  0                  1                  2  \\\n",
       "0                           ALUMNOS  CALIFICACIONES U1  CALIFICACIONES U2   \n",
       "1       CALZADA NERI JUAN FRANCISCO                 91                 99   \n",
       "6       DELGADO SILVA JOSE DE JESUS                 93                 90   \n",
       "3  CASILLAS HERNANDEZ GUSTAVO ANGEL                100                 88   \n",
       "5    COLLAZO DE LUNA CARLOS EDUARDO                 73                 87   \n",
       "2        CARDONA RUIZ JONATHAN YAEL                 77                 85   \n",
       "4              CHAVIRA TORRES DAVID                 84                 81   \n",
       "\n",
       "                   3                  4  \n",
       "0  CALIFICACIONES U3  CALIFICACIONES U4  \n",
       "1                 90                 84  \n",
       "6                100                 80  \n",
       "3                 74                 92  \n",
       "5                 77                 73  \n",
       "2                 89                 91  \n",
       "4                 84                 72  "
      ]
     },
     "execution_count": 24,
     "metadata": {},
     "output_type": "execute_result"
    }
   ],
   "source": [
    "#You can also stratify the data in ascending or descending order, with the code (_).sort_values(by=('_'),ascending = (true,false))\n",
    "'''\n",
    "For example, let's stratify students in relation to their 2nd unit average. \n",
    "'''\n",
    "\n",
    "bd.sort_values(by = 2 , ascending=False)"
   ]
  },
  {
   "cell_type": "code",
   "execution_count": 25,
   "metadata": {},
   "outputs": [
    {
     "data": {
      "text/html": [
       "<div>\n",
       "<style scoped>\n",
       "    .dataframe tbody tr th:only-of-type {\n",
       "        vertical-align: middle;\n",
       "    }\n",
       "\n",
       "    .dataframe tbody tr th {\n",
       "        vertical-align: top;\n",
       "    }\n",
       "\n",
       "    .dataframe thead th {\n",
       "        text-align: right;\n",
       "    }\n",
       "</style>\n",
       "<table border=\"1\" class=\"dataframe\">\n",
       "  <thead>\n",
       "    <tr style=\"text-align: right;\">\n",
       "      <th></th>\n",
       "      <th>0</th>\n",
       "      <th>1</th>\n",
       "      <th>2</th>\n",
       "      <th>3</th>\n",
       "      <th>4</th>\n",
       "    </tr>\n",
       "  </thead>\n",
       "  <tbody>\n",
       "    <tr>\n",
       "      <th>2</th>\n",
       "      <td>CARDONA RUIZ JONATHAN YAEL</td>\n",
       "      <td>77</td>\n",
       "      <td>85</td>\n",
       "      <td>89</td>\n",
       "      <td>91</td>\n",
       "    </tr>\n",
       "    <tr>\n",
       "      <th>3</th>\n",
       "      <td>CASILLAS HERNANDEZ GUSTAVO ANGEL</td>\n",
       "      <td>100</td>\n",
       "      <td>88</td>\n",
       "      <td>74</td>\n",
       "      <td>92</td>\n",
       "    </tr>\n",
       "    <tr>\n",
       "      <th>4</th>\n",
       "      <td>CHAVIRA TORRES DAVID</td>\n",
       "      <td>84</td>\n",
       "      <td>81</td>\n",
       "      <td>84</td>\n",
       "      <td>72</td>\n",
       "    </tr>\n",
       "  </tbody>\n",
       "</table>\n",
       "</div>"
      ],
      "text/plain": [
       "                                  0    1   2   3   4\n",
       "2        CARDONA RUIZ JONATHAN YAEL   77  85  89  91\n",
       "3  CASILLAS HERNANDEZ GUSTAVO ANGEL  100  88  74  92\n",
       "4              CHAVIRA TORRES DAVID   84  81  84  72"
      ]
     },
     "execution_count": 25,
     "metadata": {},
     "output_type": "execute_result"
    }
   ],
   "source": [
    "#We can also display specific sections of the tables with the command (_) [_:_].\n",
    "\n",
    "bd[2:5]"
   ]
  },
  {
   "cell_type": "code",
   "execution_count": 26,
   "metadata": {},
   "outputs": [
    {
     "data": {
      "text/html": [
       "<div>\n",
       "<style scoped>\n",
       "    .dataframe tbody tr th:only-of-type {\n",
       "        vertical-align: middle;\n",
       "    }\n",
       "\n",
       "    .dataframe tbody tr th {\n",
       "        vertical-align: top;\n",
       "    }\n",
       "\n",
       "    .dataframe thead th {\n",
       "        text-align: right;\n",
       "    }\n",
       "</style>\n",
       "<table border=\"1\" class=\"dataframe\">\n",
       "  <thead>\n",
       "    <tr style=\"text-align: right;\">\n",
       "      <th></th>\n",
       "      <th>2</th>\n",
       "      <th>3</th>\n",
       "    </tr>\n",
       "  </thead>\n",
       "  <tbody>\n",
       "    <tr>\n",
       "      <th>2</th>\n",
       "      <td>85</td>\n",
       "      <td>89</td>\n",
       "    </tr>\n",
       "    <tr>\n",
       "      <th>3</th>\n",
       "      <td>88</td>\n",
       "      <td>74</td>\n",
       "    </tr>\n",
       "    <tr>\n",
       "      <th>4</th>\n",
       "      <td>81</td>\n",
       "      <td>84</td>\n",
       "    </tr>\n",
       "    <tr>\n",
       "      <th>5</th>\n",
       "      <td>87</td>\n",
       "      <td>77</td>\n",
       "    </tr>\n",
       "  </tbody>\n",
       "</table>\n",
       "</div>"
      ],
      "text/plain": [
       "    2   3\n",
       "2  85  89\n",
       "3  88  74\n",
       "4  81  84\n",
       "5  87  77"
      ]
     },
     "execution_count": 26,
     "metadata": {},
     "output_type": "execute_result"
    }
   ],
   "source": [
    "#Now, i want to see only the grades for units 2 and 3 for the number 2 to number 5 of the list. \n",
    "\n",
    "bd.loc[2:5, [2, 3]]"
   ]
  },
  {
   "cell_type": "code",
   "execution_count": 27,
   "metadata": {},
   "outputs": [
    {
     "data": {
      "text/plain": [
       "0    CALIFICACIONES U2\n",
       "1                   99\n",
       "2                   85\n",
       "3                   88\n",
       "4                   81\n",
       "5                   87\n",
       "6                   90\n",
       "Name: 2, dtype: object"
      ]
     },
     "execution_count": 27,
     "metadata": {},
     "output_type": "execute_result"
    }
   ],
   "source": [
    "bd [2]"
   ]
  },
  {
   "cell_type": "code",
   "execution_count": 28,
   "metadata": {},
   "outputs": [],
   "source": [
    "bd_X = bd[2]"
   ]
  },
  {
   "cell_type": "code",
   "execution_count": 29,
   "metadata": {},
   "outputs": [
    {
     "data": {
      "text/plain": [
       "pandas.core.series.Series"
      ]
     },
     "execution_count": 29,
     "metadata": {},
     "output_type": "execute_result"
    }
   ],
   "source": [
    "type (bd_X)"
   ]
  },
  {
   "cell_type": "code",
   "execution_count": 30,
   "metadata": {},
   "outputs": [
    {
     "data": {
      "text/plain": [
       "0    CALIFICACIONES U2\n",
       "1                   99\n",
       "2                   85\n",
       "3                   88\n",
       "4                   81\n",
       "5                   87\n",
       "6                   90\n",
       "Name: 2, dtype: object"
      ]
     },
     "execution_count": 30,
     "metadata": {},
     "output_type": "execute_result"
    }
   ],
   "source": [
    "bd_X"
   ]
  },
  {
   "attachments": {},
   "cell_type": "markdown",
   "metadata": {},
   "source": [
    "***Excerceise 2***\n",
    "\n",
    "*Now, to continue with our graphs, we will use the following function for x*\n",
    "\n",
    "Defining a funtion with $x=[1, 2,..., 50]$ and $y=2x-3$.\n",
    "\n",
    "$f(x)={2x-3}$\n"
   ]
  },
  {
   "cell_type": "code",
   "execution_count": 31,
   "metadata": {},
   "outputs": [
    {
     "name": "stdout",
     "output_type": "stream",
     "text": [
      "     0   1\n",
      "0    x   y\n",
      "1    1  -1\n",
      "2    2   1\n",
      "3    3   3\n",
      "4    4   5\n",
      "5    5   7\n",
      "6    6   9\n",
      "7    7  11\n",
      "8    8  13\n",
      "9    9  15\n",
      "10  10  17\n",
      "11  11  19\n",
      "12  12  21\n",
      "13  13  23\n",
      "14  14  25\n",
      "15  15  27\n",
      "16  16  29\n",
      "17  17  31\n",
      "18  18  33\n",
      "19  19  35\n",
      "20  20  37\n",
      "21  21  39\n",
      "22  22  41\n",
      "23  23  43\n",
      "24  24  45\n",
      "25  25  47\n",
      "26  26  49\n",
      "27  27  51\n",
      "28  28  53\n",
      "29  29  55\n",
      "30  30  57\n",
      "31  31  59\n",
      "32  32  61\n",
      "33  33  63\n",
      "34  34  65\n",
      "35  35  67\n",
      "36  36  69\n",
      "37  37  71\n",
      "38  38  73\n",
      "39  39  75\n",
      "40  40  77\n",
      "41  41  79\n",
      "42  42  81\n",
      "43  43  83\n",
      "44  44  85\n",
      "45  45  87\n",
      "46  46  89\n",
      "47  47  91\n",
      "48  48  93\n",
      "49  49  95\n",
      "50  50  97\n",
      "<class 'pandas.core.frame.DataFrame'>\n"
     ]
    }
   ],
   "source": [
    "import pandas as pd\n",
    "import seaborn as sns\n",
    "import numpy as np\n",
    "import control as cn\n",
    "import matplotlib.pyplot as plt\n",
    "\n",
    "fc = pd.read_csv('C:/Users/luisd/Desktop/function.csv',header = None)\n",
    "print(fc) \n",
    "\n",
    "print(type(fc))"
   ]
  },
  {
   "attachments": {},
   "cell_type": "markdown",
   "metadata": {},
   "source": [
    "***vi Graphs. 📉*** <a class=\"anchor\" id=\"Simple_plots\"></a>\n",
    "\n",
    "***vi.i Simple plots 📉***\n",
    "\n",
    "---"
   ]
  },
  {
   "attachments": {},
   "cell_type": "markdown",
   "metadata": {},
   "source": [
    "*(VILLANUEVA, 2023) Graphical representation of data is an essential part of machine learning. Graphs allow us to interpret the results and communicate our findings.*\n",
    "\n",
    "*I. Seaborn allows us to visualize data from any DataFrame. Its simple syntax is ideal for easily making a wide variety of graphs, such as scatter plots, line graphs, histograms, etc. In this section we will introduce how to make some basic graphs from our dataset data.*\n",
    "\n",
    "*II. To make them, we can use, as we have been doing in the previous sections, the functions integrated to the module. In this case, we will make a scatter plot. The function creates a figure (with a default size) and receives the parameters we want it to plot. For example, the following code shows how to plot the numerical values of the \"x\" and \"y\" columns of our DataFrame.*"
   ]
  },
  {
   "cell_type": "code",
   "execution_count": 32,
   "metadata": {},
   "outputs": [
    {
     "data": {
      "text/plain": [
       "<AxesSubplot: xlabel='0', ylabel='1'>"
      ]
     },
     "execution_count": 32,
     "metadata": {},
     "output_type": "execute_result"
    },
    {
     "data": {
      "image/png": "[encoded data removed]",
      "text/plain": [
       "<Figure size 640x480 with 1 Axes>"
      ]
     },
     "metadata": {},
     "output_type": "display_data"
    }
   ],
   "source": [
    "sns.scatterplot(x= 0, y = 1, data=fc)"
   ]
  },
  {
   "cell_type": "code",
   "execution_count": 33,
   "metadata": {},
   "outputs": [
    {
     "data": {
      "text/plain": [
       "<AxesSubplot: xlabel='0', ylabel='1'>"
      ]
     },
     "execution_count": 33,
     "metadata": {},
     "output_type": "execute_result"
    },
    {
     "data": {
      "image/png": "[encoded data removed]",
      "text/plain": [
       "<Figure size 640x480 with 1 Axes>"
      ]
     },
     "metadata": {},
     "output_type": "display_data"
    }
   ],
   "source": [
    "sns.scatterplot(x=0, y=1, hue=2, data=fc)"
   ]
  },
  {
   "cell_type": "code",
   "execution_count": 34,
   "metadata": {},
   "outputs": [
    {
     "name": "stdout",
     "output_type": "stream",
     "text": [
      "The graph of this transfer function would look as follows.\n"
     ]
    },
    {
     "data": {
      "text/plain": [
       "<Figure size 2000x2000 with 0 Axes>"
      ]
     },
     "metadata": {},
     "output_type": "display_data"
    },
    {
     "data": {
      "image/png": "[encoded data removed]",
      "text/plain": [
       "<Figure size 640x480 with 1 Axes>"
      ]
     },
     "metadata": {},
     "output_type": "display_data"
    }
   ],
   "source": [
    "#Plot Results\n",
    "figure = plt.figure(figsize=(20,20))\n",
    "plt.figure()\n",
    "plt.plot(fc[0],fc[1],label='f(x)=2x-3')\n",
    "plt.title('Plotting Function')\n",
    "plt.legend()\n",
    "plt.xlabel('Time Domain')\n",
    "plt.axis([0,40,0,40])\n",
    "print('The graph of this transfer function would look as follows.')\n",
    "plt.show()"
   ]
  },
  {
   "cell_type": "code",
   "execution_count": 35,
   "metadata": {},
   "outputs": [
    {
     "data": {
      "image/png": "[encoded data removed]",
      "text/plain": [
       "<Figure size 1000x1000 with 1 Axes>"
      ]
     },
     "metadata": {},
     "output_type": "display_data"
    }
   ],
   "source": [
    "\n",
    "#Finally, we will use the ax. function as a different way to make a table.\n",
    "\n",
    "figure = plt.figure(figsize=(10,10))\n",
    "ax = figure.add_subplot(111)\n",
    "ax.plot(fc[0],fc[1],label='f(x)=2x-3')\n",
    "ax.set_label('Plotting Transfer Function')\n",
    "ax.set_xlabel('x')\n",
    "ax.set_ylabel('f(x)')\n",
    "ax.axis([0,50,0,50])\n",
    "ax.grid()\n",
    "plt.show()"
   ]
  },
  {
   "attachments": {},
   "cell_type": "markdown",
   "metadata": {},
   "source": [
    "***vi Graphs. 📉*** <a class=\"anchor\" id=\"Multiple_plots\"></a>\n",
    "\n",
    "***vi.ii Multiple plots 📉***\n",
    "\n",
    "---"
   ]
  },
  {
   "cell_type": "code",
   "execution_count": 36,
   "metadata": {},
   "outputs": [
    {
     "data": {
      "text/plain": [
       "Text(0.5, 1.0, 'BARPLOT GRADES')"
      ]
     },
     "execution_count": 36,
     "metadata": {},
     "output_type": "execute_result"
    },
    {
     "data": {
      "image/png": "[encoded data removed]",
      "text/plain": [
       "<Figure size 640x480 with 1 Axes>"
      ]
     },
     "metadata": {},
     "output_type": "display_data"
    }
   ],
   "source": [
    "import seaborn as sns\n",
    "import pandas as pd\n",
    "\n",
    "'''\n",
    "\n",
    "Finally, we will make a bar chart in relation to the supposed grades obtained by our group, including the teacher.\n",
    "\n",
    "'''\n",
    "\n",
    "\n",
    "# We create a DataFrame with some dummy ratings\n",
    "grades = pd.DataFrame({'Nombre': ['LUIS', 'EDGAR', 'DIEGO', 'RICARDO', 'DR. FRANCISCO'],\n",
    "                   \n",
    "                       \n",
    "                       'Calificacion': [8.5, 9.2, 8.0, 9.8, 9.0]})\n",
    "\n",
    "# We use Seaborn to create the graph\n",
    "sns.set(style=\"darkgrid\")\n",
    "sns.barplot(x='Nombre', y='Calificacion', data=grades)\n",
    "plt.title('BARPLOT GRADES')"
   ]
  },
  {
   "attachments": {},
   "cell_type": "markdown",
   "metadata": {},
   "source": [
    "For this example, we are going to plot the distribution of a numeric variable using Seaborn's distplot() function.\n"
   ]
  },
  {
   "cell_type": "code",
   "execution_count": 37,
   "metadata": {},
   "outputs": [
    {
     "name": "stderr",
     "output_type": "stream",
     "text": [
      "C:\\Users\\luisd\\AppData\\Local\\Temp\\ipykernel_11560\\2666240787.py:9: UserWarning: \n",
      "\n",
      "`distplot` is a deprecated function and will be removed in seaborn v0.14.0.\n",
      "\n",
      "Please adapt your code to use either `displot` (a figure-level function with\n",
      "similar flexibility) or `histplot` (an axes-level function for histograms).\n",
      "\n",
      "For a guide to updating your code to use the new functions, please see\n",
      "https://gist.github.com/mwaskom/de44147ed2974457ad6372750bbe5751\n",
      "\n",
      "  sns.distplot(data, color=\"darkorange\")\n"
     ]
    },
    {
     "data": {
      "image/png": "[encoded data removed]",
      "text/plain": [
       "<Figure size 640x480 with 1 Axes>"
      ]
     },
     "metadata": {},
     "output_type": "display_data"
    }
   ],
   "source": [
    "import seaborn as sns\n",
    "import matplotlib.pyplot as plt\n",
    "import numpy as np\n",
    "\n",
    "#Next, we define our plot_distribution() function, which accepts as parameter a data array and a title for the plot:\n",
    "\n",
    "def plot_distribution(data, title):\n",
    "    sns.set(style=\"whitegrid\")\n",
    "    sns.distplot(data, color=\"darkorange\")\n",
    "    plt.title(title)\n",
    "    plt.xlabel(\"Value\")\n",
    "\n",
    "#Next, we define our plot_distribution() function, which accepts as parameter a data array and a title for the plot:\n",
    "#Finally, we can call our plot_distribution() function to plot the data. For example, we can create an array of random data and plot its distribution as follows:\n",
    "#Create random data\n",
    "data = np.random.randn(1000)\n",
    "plot_distribution(data, \"Random data distribution\")\n"
   ]
  },
  {
   "attachments": {},
   "cell_type": "markdown",
   "metadata": {},
   "source": [
    "***viii. REFERENCES 📠*** <a class=\"anchor\" id=\"References\"></a>\n",
    "\n",
    "---"
   ]
  },
  {
   "attachments": {},
   "cell_type": "markdown",
   "metadata": {},
   "source": [
    "*The Python Tutorial. (s. f.). Python documentation. https://docs.python.org/3/tutorial/*\n",
    "\n",
    "*Constantes y variables. (s. f.). © Copyright IBM Corp. 2005, 2009. https://www.ibm.com/docs/es/tcamfma/6.3.0?topic=tesl-constants-variables-4*\n",
    "\n",
    "*Tipos de datos elementales. (s. f.). https://www.ibm.com/docs/es/ibm-mq/9.3?topic=mqi-elementary-data-types*\n",
    "\n",
    "*Tipos de datos numéricos exactos. (s. f.). © Copyright IBM Corp. 2014. https://www.ibm.com/docs/es/psfa/7.1.0?topic=types-exact-numeric-data*\n",
    "\n",
    "\n",
    "*Librerías de Python, ¿qué son y cuáles son las mejores? (s. f.). Immune Technology Institute. https://immune.institute/blog/librerias-python-que-son/*\n",
    "\n",
    "*La biblioteca estándar de Python. (s. f.). Python documentation. https://docs.python.org/es/3/library/index.html*\n",
    "\n",
    "*Santos, P. R. D. L. (2022, 31 enero). Python para todos: 5 formas de cargar datos para tus proyectos de Machine Learning - Think Big Empresas. Think Big. https://empresas.blogthinkbig.com/python-5-formas-de-cargar-datos-csv-proyectos-machine-learning/*\n",
    "\n",
    "*Hu, J. (2023, 30 enero). Python Numpy.linalg.inv() - Matriz inversa. Delft Stack. https://www.delftstack.com/es/api/numpy/python-numpy-linalg.inverse/*\n",
    "\n",
    "*VILLANUEVA, FRANCISCO, Google Colaboratory. (2023). https://colab.research.google.com/drive/1b6YOebN8l2jaLCUrLwu44USKKizddXU2?usp=sharing*\n"
   ]
  }
 ],
 "metadata": {
  "kernelspec": {
   "display_name": "Python 3",
   "language": "python",
   "name": "python3"
  },
  "language_info": {
   "codemirror_mode": {
    "name": "ipython",
    "version": 3
   },
   "file_extension": ".py",
   "mimetype": "text/x-python",
   "name": "python",
   "nbconvert_exporter": "python",
   "pygments_lexer": "ipython3",
   "version": "3.11.1"
  },
  "orig_nbformat": 4,
  "vscode": {
   "interpreter": {
    "hash": "ef29bc12223601c25a0f299a5349bf40feb3961c930fd3473e71021cb23e9e5e"
   }
  }
 },
 "nbformat": 4,
 "nbformat_minor": 2
}
